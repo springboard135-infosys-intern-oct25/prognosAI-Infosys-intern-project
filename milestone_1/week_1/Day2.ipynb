{
  "cells": [
    {
      "cell_type": "markdown",
      "metadata": {
        "id": "3TXsDuQjvTm2"
      },
      "source": [
        "**Task:**- Generated a Synthetic Dataset with columns of age, salary, department, years_experience, and is_manager."
      ]
    },
    {
      "cell_type": "code",
      "execution_count": 2,
      "metadata": {
        "id": "Wz7w7EA0vnJX"
      },
      "outputs": [],
      "source": [
        "import numpy as np\n",
        "import pandas as pd"
      ]
    },
    {
      "cell_type": "code",
      "execution_count": 3,
      "metadata": {
        "id": "0SU9OTeWvQTf"
      },
      "outputs": [],
      "source": [
        "np.random.seed(42) # For reproducibility\n",
        "n_samples = 100 # Number of samples\n",
        "\n",
        "data = {\n",
        "    'age': np.random.randint(18, 60,size=n_samples),\n",
        "    'salary': np.random.randint(30000, 120000, size=n_samples),\n",
        "    'department': np.random.choice(['IT', 'HR', 'Finance', 'Marketing'], size=n_samples),\n",
        "    'years_experience': np.round(np.random.normal(5, 2, size=n_samples), 1),\n",
        "    'is_manager': np.random.choice([0, 1], size=n_samples)\n",
        "}\n",
        "df = pd.DataFrame(data)"
      ]
    },
    {
      "cell_type": "markdown",
      "metadata": {
        "id": "DCkRLyL4vwIB"
      },
      "source": [
        "Q1. View data structure"
      ]
    },
    {
      "cell_type": "code",
      "execution_count": 4,
      "metadata": {
        "colab": {
          "base_uri": "https://localhost:8080/"
        },
        "id": "8cNya_Dgv1um",
        "outputId": "12d982fc-f450-433d-c85b-8ffa5356a477"
      },
      "outputs": [
        {
          "name": "stdout",
          "output_type": "stream",
          "text": [
            "   age  salary department  years_experience  is_manager\n",
            "0   56   38392         IT              -0.8           0\n",
            "1   46   60535  Marketing               3.4           1\n",
            "2   32  108603         HR               5.0           1\n",
            "3   25   82256         HR               4.2           1\n",
            "4   38  119135         HR               4.1           1\n",
            "    age  salary department  years_experience  is_manager\n",
            "95   59   82662         IT               4.0           0\n",
            "96   56   42688         HR               4.4           1\n",
            "97   58   55342  Marketing               6.0           0\n",
            "98   45   67157         HR              11.4           0\n",
            "99   24   97863         HR               5.2           1\n",
            "(100, 5)\n",
            "Index(['age', 'salary', 'department', 'years_experience', 'is_manager'], dtype='object')\n",
            "age                   int64\n",
            "salary                int64\n",
            "department           object\n",
            "years_experience    float64\n",
            "is_manager            int64\n",
            "dtype: object\n"
          ]
        }
      ],
      "source": [
        "print(df.head())\n",
        "print(df.tail())\n",
        "print(df.shape)\n",
        "print(df.columns)"
      ]
    },
    {
      "cell_type": "markdown",
      "metadata": {
        "id": "5Qa5U3qowG9A"
      },
      "source": [
        "Q2. Get DataFrame Info and Summary Stats"
      ]
    },
    {
      "cell_type": "code",
      "execution_count": 5,
      "metadata": {
        "colab": {
          "base_uri": "https://localhost:8080/"
        },
        "id": "wkGrkDLiv46h",
        "outputId": "036e7743-a80b-440d-8fc6-d7e1113d6d03"
      },
      "outputs": [
        {
          "name": "stdout",
          "output_type": "stream",
          "text": [
            "<class 'pandas.core.frame.DataFrame'>\n",
            "RangeIndex: 100 entries, 0 to 99\n",
            "Data columns (total 5 columns):\n",
            " #   Column            Non-Null Count  Dtype  \n",
            "---  ------            --------------  -----  \n",
            " 0   age               100 non-null    int64  \n",
            " 1   salary            100 non-null    int64  \n",
            " 2   department        100 non-null    object \n",
            " 3   years_experience  100 non-null    float64\n",
            " 4   is_manager        100 non-null    int64  \n",
            "dtypes: float64(1), int64(3), object(1)\n",
            "memory usage: 4.0+ KB\n",
            "              age         salary  years_experience  is_manager\n",
            "count  100.000000     100.000000        100.000000  100.000000\n",
            "mean    37.910000   77809.160000          4.823000    0.470000\n",
            "std     12.219454   26058.643576          2.237822    0.501614\n",
            "min     18.000000   30206.000000         -0.800000    0.000000\n",
            "25%     26.750000   55141.000000          3.475000    0.000000\n",
            "50%     38.000000   80932.000000          4.700000    0.000000\n",
            "75%     46.250000   98107.250000          6.000000    1.000000\n",
            "max     59.000000  119474.000000         11.400000    1.000000\n",
            "       department\n",
            "count         100\n",
            "unique          4\n",
            "top     Marketing\n",
            "freq           36\n"
          ]
        }
      ],
      "source": [
        "df.info()\n",
        "print(df.describe())\n",
        "print(df.describe(include='object'))"
      ]
    },
    {
      "cell_type": "markdown",
      "metadata": {
        "id": "GrZWQ51swPhB"
      },
      "source": [
        "Q3. Do Simple Numpy Operations"
      ]
    },
    {
      "cell_type": "code",
      "execution_count": 6,
      "metadata": {
        "colab": {
          "base_uri": "https://localhost:8080/"
        },
        "id": "f3_LF3ylwOWT",
        "outputId": "b4d146ce-e110-45f9-ea23-64249663249b"
      },
      "outputs": [
        {
          "name": "stdout",
          "output_type": "stream",
          "text": [
            "Mean Salary: 77809.16\n",
            "Median Salary: 80932.0\n",
            "Max Age: 59\n",
            "Min Age: 18\n",
            "Std of Years Experience: 2.2266052636244265\n"
          ]
        }
      ],
      "source": [
        "# Mean and median of salary\n",
        "mean_salary = np.mean(df['salary'])\n",
        "median_salary = np.median(df['salary'])\n",
        "print(\"Mean Salary:\", mean_salary)\n",
        "print(\"Median Salary:\", median_salary)\n",
        "\n",
        "# Maximum and minimum of age\n",
        "print(\"Max Age:\", np.max(df['age']))\n",
        "print(\"Min Age:\", np.min(df['age']))\n",
        "\n",
        "# Standard deviation of years of experience\n",
        "print(\"Std of Years Experience:\", np.std(df['years_experience']))"
      ]
    },
    {
      "cell_type": "markdown",
      "metadata": {
        "id": "f8QKtmoZwWtz"
      },
      "source": [
        "Q4. Filtering and Indexing Rows"
      ]
    },
    {
      "cell_type": "code",
      "execution_count": 7,
      "metadata": {
        "colab": {
          "base_uri": "https://localhost:8080/"
        },
        "id": "ftmPsHP-wT-w",
        "outputId": "3aa77309-2617-455c-a847-cf95b82c743c"
      },
      "outputs": [
        {
          "name": "stdout",
          "output_type": "stream",
          "text": [
            "   age  salary department  years_experience  is_manager\n",
            "2   32  108603         HR               5.0           1\n",
            "3   25   82256         HR               4.2           1\n",
            "4   38  119135         HR               4.1           1\n",
            "6   36  107373    Finance               6.7           1\n",
            "7   40  109575  Marketing               6.9           0\n",
            "    age  salary department  years_experience  is_manager\n",
            "10   41   40965         IT               9.5           1\n",
            "15   39   57266         IT               5.8           1\n",
            "31   20   97214         IT               5.7           1\n",
            "41   26   79080         IT               7.8           0\n",
            "53   21   74262         IT               5.4           0\n",
            "   age  salary\n",
            "0   56   38392\n",
            "1   46   60535\n",
            "2   32  108603\n",
            "3   25   82256\n",
            "4   38  119135\n"
          ]
        }
      ],
      "source": [
        "# Filter employees with salary > 80,000\n",
        "high_salary = df[df['salary'] > 80000]\n",
        "print(high_salary.head())\n",
        "\n",
        "# Employees in IT department with more than 5 years of experience\n",
        "experienced_it = df[(df['department'] == 'IT') & (df['years_experience'] > 5)]\n",
        "print(experienced_it.head())\n",
        "\n",
        "# Select specific columns\n",
        "print(df[['age', 'salary']].head())\n"
      ]
    },
    {
      "cell_type": "markdown",
      "metadata": {
        "id": "kSMO4dzTwbkR"
      },
      "source": [
        "Q5. Adding a Column"
      ]
    },
    {
      "cell_type": "code",
      "execution_count": 8,
      "metadata": {
        "colab": {
          "base_uri": "https://localhost:8080/"
        },
        "id": "K2_gCtvdwaMq",
        "outputId": "147ee6c5-e7b1-47a6-f2f8-1868c91405e2"
      },
      "outputs": [
        {
          "name": "stdout",
          "output_type": "stream",
          "text": [
            "   age  salary department  years_experience  is_manager  performance_score  \\\n",
            "0   56   38392         IT              -0.8           0                  4   \n",
            "1   46   60535  Marketing               3.4           1                  9   \n",
            "2   32  108603         HR               5.0           1                  6   \n",
            "3   25   82256         HR               4.2           1                  3   \n",
            "4   38  119135         HR               4.1           1                  1   \n",
            "\n",
            "   salary_in_lakhs  \n",
            "0             0.38  \n",
            "1             0.61  \n",
            "2             1.09  \n",
            "3             0.82  \n",
            "4             1.19  \n"
          ]
        }
      ],
      "source": [
        "df['performance_score'] = np.random.randint(1, 11, size=n_samples)\n",
        "df['salary_in_lakhs'] = np.round(df['salary'] / 100000, 2)\n",
        "print(df.head())\n"
      ]
    },
    {
      "cell_type": "markdown",
      "metadata": {
        "id": "zZ7XbljgwlQ0"
      },
      "source": [
        "Q6. Grouping and Aggregation"
      ]
    },
    {
      "cell_type": "code",
      "execution_count": 10,
      "metadata": {
        "colab": {
          "base_uri": "https://localhost:8080/"
        },
        "id": "f-d1OcUuwkpQ",
        "outputId": "336d3f2c-93da-437b-bd6e-bc08af0f47a9"
      },
      "outputs": [
        {
          "name": "stdout",
          "output_type": "stream",
          "text": [
            "department\n",
            "Finance      83124.708333\n",
            "HR           73523.052632\n",
            "IT           75825.476190\n",
            "Marketing    77684.722222\n",
            "Name: salary, dtype: float64\n",
            "is_manager\n",
            "0    76500.867925\n",
            "1    79284.468085\n",
            "Name: salary, dtype: float64\n"
          ]
        }
      ],
      "source": [
        "# Group by department and get mean salary\n",
        "dept_salary = df.groupby('department')['salary'].mean()\n",
        "print(dept_salary)\n",
        "\n",
        "\n",
        "# Average salary for managers vs non-managers\n",
        "manager_salary = df.groupby('is_manager')['salary'].mean()\n",
        "print(manager_salary)\n"
      ]
    },
    {
      "cell_type": "code",
      "execution_count": null,
      "metadata": {
        "id": "birUzKcFwqdd"
      },
      "outputs": [],
      "source": []
    }
  ],
  "metadata": {
    "colab": {
      "provenance": []
    },
    "kernelspec": {
      "display_name": "Python 3",
      "name": "python3"
    },
    "language_info": {
      "name": "python"
    }
  },
  "nbformat": 4,
  "nbformat_minor": 0
}
