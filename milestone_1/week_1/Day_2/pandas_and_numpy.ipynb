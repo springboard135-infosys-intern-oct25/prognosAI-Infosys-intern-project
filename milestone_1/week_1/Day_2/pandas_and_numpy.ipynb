{
<<<<<<< HEAD
 "cells": [
  {
   "cell_type": "markdown",
   "id": "a5bdadda",
   "metadata": {},
   "source": [
    "### Essential NumPy and Pandas Functions for Data Analysis\n",
    "\n",
    "Let's look at practical code snippets that demonstrate the most useful NumPy and pandas methods for data analysis in Python. You can use these in a Jupyter notebook for experimentation and workflow mastery."
   ]
  },
  {
   "cell_type": "markdown",
   "id": "d756a7ff",
   "metadata": {},
   "source": [
    "#### NumPy Basics for Data Analysis\n",
    "Import NumPy:"
   ]
  },
  {
   "cell_type": "code",
   "execution_count": 2,
   "id": "11776fab",
   "metadata": {},
   "outputs": [],
   "source": [
    "import numpy as np"
   ]
  },
  {
   "cell_type": "markdown",
   "id": "697cc53d",
   "metadata": {},
   "source": [
    "1. Creating Arrays"
   ]
  },
  {
   "cell_type": "code",
   "execution_count": 3,
   "id": "5346f74e",
   "metadata": {},
   "outputs": [],
   "source": [
    "arr = np.array([1, 2, 3, 4])            # 1D array\n",
    "matrix = np.array([[1, 2], [3, 4]])     # 2D array\n",
    "zeros = np.zeros((2, 3))                # 2x3 array of zeros\n",
    "ones = np.ones((2, 3))                  # 2x3 array of ones\n",
    "rnd = np.random.rand(2, 3)              # 2x3 array of random floats"
   ]
  },
  {
   "cell_type": "markdown",
   "id": "a3c9fc2c",
   "metadata": {},
   "source": [
    "2. Array Shape, Reshape, Flatten"
   ]
  },
  {
   "cell_type": "code",
   "execution_count": 4,
   "id": "58dc11da",
   "metadata": {},
   "outputs": [
    {
     "name": "stdout",
     "output_type": "stream",
     "text": [
      "(4,)\n"
     ]
    }
   ],
   "source": [
    "print(arr.shape)                # (4,)\n",
    "reshaped = matrix.reshape((4, 1))   # Reshape to 4 rows, 1 column\n",
    "flat = matrix.ravel()               # Flatten to 1D array"
   ]
  },
  {
   "cell_type": "markdown",
   "id": "8feb28e2",
   "metadata": {},
   "source": [
    "3. Indexing and Slicing"
   ]
  },
  {
   "cell_type": "code",
   "execution_count": 5,
   "id": "e2dd3ec3",
   "metadata": {},
   "outputs": [
    {
     "name": "stdout",
     "output_type": "stream",
     "text": [
      "2\n",
      "[2 3]\n"
     ]
    }
   ],
   "source": [
    "print(matrix[0, 1])    # element at first row, second column\n",
    "print(arr[1:3])        # slice elements 1 to 2"
   ]
  },
  {
   "cell_type": "markdown",
   "id": "196ce80c",
   "metadata": {},
   "source": [
    "4. Basic Math Operations"
   ]
  },
  {
   "cell_type": "code",
   "execution_count": 6,
   "id": "cc490150",
   "metadata": {},
   "outputs": [
    {
     "name": "stdout",
     "output_type": "stream",
     "text": [
      "[11 22 33]\n",
      "[ 9 18 27]\n",
      "[10 40 90]\n",
      "[10. 10. 10.]\n"
     ]
    }
   ],
   "source": [
    "a = np.array([10, 20, 30])\n",
    "b = np.array([1, 2, 3])\n",
    "print(a + b)           # [11 22 33]\n",
    "print(a - b)           # [ 9 18 27]\n",
    "print(a * b)           # [10 40 90]\n",
    "print(a / b)           # [10. 10. 10.]\n"
   ]
  },
  {
   "cell_type": "markdown",
   "id": "80b1dca7",
   "metadata": {},
   "source": [
    "5. Aggregation and Stats"
   ]
  },
  {
   "cell_type": "code",
   "execution_count": 7,
   "id": "f593fe13",
   "metadata": {},
   "outputs": [
    {
     "data": {
      "text/plain": [
       "(np.int64(1), np.int64(4))"
      ]
     },
     "execution_count": 7,
     "metadata": {},
     "output_type": "execute_result"
    }
   ],
   "source": [
    "np.sum(arr)                 # 10\n",
    "np.mean(arr)                # 2.5\n",
    "np.std(arr)                 # Standard deviation\n",
    "np.min(arr), np.max(arr)    # Min and max values"
   ]
  },
  {
   "cell_type": "markdown",
   "id": "760c1f33",
   "metadata": {},
   "source": [
    "6. Dot Product, Matrix Ops"
   ]
  },
  {
   "cell_type": "code",
   "execution_count": 8,
   "id": "f97d960e",
   "metadata": {},
   "outputs": [],
   "source": [
    "a = np.array([1, 2, 3])\n",
    "b = np.array([4, 5, 6])\n",
    "dot = np.dot(a, b)          # 1*4 + 2*5 + 3*6 = 32\n",
    "mat = np.array([[1, 2], [3, 4]])\n",
    "mat2 = np.array([[5, 6], [7, 8]])\n",
    "matprod = np.matmul(mat, mat2) # Matrix multiplication"
   ]
  },
  {
   "cell_type": "markdown",
   "id": "fe9a547f",
   "metadata": {},
   "source": [
    "7. Logical and Filtering"
   ]
  },
  {
   "cell_type": "code",
   "execution_count": 9,
   "id": "0a1a8235",
   "metadata": {},
   "outputs": [
    {
     "data": {
      "text/plain": [
       "(array([2, 3]),)"
      ]
     },
     "execution_count": 9,
     "metadata": {},
     "output_type": "execute_result"
    }
   ],
   "source": [
    "arr[arr > 2]                # Returns [3, 4]\n",
    "np.where(arr > 2)           # Indices where condition is true"
   ]
  },
  {
   "cell_type": "markdown",
   "id": "ab927405",
   "metadata": {},
   "source": [
    "8. Random Sampling"
   ]
  },
  {
   "cell_type": "code",
   "execution_count": 10,
   "id": "4453e0d6",
   "metadata": {},
   "outputs": [
    {
     "data": {
      "text/plain": [
       "array([1, 0, 1, 1, 0, 0, 1, 1, 0, 0])"
      ]
     },
     "execution_count": 10,
     "metadata": {},
     "output_type": "execute_result"
    }
   ],
   "source": [
    "np.random.randint(0, 100, size=5) # 5 random ints 0-99\n",
    "np.random.choice([0, 1], size=10) # 10 random 0s or 1s"
   ]
  },
  {
   "cell_type": "markdown",
   "id": "d6acee10",
   "metadata": {},
   "source": [
    "#### Pandas Basics for Data Analysis\n",
    "Import pandas:"
   ]
  },
  {
   "cell_type": "code",
   "execution_count": 11,
   "id": "4c05d070",
   "metadata": {},
   "outputs": [],
   "source": [
    "import pandas as pd"
   ]
  },
  {
   "cell_type": "markdown",
   "id": "2bd15b71",
   "metadata": {},
   "source": [
    "1. Creating DataFrames"
   ]
  },
  {
   "cell_type": "code",
   "execution_count": 12,
   "id": "0f6029eb",
   "metadata": {},
   "outputs": [],
   "source": [
    "data = {'A': [1, 2, 3], 'B': [4, 5, 6]}\n",
    "df = pd.DataFrame(data) # Create DataFrame"
   ]
  },
  {
   "cell_type": "markdown",
   "id": "54d5cbde",
   "metadata": {},
   "source": [
    "2. Inspecting Data"
   ]
  },
  {
   "cell_type": "code",
   "execution_count": 13,
   "id": "d8d19d15",
   "metadata": {},
   "outputs": [
    {
     "name": "stdout",
     "output_type": "stream",
     "text": [
      "<class 'pandas.core.frame.DataFrame'>\n",
      "RangeIndex: 3 entries, 0 to 2\n",
      "Data columns (total 2 columns):\n",
      " #   Column  Non-Null Count  Dtype\n",
      "---  ------  --------------  -----\n",
      " 0   A       3 non-null      int64\n",
      " 1   B       3 non-null      int64\n",
      "dtypes: int64(2)\n",
      "memory usage: 180.0 bytes\n"
     ]
=======
  "cells": [
    {
      "cell_type": "markdown",
      "id": "a5bdadda",
      "metadata": {
        "id": "a5bdadda"
      },
      "source": [
        "### Essential NumPy and Pandas Functions for Data Analysis\n",
        "\n",
        "Let's look at practical code snippets that demonstrate the most useful NumPy and pandas methods for data analysis in Python. You can use these in a Jupyter notebook for experimentation and workflow mastery."
      ]
>>>>>>> 7bac907ad9ecae683391d6f3ddb2bddf8e2c4b0a
    },
    {
      "cell_type": "markdown",
      "id": "d756a7ff",
      "metadata": {
        "id": "d756a7ff"
      },
      "source": [
        "#### NumPy Basics for Data Analysis\n",
        "Import NumPy:"
      ]
<<<<<<< HEAD
     },
     "execution_count": 13,
     "metadata": {},
     "output_type": "execute_result"
    }
   ],
   "source": [
    "df.head()                # First 5 rows\n",
    "df.tail(3)                # Last 3 rows\n",
    "df.info()                 # DataFrame info + datatypes\n",
    "df.describe()             # Summary statistics"
   ]
  },
  {
   "cell_type": "markdown",
   "id": "29a19040",
   "metadata": {},
   "source": [
    "3. Selecting Data"
   ]
  },
  {
   "cell_type": "code",
   "execution_count": 14,
   "id": "84eac235",
   "metadata": {},
   "outputs": [
=======
    },
>>>>>>> 7bac907ad9ecae683391d6f3ddb2bddf8e2c4b0a
    {
      "cell_type": "code",
      "execution_count": 1,
      "id": "11776fab",
      "metadata": {
        "id": "11776fab"
      },
      "outputs": [],
      "source": [
        "import numpy as np"
      ]
<<<<<<< HEAD
     },
     "execution_count": 14,
     "metadata": {},
     "output_type": "execute_result"
    }
   ],
   "source": [
    "df['A']                   # Get column A\n",
    "df.loc[0]                 # Row by label (index 0)\n",
    "df.iloc[1:3]              # Rows 1-2 by position\n",
    "df[df['A'] > 1]           # Filter rows where A > 1"
   ]
  },
  {
   "cell_type": "markdown",
   "id": "a837a835",
   "metadata": {},
   "source": [
    "4. Adding/Dropping Columns"
   ]
  },
  {
   "cell_type": "code",
   "execution_count": 15,
   "id": "168301f3",
   "metadata": {},
   "outputs": [],
   "source": [
    "df['C'] = df['A'] + df['B']     # Add new column\n",
    "new_df = df.drop('B', axis=1)   # Drop column B"
   ]
  },
  {
   "cell_type": "markdown",
   "id": "f4877748",
   "metadata": {},
   "source": [
    "5. Missing Values & Types"
   ]
  },
  {
   "cell_type": "code",
   "execution_count": 16,
   "id": "aef9b727",
   "metadata": {},
   "outputs": [],
   "source": [
    "df.isnull().sum()               # Missing values per column\n",
    "df.fillna(0)                    # Replace NaNs with 0\n",
    "df['A'] = df['A'].astype(float) # Change column type"
   ]
  },
  {
   "cell_type": "markdown",
   "id": "22042fab",
   "metadata": {},
   "source": [
    "6. Grouping and Aggregation"
   ]
  },
  {
   "cell_type": "code",
   "execution_count": 17,
   "id": "5390b4ea",
   "metadata": {},
   "outputs": [
=======
    },
>>>>>>> 7bac907ad9ecae683391d6f3ddb2bddf8e2c4b0a
    {
      "cell_type": "markdown",
      "id": "697cc53d",
      "metadata": {
        "id": "697cc53d"
      },
      "source": [
        "1. Creating Arrays"
      ]
<<<<<<< HEAD
     },
     "execution_count": 17,
     "metadata": {},
     "output_type": "execute_result"
    }
   ],
   "source": [
    "grouped = df.groupby('A').sum()   # Sum columns, grouped by values in A\n",
    "df['A'].value_counts()            # Count unique values in A"
   ]
  },
  {
   "cell_type": "markdown",
   "id": "cd371dc6",
   "metadata": {},
   "source": [
    "7. Sorting"
   ]
  },
  {
   "cell_type": "code",
   "execution_count": 18,
   "id": "15817940",
   "metadata": {},
   "outputs": [
=======
    },
>>>>>>> 7bac907ad9ecae683391d6f3ddb2bddf8e2c4b0a
    {
      "cell_type": "code",
      "execution_count": 2,
      "id": "5346f74e",
      "metadata": {
        "id": "5346f74e"
      },
      "outputs": [],
      "source": [
        "arr = np.array([1, 2, 3, 4])            # 1D array\n",
        "matrix = np.array([[1, 2], [3, 4]])     # 2D array\n",
        "zeros = np.zeros((2, 3))                # 2x3 array of zeros\n",
        "ones = np.ones((2, 3))                  # 2x3 array of ones\n",
        "rnd = np.random.rand(2, 3)              # 2x3 array of random floats"
      ]
<<<<<<< HEAD
     },
     "execution_count": 18,
     "metadata": {},
     "output_type": "execute_result"
    }
   ],
   "source": [
    "df.sort_values('B', ascending=False)  # Sort by column B"
   ]
  },
  {
   "cell_type": "markdown",
   "id": "d83aeed5",
   "metadata": {},
   "source": [
    "8. Reading/Writing Files"
   ]
  },
  {
   "cell_type": "code",
   "execution_count": 19,
   "id": "2c3671c0",
   "metadata": {},
   "outputs": [
=======
    },
>>>>>>> 7bac907ad9ecae683391d6f3ddb2bddf8e2c4b0a
    {
      "cell_type": "markdown",
      "id": "a3c9fc2c",
      "metadata": {
        "id": "a3c9fc2c"
      },
      "source": [
        "2. Array Shape, Reshape, Flatten"
      ]
<<<<<<< HEAD
     },
     "execution_count": 19,
     "metadata": {},
     "output_type": "execute_result"
    }
   ],
   "source": [
    "df.to_csv('mydata.csv') # Save to CSV\n",
    "df = pd.read_csv('mydata.csv') # Load from CSV\n",
    "df.head()"
   ]
  },
  {
   "cell_type": "markdown",
   "id": "817386c4",
   "metadata": {},
   "source": [
    "9. Apply/Map Functions"
   ]
  },
  {
   "cell_type": "code",
   "execution_count": 20,
   "id": "9ffbb228",
   "metadata": {},
   "outputs": [
    {
     "data": {
      "text/html": [
       "<div>\n",
       "<style scoped>\n",
       "    .dataframe tbody tr th:only-of-type {\n",
       "        vertical-align: middle;\n",
       "    }\n",
       "\n",
       "    .dataframe tbody tr th {\n",
       "        vertical-align: top;\n",
       "    }\n",
       "\n",
       "    .dataframe thead th {\n",
       "        text-align: right;\n",
       "    }\n",
       "</style>\n",
       "<table border=\"1\" class=\"dataframe\">\n",
       "  <thead>\n",
       "    <tr style=\"text-align: right;\">\n",
       "      <th></th>\n",
       "      <th>Unnamed: 0</th>\n",
       "      <th>A</th>\n",
       "      <th>B</th>\n",
       "      <th>C</th>\n",
       "      <th>A_squared</th>\n",
       "      <th>B_label</th>\n",
       "    </tr>\n",
       "  </thead>\n",
       "  <tbody>\n",
       "    <tr>\n",
       "      <th>2</th>\n",
       "      <td>2</td>\n",
       "      <td>3.0</td>\n",
       "      <td>6</td>\n",
       "      <td>9</td>\n",
       "      <td>9.0</td>\n",
       "      <td>High</td>\n",
       "    </tr>\n",
       "    <tr>\n",
       "      <th>0</th>\n",
       "      <td>0</td>\n",
       "      <td>1.0</td>\n",
       "      <td>4</td>\n",
       "      <td>5</td>\n",
       "      <td>1.0</td>\n",
       "      <td>Low</td>\n",
       "    </tr>\n",
       "    <tr>\n",
       "      <th>1</th>\n",
       "      <td>1</td>\n",
       "      <td>2.0</td>\n",
       "      <td>5</td>\n",
       "      <td>7</td>\n",
       "      <td>4.0</td>\n",
       "      <td>Med</td>\n",
       "    </tr>\n",
       "  </tbody>\n",
       "</table>\n",
       "</div>"
      ],
      "text/plain": [
       "   Unnamed: 0    A  B  C  A_squared B_label\n",
       "2           2  3.0  6  9        9.0    High\n",
       "0           0  1.0  4  5        1.0     Low\n",
       "1           1  2.0  5  7        4.0     Med"
      ]
     },
     "execution_count": 20,
     "metadata": {},
     "output_type": "execute_result"
=======
    },
    {
      "cell_type": "code",
      "execution_count": 3,
      "id": "58dc11da",
      "metadata": {
        "colab": {
          "base_uri": "https://localhost:8080/"
        },
        "id": "58dc11da",
        "outputId": "6e04e522-0801-4554-da70-ff99655ec04e"
      },
      "outputs": [
        {
          "name": "stdout",
          "output_type": "stream",
          "text": [
            "(4,)\n"
          ]
        }
      ],
      "source": [
        "print(arr.shape)                # (4,)\n",
        "reshaped = matrix.reshape((4, 1))   # Reshape to 4 rows, 1 column\n",
        "flat = matrix.ravel()               # Flatten to 1D array"
      ]
    },
    {
      "cell_type": "markdown",
      "id": "8feb28e2",
      "metadata": {
        "id": "8feb28e2"
      },
      "source": [
        "3. Indexing and Slicing"
      ]
    },
    {
      "cell_type": "code",
      "execution_count": 4,
      "id": "e2dd3ec3",
      "metadata": {
        "colab": {
          "base_uri": "https://localhost:8080/"
        },
        "id": "e2dd3ec3",
        "outputId": "4efa6498-4735-4cd7-f30e-32ad1a904916"
      },
      "outputs": [
        {
          "name": "stdout",
          "output_type": "stream",
          "text": [
            "2\n",
            "[2 3]\n"
          ]
        }
      ],
      "source": [
        "print(matrix[0, 1])    # element at first row, second column\n",
        "print(arr[1:3])        # slice elements 1 to 2"
      ]
    },
    {
      "cell_type": "markdown",
      "id": "196ce80c",
      "metadata": {
        "id": "196ce80c"
      },
      "source": [
        "4. Basic Math Operations"
      ]
    },
    {
      "cell_type": "code",
      "execution_count": 5,
      "id": "cc490150",
      "metadata": {
        "colab": {
          "base_uri": "https://localhost:8080/"
        },
        "id": "cc490150",
        "outputId": "b61b0985-d55f-49ef-95d9-3deef0f7a795"
      },
      "outputs": [
        {
          "name": "stdout",
          "output_type": "stream",
          "text": [
            "[11 22 33]\n",
            "[ 9 18 27]\n",
            "[10 40 90]\n",
            "[10. 10. 10.]\n"
          ]
        }
      ],
      "source": [
        "a = np.array([10, 20, 30])\n",
        "b = np.array([1, 2, 3])\n",
        "print(a + b)           # [11 22 33]\n",
        "print(a - b)           # [ 9 18 27]\n",
        "print(a * b)           # [10 40 90]\n",
        "print(a / b)           # [10. 10. 10.]\n"
      ]
    },
    {
      "cell_type": "markdown",
      "id": "80b1dca7",
      "metadata": {
        "id": "80b1dca7"
      },
      "source": [
        "5. Aggregation and Stats"
      ]
    },
    {
      "cell_type": "code",
      "execution_count": 6,
      "id": "f593fe13",
      "metadata": {
        "colab": {
          "base_uri": "https://localhost:8080/"
        },
        "id": "f593fe13",
        "outputId": "0165799e-4d76-40d2-f2fd-a3c035045d29"
      },
      "outputs": [
        {
          "data": {
            "text/plain": [
              "(1, 4)"
            ]
          },
          "execution_count": 6,
          "metadata": {},
          "output_type": "execute_result"
        }
      ],
      "source": [
        "np.sum(arr)                 # 10\n",
        "np.mean(arr)                # 2.5\n",
        "np.std(arr)                 # Standard deviation\n",
        "np.min(arr), np.max(arr)    # Min and max values"
      ]
    },
    {
      "cell_type": "markdown",
      "id": "760c1f33",
      "metadata": {
        "id": "760c1f33"
      },
      "source": [
        "6. Dot Product, Matrix Ops"
      ]
    },
    {
      "cell_type": "code",
      "execution_count": 7,
      "id": "f97d960e",
      "metadata": {
        "id": "f97d960e"
      },
      "outputs": [],
      "source": [
        "a = np.array([1, 2, 3])\n",
        "b = np.array([4, 5, 6])\n",
        "dot = np.dot(a, b)          # 1*4 + 2*5 + 3*6 = 32\n",
        "mat = np.array([[1, 2], [3, 4]])\n",
        "mat2 = np.array([[5, 6], [7, 8]])\n",
        "matprod = np.matmul(mat, mat2) # Matrix multiplication"
      ]
    },
    {
      "cell_type": "markdown",
      "id": "fe9a547f",
      "metadata": {
        "id": "fe9a547f"
      },
      "source": [
        "7. Logical and Filtering"
      ]
    },
    {
      "cell_type": "code",
      "execution_count": 8,
      "id": "0a1a8235",
      "metadata": {
        "colab": {
          "base_uri": "https://localhost:8080/"
        },
        "id": "0a1a8235",
        "outputId": "27fb41f9-865a-4bfb-acbf-05343e4ac816"
      },
      "outputs": [
        {
          "data": {
            "text/plain": [
              "(array([2, 3], dtype=int64),)"
            ]
          },
          "execution_count": 8,
          "metadata": {},
          "output_type": "execute_result"
        }
      ],
      "source": [
        "arr[arr > 2]                # Returns [3, 4]\n",
        "np.where(arr > 2)           # Indices where condition is true"
      ]
    },
    {
      "cell_type": "markdown",
      "id": "ab927405",
      "metadata": {
        "id": "ab927405"
      },
      "source": [
        "8. Random Sampling"
      ]
    },
    {
      "cell_type": "code",
      "execution_count": 9,
      "id": "4453e0d6",
      "metadata": {
        "colab": {
          "base_uri": "https://localhost:8080/"
        },
        "id": "4453e0d6",
        "outputId": "b85987cc-dd58-4e78-9c93-5e93d3ed2916"
      },
      "outputs": [
        {
          "data": {
            "text/plain": [
              "array([1, 0, 0, 0, 0, 1, 1, 0, 0, 0])"
            ]
          },
          "execution_count": 9,
          "metadata": {},
          "output_type": "execute_result"
        }
      ],
      "source": [
        "np.random.randint(0, 100, size=5) # 5 random ints 0-99\n",
        "np.random.choice([0, 1], size=10) # 10 random 0s or 1s"
      ]
    },
    {
      "cell_type": "markdown",
      "id": "d6acee10",
      "metadata": {
        "id": "d6acee10"
      },
      "source": [
        "#### Pandas Basics for Data Analysis\n",
        "Import pandas:"
      ]
    },
    {
      "cell_type": "code",
      "execution_count": 10,
      "id": "4c05d070",
      "metadata": {
        "id": "4c05d070"
      },
      "outputs": [],
      "source": [
        "import pandas as pd"
      ]
    },
    {
      "cell_type": "markdown",
      "id": "2bd15b71",
      "metadata": {
        "id": "2bd15b71"
      },
      "source": [
        "1. Creating DataFrames"
      ]
    },
    {
      "cell_type": "code",
      "execution_count": 11,
      "id": "0f6029eb",
      "metadata": {
        "id": "0f6029eb"
      },
      "outputs": [],
      "source": [
        "data = {'A': [1, 2, 3], 'B': [4, 5, 6]}\n",
        "df = pd.DataFrame(data) # Create DataFrame"
      ]
    },
    {
      "cell_type": "markdown",
      "id": "54d5cbde",
      "metadata": {
        "id": "54d5cbde"
      },
      "source": [
        "2. Inspecting Data"
      ]
    },
    {
      "cell_type": "code",
      "execution_count": 12,
      "id": "d8d19d15",
      "metadata": {
        "colab": {
          "base_uri": "https://localhost:8080/",
          "height": 456
        },
        "id": "d8d19d15",
        "outputId": "dd35cc20-7902-4a11-d977-e4b982b8b871"
      },
      "outputs": [
        {
          "name": "stdout",
          "output_type": "stream",
          "text": [
            "<class 'pandas.core.frame.DataFrame'>\n",
            "RangeIndex: 3 entries, 0 to 2\n",
            "Data columns (total 2 columns):\n",
            " #   Column  Non-Null Count  Dtype\n",
            "---  ------  --------------  -----\n",
            " 0   A       3 non-null      int64\n",
            " 1   B       3 non-null      int64\n",
            "dtypes: int64(2)\n",
            "memory usage: 180.0 bytes\n"
          ]
        },
        {
          "data": {
            "text/html": [
              "<div>\n",
              "<style scoped>\n",
              "    .dataframe tbody tr th:only-of-type {\n",
              "        vertical-align: middle;\n",
              "    }\n",
              "\n",
              "    .dataframe tbody tr th {\n",
              "        vertical-align: top;\n",
              "    }\n",
              "\n",
              "    .dataframe thead th {\n",
              "        text-align: right;\n",
              "    }\n",
              "</style>\n",
              "<table border=\"1\" class=\"dataframe\">\n",
              "  <thead>\n",
              "    <tr style=\"text-align: right;\">\n",
              "      <th></th>\n",
              "      <th>A</th>\n",
              "      <th>B</th>\n",
              "    </tr>\n",
              "  </thead>\n",
              "  <tbody>\n",
              "    <tr>\n",
              "      <th>count</th>\n",
              "      <td>3.0</td>\n",
              "      <td>3.0</td>\n",
              "    </tr>\n",
              "    <tr>\n",
              "      <th>mean</th>\n",
              "      <td>2.0</td>\n",
              "      <td>5.0</td>\n",
              "    </tr>\n",
              "    <tr>\n",
              "      <th>std</th>\n",
              "      <td>1.0</td>\n",
              "      <td>1.0</td>\n",
              "    </tr>\n",
              "    <tr>\n",
              "      <th>min</th>\n",
              "      <td>1.0</td>\n",
              "      <td>4.0</td>\n",
              "    </tr>\n",
              "    <tr>\n",
              "      <th>25%</th>\n",
              "      <td>1.5</td>\n",
              "      <td>4.5</td>\n",
              "    </tr>\n",
              "    <tr>\n",
              "      <th>50%</th>\n",
              "      <td>2.0</td>\n",
              "      <td>5.0</td>\n",
              "    </tr>\n",
              "    <tr>\n",
              "      <th>75%</th>\n",
              "      <td>2.5</td>\n",
              "      <td>5.5</td>\n",
              "    </tr>\n",
              "    <tr>\n",
              "      <th>max</th>\n",
              "      <td>3.0</td>\n",
              "      <td>6.0</td>\n",
              "    </tr>\n",
              "  </tbody>\n",
              "</table>\n",
              "</div>"
            ],
            "text/plain": [
              "         A    B\n",
              "count  3.0  3.0\n",
              "mean   2.0  5.0\n",
              "std    1.0  1.0\n",
              "min    1.0  4.0\n",
              "25%    1.5  4.5\n",
              "50%    2.0  5.0\n",
              "75%    2.5  5.5\n",
              "max    3.0  6.0"
            ]
          },
          "execution_count": 12,
          "metadata": {},
          "output_type": "execute_result"
        }
      ],
      "source": [
        "df.head()                # First 5 rows\n",
        "df.tail(3)                # Last 3 rows\n",
        "df.info()                 # DataFrame info + datatypes\n",
        "df.describe()             # Summary statistics"
      ]
    },
    {
      "cell_type": "markdown",
      "id": "29a19040",
      "metadata": {
        "id": "29a19040"
      },
      "source": [
        "3. Selecting Data"
      ]
    },
    {
      "cell_type": "code",
      "execution_count": 13,
      "id": "84eac235",
      "metadata": {
        "colab": {
          "base_uri": "https://localhost:8080/",
          "height": 112
        },
        "id": "84eac235",
        "outputId": "9d31c26d-5ae6-44fd-e429-25102109db90"
      },
      "outputs": [
        {
          "data": {
            "text/html": [
              "<div>\n",
              "<style scoped>\n",
              "    .dataframe tbody tr th:only-of-type {\n",
              "        vertical-align: middle;\n",
              "    }\n",
              "\n",
              "    .dataframe tbody tr th {\n",
              "        vertical-align: top;\n",
              "    }\n",
              "\n",
              "    .dataframe thead th {\n",
              "        text-align: right;\n",
              "    }\n",
              "</style>\n",
              "<table border=\"1\" class=\"dataframe\">\n",
              "  <thead>\n",
              "    <tr style=\"text-align: right;\">\n",
              "      <th></th>\n",
              "      <th>A</th>\n",
              "      <th>B</th>\n",
              "    </tr>\n",
              "  </thead>\n",
              "  <tbody>\n",
              "    <tr>\n",
              "      <th>1</th>\n",
              "      <td>2</td>\n",
              "      <td>5</td>\n",
              "    </tr>\n",
              "    <tr>\n",
              "      <th>2</th>\n",
              "      <td>3</td>\n",
              "      <td>6</td>\n",
              "    </tr>\n",
              "  </tbody>\n",
              "</table>\n",
              "</div>"
            ],
            "text/plain": [
              "   A  B\n",
              "1  2  5\n",
              "2  3  6"
            ]
          },
          "execution_count": 13,
          "metadata": {},
          "output_type": "execute_result"
        }
      ],
      "source": [
        "df['A']                   # Get column A\n",
        "df.loc[0]                 # Row by label (index 0)\n",
        "df.iloc[1:3]              # Rows 1-2 by position\n",
        "df[df['A'] > 1]           # Filter rows where A > 1"
      ]
    },
    {
      "cell_type": "markdown",
      "id": "a837a835",
      "metadata": {
        "id": "a837a835"
      },
      "source": [
        "4. Adding/Dropping Columns"
      ]
    },
    {
      "cell_type": "code",
      "execution_count": 14,
      "id": "168301f3",
      "metadata": {
        "id": "168301f3"
      },
      "outputs": [],
      "source": [
        "df['C'] = df['A'] + df['B']     # Add new column\n",
        "new_df = df.drop('B', axis=1)   # Drop column B"
      ]
    },
    {
      "cell_type": "markdown",
      "id": "f4877748",
      "metadata": {
        "id": "f4877748"
      },
      "source": [
        "5. Missing Values & Types"
      ]
    },
    {
      "cell_type": "code",
      "execution_count": 15,
      "id": "aef9b727",
      "metadata": {
        "id": "aef9b727"
      },
      "outputs": [],
      "source": [
        "df.isnull().sum()               # Missing values per column\n",
        "df.fillna(0)                    # Replace NaNs with 0\n",
        "df['A'] = df['A'].astype(float) # Change column type"
      ]
    },
    {
      "cell_type": "markdown",
      "id": "22042fab",
      "metadata": {
        "id": "22042fab"
      },
      "source": [
        "6. Grouping and Aggregation"
      ]
    },
    {
      "cell_type": "code",
      "execution_count": 16,
      "id": "5390b4ea",
      "metadata": {
        "colab": {
          "base_uri": "https://localhost:8080/",
          "height": 209
        },
        "id": "5390b4ea",
        "outputId": "d58c7b63-e0cc-40dc-99c7-8513ef705bf0"
      },
      "outputs": [
        {
          "data": {
            "text/plain": [
              "A\n",
              "1.0    1\n",
              "2.0    1\n",
              "3.0    1\n",
              "Name: count, dtype: int64"
            ]
          },
          "execution_count": 16,
          "metadata": {},
          "output_type": "execute_result"
        }
      ],
      "source": [
        "grouped = df.groupby('A').sum()   # Sum columns, grouped by values in A\n",
        "df['A'].value_counts()            # Count unique values in A"
      ]
    },
    {
      "cell_type": "markdown",
      "id": "cd371dc6",
      "metadata": {
        "id": "cd371dc6"
      },
      "source": [
        "7. Sorting"
      ]
    },
    {
      "cell_type": "code",
      "execution_count": 17,
      "id": "15817940",
      "metadata": {
        "colab": {
          "base_uri": "https://localhost:8080/",
          "height": 143
        },
        "id": "15817940",
        "outputId": "c095469d-b515-4b26-92f0-80502961511c"
      },
      "outputs": [
        {
          "data": {
            "text/html": [
              "<div>\n",
              "<style scoped>\n",
              "    .dataframe tbody tr th:only-of-type {\n",
              "        vertical-align: middle;\n",
              "    }\n",
              "\n",
              "    .dataframe tbody tr th {\n",
              "        vertical-align: top;\n",
              "    }\n",
              "\n",
              "    .dataframe thead th {\n",
              "        text-align: right;\n",
              "    }\n",
              "</style>\n",
              "<table border=\"1\" class=\"dataframe\">\n",
              "  <thead>\n",
              "    <tr style=\"text-align: right;\">\n",
              "      <th></th>\n",
              "      <th>A</th>\n",
              "      <th>B</th>\n",
              "      <th>C</th>\n",
              "    </tr>\n",
              "  </thead>\n",
              "  <tbody>\n",
              "    <tr>\n",
              "      <th>2</th>\n",
              "      <td>3.0</td>\n",
              "      <td>6</td>\n",
              "      <td>9</td>\n",
              "    </tr>\n",
              "    <tr>\n",
              "      <th>1</th>\n",
              "      <td>2.0</td>\n",
              "      <td>5</td>\n",
              "      <td>7</td>\n",
              "    </tr>\n",
              "    <tr>\n",
              "      <th>0</th>\n",
              "      <td>1.0</td>\n",
              "      <td>4</td>\n",
              "      <td>5</td>\n",
              "    </tr>\n",
              "  </tbody>\n",
              "</table>\n",
              "</div>"
            ],
            "text/plain": [
              "     A  B  C\n",
              "2  3.0  6  9\n",
              "1  2.0  5  7\n",
              "0  1.0  4  5"
            ]
          },
          "execution_count": 17,
          "metadata": {},
          "output_type": "execute_result"
        }
      ],
      "source": [
        "df.sort_values('B', ascending=False)  # Sort by column B"
      ]
    },
    {
      "cell_type": "markdown",
      "id": "d83aeed5",
      "metadata": {
        "id": "d83aeed5"
      },
      "source": [
        "8. Reading/Writing Files"
      ]
    },
    {
      "cell_type": "code",
      "execution_count": 18,
      "id": "2c3671c0",
      "metadata": {
        "colab": {
          "base_uri": "https://localhost:8080/",
          "height": 143
        },
        "id": "2c3671c0",
        "outputId": "64b1020c-e3cf-42cb-e1e3-306c4cc516a4"
      },
      "outputs": [
        {
          "data": {
            "text/html": [
              "<div>\n",
              "<style scoped>\n",
              "    .dataframe tbody tr th:only-of-type {\n",
              "        vertical-align: middle;\n",
              "    }\n",
              "\n",
              "    .dataframe tbody tr th {\n",
              "        vertical-align: top;\n",
              "    }\n",
              "\n",
              "    .dataframe thead th {\n",
              "        text-align: right;\n",
              "    }\n",
              "</style>\n",
              "<table border=\"1\" class=\"dataframe\">\n",
              "  <thead>\n",
              "    <tr style=\"text-align: right;\">\n",
              "      <th></th>\n",
              "      <th>Unnamed: 0</th>\n",
              "      <th>A</th>\n",
              "      <th>B</th>\n",
              "      <th>C</th>\n",
              "    </tr>\n",
              "  </thead>\n",
              "  <tbody>\n",
              "    <tr>\n",
              "      <th>0</th>\n",
              "      <td>0</td>\n",
              "      <td>1.0</td>\n",
              "      <td>4</td>\n",
              "      <td>5</td>\n",
              "    </tr>\n",
              "    <tr>\n",
              "      <th>1</th>\n",
              "      <td>1</td>\n",
              "      <td>2.0</td>\n",
              "      <td>5</td>\n",
              "      <td>7</td>\n",
              "    </tr>\n",
              "    <tr>\n",
              "      <th>2</th>\n",
              "      <td>2</td>\n",
              "      <td>3.0</td>\n",
              "      <td>6</td>\n",
              "      <td>9</td>\n",
              "    </tr>\n",
              "  </tbody>\n",
              "</table>\n",
              "</div>"
            ],
            "text/plain": [
              "   Unnamed: 0    A  B  C\n",
              "0           0  1.0  4  5\n",
              "1           1  2.0  5  7\n",
              "2           2  3.0  6  9"
            ]
          },
          "execution_count": 18,
          "metadata": {},
          "output_type": "execute_result"
        }
      ],
      "source": [
        "df.to_csv('mydata.csv') # Save to CSV\n",
        "df = pd.read_csv('mydata.csv') # Load from CSV\n",
        "df.head()"
      ]
    },
    {
      "cell_type": "markdown",
      "id": "817386c4",
      "metadata": {
        "id": "817386c4"
      },
      "source": [
        "9. Apply/Map Functions"
      ]
    },
    {
      "cell_type": "code",
      "execution_count": 19,
      "id": "9ffbb228",
      "metadata": {
        "colab": {
          "base_uri": "https://localhost:8080/",
          "height": 143
        },
        "id": "9ffbb228",
        "outputId": "5ac2ed9e-7b0a-42e8-e696-b57dd65f5c9a"
      },
      "outputs": [
        {
          "data": {
            "text/html": [
              "<div>\n",
              "<style scoped>\n",
              "    .dataframe tbody tr th:only-of-type {\n",
              "        vertical-align: middle;\n",
              "    }\n",
              "\n",
              "    .dataframe tbody tr th {\n",
              "        vertical-align: top;\n",
              "    }\n",
              "\n",
              "    .dataframe thead th {\n",
              "        text-align: right;\n",
              "    }\n",
              "</style>\n",
              "<table border=\"1\" class=\"dataframe\">\n",
              "  <thead>\n",
              "    <tr style=\"text-align: right;\">\n",
              "      <th></th>\n",
              "      <th>Unnamed: 0</th>\n",
              "      <th>A</th>\n",
              "      <th>B</th>\n",
              "      <th>C</th>\n",
              "      <th>A_squared</th>\n",
              "      <th>B_label</th>\n",
              "    </tr>\n",
              "  </thead>\n",
              "  <tbody>\n",
              "    <tr>\n",
              "      <th>2</th>\n",
              "      <td>2</td>\n",
              "      <td>3.0</td>\n",
              "      <td>6</td>\n",
              "      <td>9</td>\n",
              "      <td>9.0</td>\n",
              "      <td>High</td>\n",
              "    </tr>\n",
              "    <tr>\n",
              "      <th>1</th>\n",
              "      <td>1</td>\n",
              "      <td>2.0</td>\n",
              "      <td>5</td>\n",
              "      <td>7</td>\n",
              "      <td>4.0</td>\n",
              "      <td>Med</td>\n",
              "    </tr>\n",
              "    <tr>\n",
              "      <th>0</th>\n",
              "      <td>0</td>\n",
              "      <td>1.0</td>\n",
              "      <td>4</td>\n",
              "      <td>5</td>\n",
              "      <td>1.0</td>\n",
              "      <td>Low</td>\n",
              "    </tr>\n",
              "  </tbody>\n",
              "</table>\n",
              "</div>"
            ],
            "text/plain": [
              "   Unnamed: 0    A  B  C  A_squared B_label\n",
              "2           2  3.0  6  9        9.0    High\n",
              "1           1  2.0  5  7        4.0     Med\n",
              "0           0  1.0  4  5        1.0     Low"
            ]
          },
          "execution_count": 19,
          "metadata": {},
          "output_type": "execute_result"
        }
      ],
      "source": [
        "df['A_squared'] = df['A'].apply(lambda x: x**2) # Apply to column\n",
        "df['B_label'] = df['B'].map({4: 'Low', 5: 'Med', 6: 'High'}) # Map values\n",
        "df.sample(3)"
      ]
    },
    {
      "cell_type": "markdown",
      "id": "e350a372",
      "metadata": {
        "id": "e350a372"
      },
      "source": [
        "### Task:"
      ]
    },
    {
      "cell_type": "markdown",
      "id": "b9383e56",
      "metadata": {
        "id": "b9383e56"
      },
      "source": [
        "- Generated a Synthetic Dataset with columns of `age`, `salary`, `department`, `years_experience`, and `is_manager`."
      ]
    },
    {
      "cell_type": "code",
      "execution_count": 20,
      "id": "e5f21c72",
      "metadata": {
        "id": "e5f21c72"
      },
      "outputs": [],
      "source": [
        "np.random.seed(42) # For reproducibility\n",
        "n_samples = 100 # Number of samples\n",
        "\n",
        "data = {\n",
        "    'age': np.random.randint(18, 60, size=n_samples),\n",
        "    'salary': np.random.randint(30000, 120000, size=n_samples),\n",
        "    'department': np.random.choice(['IT', 'HR', 'Finance', 'Marketing'], size=n_samples),\n",
        "    'years_experience': np.round(np.random.normal(5, 2, size=n_samples), 1),\n",
        "    'is_manager': np.random.choice([0, 1], size=n_samples)\n",
        "}\n",
        "df = pd.DataFrame(data)"
      ]
    },
    {
      "cell_type": "markdown",
      "id": "72aeed2a",
      "metadata": {
        "id": "72aeed2a"
      },
      "source": [
        "Q1. View data structure"
      ]
    },
    {
      "cell_type": "code",
      "execution_count": 21,
      "id": "88704bcf",
      "metadata": {
        "colab": {
          "base_uri": "https://localhost:8080/",
          "height": 363
        },
        "id": "88704bcf",
        "outputId": "f99104ef-1e89-4e7c-f71f-f907aa24a621"
      },
      "outputs": [
        {
          "name": "stdout",
          "output_type": "stream",
          "text": [
            "   age  salary department  years_experience  is_manager\n",
            "0   56   38392         IT              -0.8           0\n",
            "1   46   60535  Marketing               3.4           1\n",
            "2   32  108603         HR               5.0           1\n",
            "3   25   82256         HR               4.2           1\n",
            "4   38  119135         HR               4.1           1\n",
            "    age  salary department  years_experience  is_manager\n",
            "95   59   82662         IT               4.0           0\n",
            "96   56   42688         HR               4.4           1\n",
            "97   58   55342  Marketing               6.0           0\n",
            "98   45   67157         HR              11.4           0\n",
            "99   24   97863         HR               5.2           1\n"
          ]
        }
      ],
      "source": [
        "print(df.head())\n",
        "print(df.tail())"
      ]
    },
    {
      "cell_type": "markdown",
      "id": "776e67b9",
      "metadata": {
        "id": "776e67b9"
      },
      "source": [
        "Q2. Get DataFrame Info and Summary Stats"
      ]
    },
    {
      "cell_type": "code",
      "execution_count": 22,
      "id": "17666094",
      "metadata": {
        "colab": {
          "base_uri": "https://localhost:8080/",
          "height": 414
        },
        "id": "17666094",
        "outputId": "190e4182-f90e-4b2f-a4a2-13e83e509230"
      },
      "outputs": [
        {
          "name": "stdout",
          "output_type": "stream",
          "text": [
            "<class 'pandas.core.frame.DataFrame'>\n",
            "RangeIndex: 100 entries, 0 to 99\n",
            "Data columns (total 5 columns):\n",
            " #   Column            Non-Null Count  Dtype  \n",
            "---  ------            --------------  -----  \n",
            " 0   age               100 non-null    int32  \n",
            " 1   salary            100 non-null    int32  \n",
            " 2   department        100 non-null    object \n",
            " 3   years_experience  100 non-null    float64\n",
            " 4   is_manager        100 non-null    int32  \n",
            "dtypes: float64(1), int32(3), object(1)\n",
            "memory usage: 2.9+ KB\n"
          ]
        },
        {
          "data": {
            "text/html": [
              "<div>\n",
              "<style scoped>\n",
              "    .dataframe tbody tr th:only-of-type {\n",
              "        vertical-align: middle;\n",
              "    }\n",
              "\n",
              "    .dataframe tbody tr th {\n",
              "        vertical-align: top;\n",
              "    }\n",
              "\n",
              "    .dataframe thead th {\n",
              "        text-align: right;\n",
              "    }\n",
              "</style>\n",
              "<table border=\"1\" class=\"dataframe\">\n",
              "  <thead>\n",
              "    <tr style=\"text-align: right;\">\n",
              "      <th></th>\n",
              "      <th>age</th>\n",
              "      <th>salary</th>\n",
              "      <th>years_experience</th>\n",
              "      <th>is_manager</th>\n",
              "    </tr>\n",
              "  </thead>\n",
              "  <tbody>\n",
              "    <tr>\n",
              "      <th>count</th>\n",
              "      <td>100.000000</td>\n",
              "      <td>100.000000</td>\n",
              "      <td>100.000000</td>\n",
              "      <td>100.000000</td>\n",
              "    </tr>\n",
              "    <tr>\n",
              "      <th>mean</th>\n",
              "      <td>37.910000</td>\n",
              "      <td>77809.160000</td>\n",
              "      <td>4.823000</td>\n",
              "      <td>0.470000</td>\n",
              "    </tr>\n",
              "    <tr>\n",
              "      <th>std</th>\n",
              "      <td>12.219454</td>\n",
              "      <td>26058.643576</td>\n",
              "      <td>2.237822</td>\n",
              "      <td>0.501614</td>\n",
              "    </tr>\n",
              "    <tr>\n",
              "      <th>min</th>\n",
              "      <td>18.000000</td>\n",
              "      <td>30206.000000</td>\n",
              "      <td>-0.800000</td>\n",
              "      <td>0.000000</td>\n",
              "    </tr>\n",
              "    <tr>\n",
              "      <th>25%</th>\n",
              "      <td>26.750000</td>\n",
              "      <td>55141.000000</td>\n",
              "      <td>3.475000</td>\n",
              "      <td>0.000000</td>\n",
              "    </tr>\n",
              "    <tr>\n",
              "      <th>50%</th>\n",
              "      <td>38.000000</td>\n",
              "      <td>80932.000000</td>\n",
              "      <td>4.700000</td>\n",
              "      <td>0.000000</td>\n",
              "    </tr>\n",
              "    <tr>\n",
              "      <th>75%</th>\n",
              "      <td>46.250000</td>\n",
              "      <td>98107.250000</td>\n",
              "      <td>6.000000</td>\n",
              "      <td>1.000000</td>\n",
              "    </tr>\n",
              "    <tr>\n",
              "      <th>max</th>\n",
              "      <td>59.000000</td>\n",
              "      <td>119474.000000</td>\n",
              "      <td>11.400000</td>\n",
              "      <td>1.000000</td>\n",
              "    </tr>\n",
              "  </tbody>\n",
              "</table>\n",
              "</div>"
            ],
            "text/plain": [
              "              age         salary  years_experience  is_manager\n",
              "count  100.000000     100.000000        100.000000  100.000000\n",
              "mean    37.910000   77809.160000          4.823000    0.470000\n",
              "std     12.219454   26058.643576          2.237822    0.501614\n",
              "min     18.000000   30206.000000         -0.800000    0.000000\n",
              "25%     26.750000   55141.000000          3.475000    0.000000\n",
              "50%     38.000000   80932.000000          4.700000    0.000000\n",
              "75%     46.250000   98107.250000          6.000000    1.000000\n",
              "max     59.000000  119474.000000         11.400000    1.000000"
            ]
          },
          "execution_count": 22,
          "metadata": {},
          "output_type": "execute_result"
        }
      ],
      "source": [
        "df.info()\n",
        "df.describe()"
      ]
    },
    {
      "cell_type": "markdown",
      "id": "4aeb350a",
      "metadata": {
        "id": "4aeb350a"
      },
      "source": [
        "Q3. Do Simple Numpy Operations"
      ]
    },
    {
      "cell_type": "code",
      "execution_count": 23,
      "id": "e12ace25",
      "metadata": {
        "colab": {
          "base_uri": "https://localhost:8080/"
        },
        "id": "e12ace25",
        "outputId": "230fb470-dbfe-4809-8327-4765f8c57241"
      },
      "outputs": [
        {
          "data": {
            "text/plain": [
              "array([83, 88, 85, 12, 58])"
            ]
          },
          "execution_count": 23,
          "metadata": {},
          "output_type": "execute_result"
        }
      ],
      "source": [
        "ages = df['age'].to_numpy()\n",
        "salaries = df['salary'].to_numpy()\n",
        "years = df['years_experience'].to_numpy()\n",
        "\n",
        "np.mean(ages), np.median(ages), np.std(ages)\n",
        "np.mean(salaries), np.median(salaries), np.std(salaries)\n",
        "np.dot(ages[:5], salaries[:5])\n",
        "np.random.randint(0,100,5)"
      ]
    },
    {
      "cell_type": "markdown",
      "id": "fac51bba",
      "metadata": {
        "id": "fac51bba"
      },
      "source": [
        "Q4. Filtering and Indexing Rows"
      ]
    },
    {
      "cell_type": "code",
      "execution_count": 24,
      "id": "de6f3d49",
      "metadata": {
        "colab": {
          "base_uri": "https://localhost:8080/",
          "height": 112
        },
        "id": "de6f3d49",
        "outputId": "98a0b786-6156-47cb-e25b-e8eed72309da"
      },
      "outputs": [
        {
          "data": {
            "text/html": [
              "<div>\n",
              "<style scoped>\n",
              "    .dataframe tbody tr th:only-of-type {\n",
              "        vertical-align: middle;\n",
              "    }\n",
              "\n",
              "    .dataframe tbody tr th {\n",
              "        vertical-align: top;\n",
              "    }\n",
              "\n",
              "    .dataframe thead th {\n",
              "        text-align: right;\n",
              "    }\n",
              "</style>\n",
              "<table border=\"1\" class=\"dataframe\">\n",
              "  <thead>\n",
              "    <tr style=\"text-align: right;\">\n",
              "      <th></th>\n",
              "      <th>age</th>\n",
              "      <th>salary</th>\n",
              "      <th>department</th>\n",
              "      <th>years_experience</th>\n",
              "      <th>is_manager</th>\n",
              "    </tr>\n",
              "  </thead>\n",
              "  <tbody>\n",
              "    <tr>\n",
              "      <th>1</th>\n",
              "      <td>46</td>\n",
              "      <td>60535</td>\n",
              "      <td>Marketing</td>\n",
              "      <td>3.4</td>\n",
              "      <td>1</td>\n",
              "    </tr>\n",
              "    <tr>\n",
              "      <th>2</th>\n",
              "      <td>32</td>\n",
              "      <td>108603</td>\n",
              "      <td>HR</td>\n",
              "      <td>5.0</td>\n",
              "      <td>1</td>\n",
              "    </tr>\n",
              "  </tbody>\n",
              "</table>\n",
              "</div>"
            ],
            "text/plain": [
              "   age  salary department  years_experience  is_manager\n",
              "1   46   60535  Marketing               3.4           1\n",
              "2   32  108603         HR               5.0           1"
            ]
          },
          "execution_count": 24,
          "metadata": {},
          "output_type": "execute_result"
        }
      ],
      "source": [
        "df[df['age'] > 30].head()\n",
        "df[df['is_manager'] == 1].head()\n",
        "df[(df['age']>30) & (df['is_manager']==1)].head()\n",
        "df.loc[0]\n",
        "df.iloc[1:3]"
      ]
    },
    {
      "cell_type": "markdown",
      "id": "2257f028",
      "metadata": {
        "id": "2257f028"
      },
      "source": [
        "Q5. Adding a Column"
      ]
    },
    {
      "cell_type": "code",
      "execution_count": 25,
      "id": "c46ad19f",
      "metadata": {
        "colab": {
          "base_uri": "https://localhost:8080/",
          "height": 206
        },
        "id": "c46ad19f",
        "outputId": "d36f4f26-4fb5-464b-8c62-f9d6924ed298"
      },
      "outputs": [
        {
          "data": {
            "text/html": [
              "<div>\n",
              "<style scoped>\n",
              "    .dataframe tbody tr th:only-of-type {\n",
              "        vertical-align: middle;\n",
              "    }\n",
              "\n",
              "    .dataframe tbody tr th {\n",
              "        vertical-align: top;\n",
              "    }\n",
              "\n",
              "    .dataframe thead th {\n",
              "        text-align: right;\n",
              "    }\n",
              "</style>\n",
              "<table border=\"1\" class=\"dataframe\">\n",
              "  <thead>\n",
              "    <tr style=\"text-align: right;\">\n",
              "      <th></th>\n",
              "      <th>age</th>\n",
              "      <th>salary</th>\n",
              "      <th>department</th>\n",
              "      <th>years_experience</th>\n",
              "      <th>is_manager</th>\n",
              "      <th>years_exp_nonzero</th>\n",
              "      <th>salary_per_year_exp</th>\n",
              "    </tr>\n",
              "  </thead>\n",
              "  <tbody>\n",
              "    <tr>\n",
              "      <th>0</th>\n",
              "      <td>56</td>\n",
              "      <td>38392</td>\n",
              "      <td>IT</td>\n",
              "      <td>-0.8</td>\n",
              "      <td>0</td>\n",
              "      <td>0.5</td>\n",
              "      <td>76784.00</td>\n",
              "    </tr>\n",
              "    <tr>\n",
              "      <th>1</th>\n",
              "      <td>46</td>\n",
              "      <td>60535</td>\n",
              "      <td>Marketing</td>\n",
              "      <td>3.4</td>\n",
              "      <td>1</td>\n",
              "      <td>3.4</td>\n",
              "      <td>17804.41</td>\n",
              "    </tr>\n",
              "    <tr>\n",
              "      <th>2</th>\n",
              "      <td>32</td>\n",
              "      <td>108603</td>\n",
              "      <td>HR</td>\n",
              "      <td>5.0</td>\n",
              "      <td>1</td>\n",
              "      <td>5.0</td>\n",
              "      <td>21720.60</td>\n",
              "    </tr>\n",
              "    <tr>\n",
              "      <th>3</th>\n",
              "      <td>25</td>\n",
              "      <td>82256</td>\n",
              "      <td>HR</td>\n",
              "      <td>4.2</td>\n",
              "      <td>1</td>\n",
              "      <td>4.2</td>\n",
              "      <td>19584.76</td>\n",
              "    </tr>\n",
              "    <tr>\n",
              "      <th>4</th>\n",
              "      <td>38</td>\n",
              "      <td>119135</td>\n",
              "      <td>HR</td>\n",
              "      <td>4.1</td>\n",
              "      <td>1</td>\n",
              "      <td>4.1</td>\n",
              "      <td>29057.32</td>\n",
              "    </tr>\n",
              "  </tbody>\n",
              "</table>\n",
              "</div>"
            ],
            "text/plain": [
              "   age  salary department  years_experience  is_manager  years_exp_nonzero  \\\n",
              "0   56   38392         IT              -0.8           0                0.5   \n",
              "1   46   60535  Marketing               3.4           1                3.4   \n",
              "2   32  108603         HR               5.0           1                5.0   \n",
              "3   25   82256         HR               4.2           1                4.2   \n",
              "4   38  119135         HR               4.1           1                4.1   \n",
              "\n",
              "   salary_per_year_exp  \n",
              "0             76784.00  \n",
              "1             17804.41  \n",
              "2             21720.60  \n",
              "3             19584.76  \n",
              "4             29057.32  "
            ]
          },
          "execution_count": 25,
          "metadata": {},
          "output_type": "execute_result"
        }
      ],
      "source": [
        "df['years_exp_nonzero'] = df['years_experience'].apply(lambda x: x if x > 0 else 0.5)\n",
        "df['salary_per_year_exp'] = (df['salary'] / df['years_exp_nonzero']).round(2)\n",
        "df.head()"
      ]
    },
    {
      "cell_type": "markdown",
      "id": "65d7044c",
      "metadata": {
        "id": "65d7044c"
      },
      "source": [
        "Q6. Grouping and Aggregation"
      ]
    },
    {
      "cell_type": "code",
      "execution_count": 26,
      "id": "a046b7d7",
      "metadata": {
        "colab": {
          "base_uri": "https://localhost:8080/",
          "height": 241
        },
        "id": "a046b7d7",
        "outputId": "881ac9e6-35f8-499f-a555-27606bcd47cf"
      },
      "outputs": [
        {
          "data": {
            "text/plain": [
              "department\n",
              "Finance      83124.708333\n",
              "HR           73523.052632\n",
              "IT           75825.476190\n",
              "Marketing    77684.722222\n",
              "Name: salary, dtype: float64"
            ]
          },
          "execution_count": 26,
          "metadata": {},
          "output_type": "execute_result"
        }
      ],
      "source": [
        "df.groupby('department')['salary'].mean()"
      ]
>>>>>>> 7bac907ad9ecae683391d6f3ddb2bddf8e2c4b0a
    }
  ],
  "metadata": {
    "colab": {
      "provenance": []
    },
    "kernelspec": {
      "display_name": "base",
      "language": "python",
      "name": "python3"
    },
    "language_info": {
      "codemirror_mode": {
        "name": "ipython",
        "version": 3
      },
      "file_extension": ".py",
      "mimetype": "text/x-python",
      "name": "python",
      "nbconvert_exporter": "python",
      "pygments_lexer": "ipython3",
      "version": "3.12.7"
    }
  },
<<<<<<< HEAD
  {
   "cell_type": "markdown",
   "id": "e350a372",
   "metadata": {},
   "source": [
    "### Task:"
   ]
  },
  {
   "cell_type": "markdown",
   "id": "b9383e56",
   "metadata": {},
   "source": [
    "- Generated a Synthetic Dataset with columns of `age`, `salary`, `department`, `years_experience`, and `is_manager`."
   ]
  },
  {
   "cell_type": "code",
   "execution_count": 21,
   "id": "e5f21c72",
   "metadata": {},
   "outputs": [],
   "source": [
    "np.random.seed(42) # For reproducibility\n",
    "n_samples = 100 # Number of samples\n",
    "\n",
    "data = {\n",
    "    'age': np.random.randint(18, 60, size=n_samples),\n",
    "    'salary': np.random.randint(30000, 120000, size=n_samples),\n",
    "    'department': np.random.choice(['IT', 'HR', 'Finance', 'Marketing'], size=n_samples),\n",
    "    'years_experience': np.round(np.random.normal(5, 2, size=n_samples), 1),\n",
    "    'is_manager': np.random.choice([0, 1], size=n_samples)\n",
    "}\n",
    "df = pd.DataFrame(data)"
   ]
  },
  {
   "cell_type": "markdown",
   "id": "72aeed2a",
   "metadata": {},
   "source": [
    "Q1. View data structure"
   ]
  },
  {
   "cell_type": "code",
   "execution_count": 22,
   "id": "88704bcf",
   "metadata": {},
   "outputs": [
    {
     "name": "stdout",
     "output_type": "stream",
     "text": [
      "   age  salary department  years_experience  is_manager\n",
      "0   56   38392         IT              -0.8           0\n",
      "1   46   60535  Marketing               3.4           1\n",
      "2   32  108603         HR               5.0           1\n",
      "3   25   82256         HR               4.2           1\n",
      "4   38  119135         HR               4.1           1\n",
      "(100, 5)\n",
      "Index(['age', 'salary', 'department', 'years_experience', 'is_manager'], dtype='object')\n",
      "age                   int32\n",
      "salary                int32\n",
      "department           object\n",
      "years_experience    float64\n",
      "is_manager            int64\n",
      "dtype: object\n"
     ]
    }
   ],
   "source": [
    "print(df.head())\n",
    "print(df.shape)\n",
    "print(df.columns)\n",
    "print(df.dtypes)"
   ]
  },
  {
   "cell_type": "markdown",
   "id": "776e67b9",
   "metadata": {},
   "source": [
    "Q2. Get DataFrame Info and Summary Stats"
   ]
  },
  {
   "cell_type": "code",
   "execution_count": 24,
   "id": "17666094",
   "metadata": {},
   "outputs": [
    {
     "name": "stdout",
     "output_type": "stream",
     "text": [
      "<class 'pandas.core.frame.DataFrame'>\n",
      "RangeIndex: 100 entries, 0 to 99\n",
      "Data columns (total 5 columns):\n",
      " #   Column            Non-Null Count  Dtype  \n",
      "---  ------            --------------  -----  \n",
      " 0   age               100 non-null    int32  \n",
      " 1   salary            100 non-null    int32  \n",
      " 2   department        100 non-null    object \n",
      " 3   years_experience  100 non-null    float64\n",
      " 4   is_manager        100 non-null    int64  \n",
      "dtypes: float64(1), int32(2), int64(1), object(1)\n",
      "memory usage: 3.3+ KB\n",
      "              age         salary  years_experience  is_manager\n",
      "count  100.000000     100.000000        100.000000  100.000000\n",
      "mean    37.910000   77809.160000          4.823000    0.470000\n",
      "std     12.219454   26058.643576          2.237822    0.501614\n",
      "min     18.000000   30206.000000         -0.800000    0.000000\n",
      "25%     26.750000   55141.000000          3.475000    0.000000\n",
      "50%     38.000000   80932.000000          4.700000    0.000000\n",
      "75%     46.250000   98107.250000          6.000000    1.000000\n",
      "max     59.000000  119474.000000         11.400000    1.000000\n",
      "               age         salary department  years_experience  is_manager\n",
      "count   100.000000     100.000000        100        100.000000  100.000000\n",
      "unique         NaN            NaN          4               NaN         NaN\n",
      "top            NaN            NaN  Marketing               NaN         NaN\n",
      "freq           NaN            NaN         36               NaN         NaN\n",
      "mean     37.910000   77809.160000        NaN          4.823000    0.470000\n",
      "std      12.219454   26058.643576        NaN          2.237822    0.501614\n",
      "min      18.000000   30206.000000        NaN         -0.800000    0.000000\n",
      "25%      26.750000   55141.000000        NaN          3.475000    0.000000\n",
      "50%      38.000000   80932.000000        NaN          4.700000    0.000000\n",
      "75%      46.250000   98107.250000        NaN          6.000000    1.000000\n",
      "max      59.000000  119474.000000        NaN         11.400000    1.000000\n"
     ]
    }
   ],
   "source": [
    "df.info()\n",
    "print(df.describe())\n",
    "print(df.describe(include='all'))"
   ]
  },
  {
   "cell_type": "markdown",
   "id": "4aeb350a",
   "metadata": {},
   "source": [
    "Q3. Do Simple Numpy Operations"
   ]
  },
  {
   "cell_type": "code",
   "execution_count": 25,
   "id": "e12ace25",
   "metadata": {},
   "outputs": [
    {
     "name": "stdout",
     "output_type": "stream",
     "text": [
      "77809.16\n",
      "59\n",
      "-0.8\n",
      "25928.02298584294\n"
     ]
    }
   ],
   "source": [
    "print(np.mean(df['salary']))\n",
    "print(np.max(df['age']))\n",
    "print(np.min(df['years_experience']))\n",
    "print(np.std(df['salary']))"
   ]
  },
  {
   "cell_type": "markdown",
   "id": "fac51bba",
   "metadata": {},
   "source": [
    "Q4. Filtering and Indexing Rows"
   ]
  },
  {
   "cell_type": "code",
   "execution_count": 26,
   "id": "de6f3d49",
   "metadata": {},
   "outputs": [
    {
     "name": "stdout",
     "output_type": "stream",
     "text": [
      "   age  salary department  years_experience  is_manager\n",
      "0   56   38392         IT              -0.8           0\n",
      "1   46   60535  Marketing               3.4           1\n",
      "2   32  108603         HR               5.0           1\n",
      "4   38  119135         HR               4.1           1\n",
      "5   56   65222    Finance               2.8           0\n",
      "    age  salary department  years_experience  is_manager\n",
      "9    28   93335         IT               1.2           1\n",
      "30   32   86044         IT               4.7           0\n",
      "31   20   97214         IT               5.7           1\n",
      "56   59   96842         IT               1.9           1\n",
      "68   31  103530         IT               4.3           1\n",
      "78   46   95318         IT               1.9           1\n",
      "82   24  115616         IT               9.3           1\n",
      "92   52  117455         IT               3.9           0\n",
      "94   22  100467         IT               9.2           0\n",
      "95   59   82662         IT               4.0           0\n",
      "    age  salary department  years_experience  is_manager\n",
      "1    46   60535  Marketing               3.4           1\n",
      "2    32  108603         HR               5.0           1\n",
      "3    25   82256         HR               4.2           1\n",
      "4    38  119135         HR               4.1           1\n",
      "6    36  107373    Finance               6.7           1\n",
      "8    28  114651  Marketing               5.8           1\n",
      "9    28   93335         IT               1.2           1\n",
      "10   41   40965         IT               9.5           1\n",
      "12   57  100592    Finance               6.1           1\n",
      "13   41   38110         HR               2.0           1\n",
      "14   20  109309  Marketing               5.0           1\n",
      "15   39   57266         IT               5.8           1\n",
      "17   41  112948  Marketing               6.7           1\n",
      "24   39   80015    Finance               8.0           1\n",
      "28   45  110356    Finance               5.7           1\n",
      "29   33  101910  Marketing               6.0           1\n",
      "31   20   97214         IT               5.7           1\n",
      "34   38   92623    Finance               3.1           1\n",
      "36   56  105450  Marketing               4.8           1\n",
      "37   35   52299         IT               1.5           1\n",
      "40   31   72557         IT               2.7           1\n",
      "44   37   55939    Finance               6.8           1\n",
      "45   45   78925         HR               4.1           1\n",
      "47   25   51834    Finance               3.5           1\n",
      "48   52   48047    Finance               1.4           1\n",
      "49   31   56105  Marketing               5.9           1\n",
      "50   34  105766  Marketing               1.9           1\n",
      "51   53   45707         HR               4.0           1\n",
      "55   23   60080  Marketing               4.7           1\n",
      "56   59   96842         IT               1.9           1\n",
      "58   46   36776         IT               2.6           1\n",
      "62   27   51959         IT               5.7           1\n",
      "63   53   35530         IT               1.2           1\n",
      "68   31  103530         IT               4.3           1\n",
      "69   40   91087    Finance               2.4           1\n",
      "72   33   81005  Marketing               2.4           1\n",
      "73   35   76576    Finance               1.0           1\n",
      "77   58   82733  Marketing               3.6           1\n",
      "78   46   95318         IT               1.9           1\n",
      "79   32  119474  Marketing               4.3           1\n",
      "82   24  115616         IT               9.3           1\n",
      "83   26   56736  Marketing               5.5           1\n",
      "85   18   68623         HR               4.1           1\n",
      "86   25   37392  Marketing               5.2           1\n",
      "88   28   76717         HR               3.6           1\n",
      "96   56   42688         HR               4.4           1\n",
      "99   24   97863         HR               5.2           1\n"
     ]
    }
   ],
   "source": [
    "older_than_30 = df[df['age'] > 30]\n",
    "print(older_than_30.head())\n",
    "it_high_salary = df[(df['department'] == 'IT') & (df['salary'] > 80000)]\n",
    "print(it_high_salary)\n",
    "managers = df[df['is_manager'] == 1]\n",
    "print(managers)\n"
   ]
  },
  {
   "cell_type": "markdown",
   "id": "2257f028",
   "metadata": {},
   "source": [
    "Q5. Adding a Column"
   ]
  },
  {
   "cell_type": "code",
   "execution_count": 27,
   "id": "c46ad19f",
   "metadata": {},
   "outputs": [
    {
     "name": "stdout",
     "output_type": "stream",
     "text": [
      "   age  salary department  years_experience  is_manager  salary_lakhs  \\\n",
      "0   56   38392         IT              -0.8           0          0.38   \n",
      "1   46   60535  Marketing               3.4           1          0.61   \n",
      "2   32  108603         HR               5.0           1          1.09   \n",
      "3   25   82256         HR               4.2           1          0.82   \n",
      "4   38  119135         HR               4.1           1          1.19   \n",
      "\n",
      "  seniority  \n",
      "0    Junior  \n",
      "1    Junior  \n",
      "2    Junior  \n",
      "3    Junior  \n",
      "4    Junior  \n"
     ]
    }
   ],
   "source": [
    "df['salary_lakhs'] = (df['salary'] / 100000).round(2)\n",
    "df['seniority'] = np.where(df['years_experience'] >= 7, 'Senior', 'Junior')\n",
    "print(df.head())\n"
   ]
  },
  {
   "cell_type": "markdown",
   "id": "65d7044c",
   "metadata": {},
   "source": [
    "Q6. Grouping and Aggregation"
   ]
  },
  {
   "cell_type": "code",
   "execution_count": 28,
   "id": "a046b7d7",
   "metadata": {},
   "outputs": [
    {
     "name": "stdout",
     "output_type": "stream",
     "text": [
      "                  salary  years_experience\n",
      "department                                \n",
      "Finance     83124.708333          4.416667\n",
      "HR          73523.052632          5.089474\n",
      "IT          75825.476190          4.390476\n",
      "Marketing   77684.722222          5.205556\n",
      "department\n",
      "Finance      10\n",
      "HR           10\n",
      "IT           13\n",
      "Marketing    14\n",
      "Name: is_manager, dtype: int64\n",
      "                  salary                years_experience is_manager      \n",
      "                    mean     max    min             mean        sum count\n",
      "department                                                               \n",
      "Finance     83124.708333  117897  30206         4.416667         10    24\n",
      "HR          73523.052632  119135  32693         5.089474         10    19\n",
      "IT          75825.476190  117455  35530         4.390476         13    21\n",
      "Marketing   77684.722222  119474  30854         5.205556         14    36\n"
     ]
    }
   ],
   "source": [
    "dept_summary = df.groupby('department')[['salary', 'years_experience']].mean()\n",
    "print(dept_summary)\n",
    "manager_count = df.groupby('department')['is_manager'].sum()\n",
    "print(manager_count)\n",
    "agg_df = df.groupby('department').agg({'salary': ['mean', 'max', 'min'], 'years_experience': ['mean'], 'is_manager': ['sum', 'count']})\n",
    "print(agg_df)"
   ]
  }
 ],
 "metadata": {
  "kernelspec": {
   "display_name": "Python 3",
   "language": "python",
   "name": "python3"
  },
  "language_info": {
   "codemirror_mode": {
    "name": "ipython",
    "version": 3
   },
   "file_extension": ".py",
   "mimetype": "text/x-python",
   "name": "python",
   "nbconvert_exporter": "python",
   "pygments_lexer": "ipython3",
   "version": "3.12.2"
  }
 },
 "nbformat": 4,
 "nbformat_minor": 5
=======
  "nbformat": 4,
  "nbformat_minor": 5
>>>>>>> 7bac907ad9ecae683391d6f3ddb2bddf8e2c4b0a
}
