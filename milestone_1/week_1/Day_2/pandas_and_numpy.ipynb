{
 "cells": [
  {
   "cell_type": "markdown",
   "id": "a5bdadda",
   "metadata": {},
   "source": [
    "### Essential NumPy and Pandas Functions for Data Analysis\n",
    "\n",
    "Let's look at practical code snippets that demonstrate the most useful NumPy and pandas methods for data analysis in Python. You can use these in a Jupyter notebook for experimentation and workflow mastery."
   ]
  },
  {
   "cell_type": "markdown",
   "id": "d756a7ff",
   "metadata": {},
   "source": [
    "#### NumPy Basics for Data Analysis\n",
    "Import NumPy:"
   ]
  },
  {
   "cell_type": "code",
   "execution_count": null,
   "id": "11776fab",
   "metadata": {},
   "outputs": [],
   "source": [
    "import numpy as np"
   ]
  },
  {
   "cell_type": "markdown",
   "id": "697cc53d",
   "metadata": {},
   "source": [
    "1. Creating Arrays"
   ]
  },
  {
   "cell_type": "code",
   "execution_count": null,
   "id": "5346f74e",
   "metadata": {},
   "outputs": [],
   "source": [
    "arr = np.array([1, 2, 3, 4])            # 1D array\n",
    "matrix = np.array([[1, 2], [3, 4]])     # 2D array\n",
    "zeros = np.zeros((2, 3))                # 2x3 array of zeros\n",
    "ones = np.ones((2, 3))                  # 2x3 array of ones\n",
    "rnd = np.random.rand(2, 3)              # 2x3 array of random floats"
   ]
  },
  {
   "cell_type": "markdown",
   "id": "a3c9fc2c",
   "metadata": {},
   "source": [
    "2. Array Shape, Reshape, Flatten"
   ]
  },
  {
   "cell_type": "code",
   "execution_count": null,
   "id": "58dc11da",
   "metadata": {},
   "outputs": [
    {
     "name": "stdout",
     "output_type": "stream",
     "text": [
      "(4,)\n"
     ]
    }
   ],
   "source": [
    "print(arr.shape)                # (4,)\n",
    "reshaped = matrix.reshape((4, 1))   # Reshape to 4 rows, 1 column\n",
    "flat = matrix.ravel()               # Flatten to 1D array"
   ]
  },
  {
   "cell_type": "markdown",
   "id": "8feb28e2",
   "metadata": {},
   "source": [
    "3. Indexing and Slicing"
   ]
  },
  {
   "cell_type": "code",
   "execution_count": null,
   "id": "e2dd3ec3",
   "metadata": {},
   "outputs": [
    {
     "name": "stdout",
     "output_type": "stream",
     "text": [
      "2\n",
      "[2 3]\n"
     ]
    }
   ],
   "source": [
    "print(matrix[0, 1])    # element at first row, second column\n",
    "print(arr[1:3])        # slice elements 1 to 2"
   ]
  },
  {
   "cell_type": "markdown",
   "id": "196ce80c",
   "metadata": {},
   "source": [
    "4. Basic Math Operations"
   ]
  },
  {
   "cell_type": "code",
   "execution_count": null,
   "id": "cc490150",
   "metadata": {},
   "outputs": [
    {
     "name": "stdout",
     "output_type": "stream",
     "text": [
      "[11 22 33]\n",
      "[ 9 18 27]\n",
      "[10 40 90]\n",
      "[10. 10. 10.]\n"
     ]
    }
   ],
   "source": [
    "a = np.array([10, 20, 30])\n",
    "b = np.array([1, 2, 3])\n",
    "print(a + b)           # [11 22 33]\n",
    "print(a - b)           # [ 9 18 27]\n",
    "print(a * b)           # [10 40 90]\n",
    "print(a / b)           # [10. 10. 10.]\n"
   ]
  },
  {
   "cell_type": "markdown",
   "id": "80b1dca7",
   "metadata": {},
   "source": [
    "5. Aggregation and Stats"
   ]
  },
  {
   "cell_type": "code",
   "execution_count": null,
   "id": "f593fe13",
   "metadata": {},
   "outputs": [
    {
     "data": {
      "text/plain": [
       "(1, 4)"
      ]
     },
     "execution_count": 28,
     "metadata": {},
     "output_type": "execute_result"
    }
   ],
   "source": [
    "np.sum(arr)                 # 10\n",
    "np.mean(arr)                # 2.5\n",
    "np.std(arr)                 # Standard deviation\n",
    "np.min(arr), np.max(arr)    # Min and max values"
   ]
  },
  {
   "cell_type": "markdown",
   "id": "760c1f33",
   "metadata": {},
   "source": [
    "6. Dot Product, Matrix Ops"
   ]
  },
  {
   "cell_type": "code",
   "execution_count": null,
   "id": "f97d960e",
   "metadata": {},
   "outputs": [],
   "source": [
    "a = np.array([1, 2, 3])\n",
    "b = np.array([4, 5, 6])\n",
    "dot = np.dot(a, b)          # 1*4 + 2*5 + 3*6 = 32\n",
    "mat = np.array([[1, 2], [3, 4]])\n",
    "mat2 = np.array([[5, 6], [7, 8]])\n",
    "matprod = np.matmul(mat, mat2) # Matrix multiplication"
   ]
  },
  {
   "cell_type": "markdown",
   "id": "fe9a547f",
   "metadata": {},
   "source": [
    "7. Logical and Filtering"
   ]
  },
  {
   "cell_type": "code",
   "execution_count": null,
   "id": "0a1a8235",
   "metadata": {},
   "outputs": [
    {
     "data": {
      "text/plain": [
       "(array([2, 3], dtype=int64),)"
      ]
     },
     "execution_count": 30,
     "metadata": {},
     "output_type": "execute_result"
    }
   ],
   "source": [
    "arr[arr > 2]                # Returns [3, 4]\n",
    "np.where(arr > 2)           # Indices where condition is true"
   ]
  },
  {
   "cell_type": "markdown",
   "id": "ab927405",
   "metadata": {},
   "source": [
    "8. Random Sampling"
   ]
  },
  {
   "cell_type": "code",
   "execution_count": null,
   "id": "4453e0d6",
   "metadata": {},
   "outputs": [
    {
     "data": {
      "text/plain": [
       "array([1, 0, 1, 1, 0, 1, 0, 1, 0, 0])"
      ]
     },
     "execution_count": 31,
     "metadata": {},
     "output_type": "execute_result"
    }
   ],
   "source": [
    "np.random.randint(0, 100, size=5) # 5 random ints 0-99\n",
    "np.random.choice([0, 1], size=10) # 10 random 0s or 1s"
   ]
  },
  {
   "cell_type": "markdown",
   "id": "d6acee10",
   "metadata": {},
   "source": [
    "#### Pandas Basics for Data Analysis\n",
    "Import pandas:"
   ]
  },
  {
   "cell_type": "code",
   "execution_count": null,
   "id": "4c05d070",
   "metadata": {},
   "outputs": [],
   "source": [
    "import pandas as pd"
   ]
  },
  {
   "cell_type": "markdown",
   "id": "2bd15b71",
   "metadata": {},
   "source": [
    "1. Creating DataFrames"
   ]
  },
  {
   "cell_type": "code",
   "execution_count": null,
   "id": "0f6029eb",
   "metadata": {},
   "outputs": [],
   "source": [
    "data = {'A': [1, 2, 3], 'B': [4, 5, 6]}\n",
    "df = pd.DataFrame(data) # Create DataFrame"
   ]
  },
  {
   "cell_type": "markdown",
   "id": "54d5cbde",
   "metadata": {},
   "source": [
    "2. Inspecting Data"
   ]
  },
  {
   "cell_type": "code",
   "execution_count": null,
   "id": "d8d19d15",
   "metadata": {},
   "outputs": [
    {
     "name": "stdout",
     "output_type": "stream",
     "text": [
      "<class 'pandas.core.frame.DataFrame'>\n",
      "RangeIndex: 3 entries, 0 to 2\n",
      "Data columns (total 2 columns):\n",
      " #   Column  Non-Null Count  Dtype\n",
      "---  ------  --------------  -----\n",
      " 0   A       3 non-null      int64\n",
      " 1   B       3 non-null      int64\n",
      "dtypes: int64(2)\n",
      "memory usage: 180.0 bytes\n"
     ]
    },
    {
     "data": {
      "text/html": [
       "<div>\n",
       "<style scoped>\n",
       "    .dataframe tbody tr th:only-of-type {\n",
       "        vertical-align: middle;\n",
       "    }\n",
       "\n",
       "    .dataframe tbody tr th {\n",
       "        vertical-align: top;\n",
       "    }\n",
       "\n",
       "    .dataframe thead th {\n",
       "        text-align: right;\n",
       "    }\n",
       "</style>\n",
       "<table border=\"1\" class=\"dataframe\">\n",
       "  <thead>\n",
       "    <tr style=\"text-align: right;\">\n",
       "      <th></th>\n",
       "      <th>A</th>\n",
       "      <th>B</th>\n",
       "    </tr>\n",
       "  </thead>\n",
       "  <tbody>\n",
       "    <tr>\n",
       "      <th>count</th>\n",
       "      <td>3.0</td>\n",
       "      <td>3.0</td>\n",
       "    </tr>\n",
       "    <tr>\n",
       "      <th>mean</th>\n",
       "      <td>2.0</td>\n",
       "      <td>5.0</td>\n",
       "    </tr>\n",
       "    <tr>\n",
       "      <th>std</th>\n",
       "      <td>1.0</td>\n",
       "      <td>1.0</td>\n",
       "    </tr>\n",
       "    <tr>\n",
       "      <th>min</th>\n",
       "      <td>1.0</td>\n",
       "      <td>4.0</td>\n",
       "    </tr>\n",
       "    <tr>\n",
       "      <th>25%</th>\n",
       "      <td>1.5</td>\n",
       "      <td>4.5</td>\n",
       "    </tr>\n",
       "    <tr>\n",
       "      <th>50%</th>\n",
       "      <td>2.0</td>\n",
       "      <td>5.0</td>\n",
       "    </tr>\n",
       "    <tr>\n",
       "      <th>75%</th>\n",
       "      <td>2.5</td>\n",
       "      <td>5.5</td>\n",
       "    </tr>\n",
       "    <tr>\n",
       "      <th>max</th>\n",
       "      <td>3.0</td>\n",
       "      <td>6.0</td>\n",
       "    </tr>\n",
       "  </tbody>\n",
       "</table>\n",
       "</div>"
      ],
      "text/plain": [
       "         A    B\n",
       "count  3.0  3.0\n",
       "mean   2.0  5.0\n",
       "std    1.0  1.0\n",
       "min    1.0  4.0\n",
       "25%    1.5  4.5\n",
       "50%    2.0  5.0\n",
       "75%    2.5  5.5\n",
       "max    3.0  6.0"
      ]
     },
     "execution_count": 34,
     "metadata": {},
     "output_type": "execute_result"
    }
   ],
   "source": [
    "df.head()                # First 5 rows\n",
    "df.tail(3)                # Last 3 rows\n",
    "df.info()                 # DataFrame info + datatypes\n",
    "df.describe()             # Summary statistics"
   ]
  },
  {
   "cell_type": "markdown",
   "id": "29a19040",
   "metadata": {},
   "source": [
    "3. Selecting Data"
   ]
  },
  {
   "cell_type": "code",
   "execution_count": null,
   "id": "84eac235",
   "metadata": {},
   "outputs": [
    {
     "data": {
      "text/html": [
       "<div>\n",
       "<style scoped>\n",
       "    .dataframe tbody tr th:only-of-type {\n",
       "        vertical-align: middle;\n",
       "    }\n",
       "\n",
       "    .dataframe tbody tr th {\n",
       "        vertical-align: top;\n",
       "    }\n",
       "\n",
       "    .dataframe thead th {\n",
       "        text-align: right;\n",
       "    }\n",
       "</style>\n",
       "<table border=\"1\" class=\"dataframe\">\n",
       "  <thead>\n",
       "    <tr style=\"text-align: right;\">\n",
       "      <th></th>\n",
       "      <th>A</th>\n",
       "      <th>B</th>\n",
       "    </tr>\n",
       "  </thead>\n",
       "  <tbody>\n",
       "    <tr>\n",
       "      <th>1</th>\n",
       "      <td>2</td>\n",
       "      <td>5</td>\n",
       "    </tr>\n",
       "    <tr>\n",
       "      <th>2</th>\n",
       "      <td>3</td>\n",
       "      <td>6</td>\n",
       "    </tr>\n",
       "  </tbody>\n",
       "</table>\n",
       "</div>"
      ],
      "text/plain": [
       "   A  B\n",
       "1  2  5\n",
       "2  3  6"
      ]
     },
     "execution_count": 35,
     "metadata": {},
     "output_type": "execute_result"
    }
   ],
   "source": [
    "df['A']                   # Get column A\n",
    "df.loc[0]                 # Row by label (index 0)\n",
    "df.iloc[1:3]              # Rows 1-2 by position\n",
    "df[df['A'] > 1]           # Filter rows where A > 1"
   ]
  },
  {
   "cell_type": "markdown",
   "id": "a837a835",
   "metadata": {},
   "source": [
    "4. Adding/Dropping Columns"
   ]
  },
  {
   "cell_type": "code",
   "execution_count": null,
   "id": "168301f3",
   "metadata": {},
   "outputs": [],
   "source": [
    "df['C'] = df['A'] + df['B']     # Add new column\n",
    "new_df = df.drop('B', axis=1)   # Drop column B"
   ]
  },
  {
   "cell_type": "markdown",
   "id": "f4877748",
   "metadata": {},
   "source": [
    "5. Missing Values & Types"
   ]
  },
  {
   "cell_type": "code",
   "execution_count": null,
   "id": "aef9b727",
   "metadata": {},
   "outputs": [],
   "source": [
    "df.isnull().sum()               # Missing values per column\n",
    "df.fillna(0)                    # Replace NaNs with 0\n",
    "df['A'] = df['A'].astype(float) # Change column type"
   ]
  },
  {
   "cell_type": "markdown",
   "id": "22042fab",
   "metadata": {},
   "source": [
    "6. Grouping and Aggregation"
   ]
  },
  {
   "cell_type": "code",
   "execution_count": null,
   "id": "5390b4ea",
   "metadata": {},
   "outputs": [
    {
     "data": {
      "text/plain": [
       "A\n",
       "1.0    1\n",
       "2.0    1\n",
       "3.0    1\n",
       "Name: count, dtype: int64"
      ]
     },
     "execution_count": 38,
     "metadata": {},
     "output_type": "execute_result"
    }
   ],
   "source": [
    "grouped = df.groupby('A').sum()   # Sum columns, grouped by values in A\n",
    "df['A'].value_counts()            # Count unique values in A"
   ]
  },
  {
   "cell_type": "markdown",
   "id": "cd371dc6",
   "metadata": {},
   "source": [
    "7. Sorting"
   ]
  },
  {
   "cell_type": "code",
   "execution_count": null,
   "id": "15817940",
   "metadata": {},
   "outputs": [
    {
     "data": {
      "text/html": [
       "<div>\n",
       "<style scoped>\n",
       "    .dataframe tbody tr th:only-of-type {\n",
       "        vertical-align: middle;\n",
       "    }\n",
       "\n",
       "    .dataframe tbody tr th {\n",
       "        vertical-align: top;\n",
       "    }\n",
       "\n",
       "    .dataframe thead th {\n",
       "        text-align: right;\n",
       "    }\n",
       "</style>\n",
       "<table border=\"1\" class=\"dataframe\">\n",
       "  <thead>\n",
       "    <tr style=\"text-align: right;\">\n",
       "      <th></th>\n",
       "      <th>A</th>\n",
       "      <th>B</th>\n",
       "      <th>C</th>\n",
       "    </tr>\n",
       "  </thead>\n",
       "  <tbody>\n",
       "    <tr>\n",
       "      <th>2</th>\n",
       "      <td>3.0</td>\n",
       "      <td>6</td>\n",
       "      <td>9</td>\n",
       "    </tr>\n",
       "    <tr>\n",
       "      <th>1</th>\n",
       "      <td>2.0</td>\n",
       "      <td>5</td>\n",
       "      <td>7</td>\n",
       "    </tr>\n",
       "    <tr>\n",
       "      <th>0</th>\n",
       "      <td>1.0</td>\n",
       "      <td>4</td>\n",
       "      <td>5</td>\n",
       "    </tr>\n",
       "  </tbody>\n",
       "</table>\n",
       "</div>"
      ],
      "text/plain": [
       "     A  B  C\n",
       "2  3.0  6  9\n",
       "1  2.0  5  7\n",
       "0  1.0  4  5"
      ]
     },
     "execution_count": 39,
     "metadata": {},
     "output_type": "execute_result"
    }
   ],
   "source": [
    "df.sort_values('B', ascending=False)  # Sort by column B"
   ]
  },
  {
   "cell_type": "markdown",
   "id": "d83aeed5",
   "metadata": {},
   "source": [
    "8. Reading/Writing Files"
   ]
  },
  {
   "cell_type": "code",
   "execution_count": null,
   "id": "2c3671c0",
   "metadata": {},
   "outputs": [
    {
     "data": {
      "text/html": [
       "<div>\n",
       "<style scoped>\n",
       "    .dataframe tbody tr th:only-of-type {\n",
       "        vertical-align: middle;\n",
       "    }\n",
       "\n",
       "    .dataframe tbody tr th {\n",
       "        vertical-align: top;\n",
       "    }\n",
       "\n",
       "    .dataframe thead th {\n",
       "        text-align: right;\n",
       "    }\n",
       "</style>\n",
       "<table border=\"1\" class=\"dataframe\">\n",
       "  <thead>\n",
       "    <tr style=\"text-align: right;\">\n",
       "      <th></th>\n",
       "      <th>Unnamed: 0</th>\n",
       "      <th>A</th>\n",
       "      <th>B</th>\n",
       "      <th>C</th>\n",
       "    </tr>\n",
       "  </thead>\n",
       "  <tbody>\n",
       "    <tr>\n",
       "      <th>0</th>\n",
       "      <td>0</td>\n",
       "      <td>1.0</td>\n",
       "      <td>4</td>\n",
       "      <td>5</td>\n",
       "    </tr>\n",
       "    <tr>\n",
       "      <th>1</th>\n",
       "      <td>1</td>\n",
       "      <td>2.0</td>\n",
       "      <td>5</td>\n",
       "      <td>7</td>\n",
       "    </tr>\n",
       "    <tr>\n",
       "      <th>2</th>\n",
       "      <td>2</td>\n",
       "      <td>3.0</td>\n",
       "      <td>6</td>\n",
       "      <td>9</td>\n",
       "    </tr>\n",
       "  </tbody>\n",
       "</table>\n",
       "</div>"
      ],
      "text/plain": [
       "   Unnamed: 0    A  B  C\n",
       "0           0  1.0  4  5\n",
       "1           1  2.0  5  7\n",
       "2           2  3.0  6  9"
      ]
     },
     "execution_count": 40,
     "metadata": {},
     "output_type": "execute_result"
    }
   ],
   "source": [
    "df.to_csv('mydata.csv') # Save to CSV\n",
    "df = pd.read_csv('mydata.csv') # Load from CSV\n",
    "df.head()"
   ]
  },
  {
   "cell_type": "markdown",
   "id": "817386c4",
   "metadata": {},
   "source": [
    "9. Apply/Map Functions"
   ]
  },
  {
   "cell_type": "code",
   "execution_count": null,
   "id": "9ffbb228",
   "metadata": {},
   "outputs": [
    {
     "data": {
      "text/html": [
       "<div>\n",
       "<style scoped>\n",
       "    .dataframe tbody tr th:only-of-type {\n",
       "        vertical-align: middle;\n",
       "    }\n",
       "\n",
       "    .dataframe tbody tr th {\n",
       "        vertical-align: top;\n",
       "    }\n",
       "\n",
       "    .dataframe thead th {\n",
       "        text-align: right;\n",
       "    }\n",
       "</style>\n",
       "<table border=\"1\" class=\"dataframe\">\n",
       "  <thead>\n",
       "    <tr style=\"text-align: right;\">\n",
       "      <th></th>\n",
       "      <th>Unnamed: 0</th>\n",
       "      <th>A</th>\n",
       "      <th>B</th>\n",
       "      <th>C</th>\n",
       "      <th>A_squared</th>\n",
       "      <th>B_label</th>\n",
       "    </tr>\n",
       "  </thead>\n",
       "  <tbody>\n",
       "    <tr>\n",
       "      <th>0</th>\n",
       "      <td>0</td>\n",
       "      <td>1.0</td>\n",
       "      <td>4</td>\n",
       "      <td>5</td>\n",
       "      <td>1.0</td>\n",
       "      <td>Low</td>\n",
       "    </tr>\n",
       "    <tr>\n",
       "      <th>1</th>\n",
       "      <td>1</td>\n",
       "      <td>2.0</td>\n",
       "      <td>5</td>\n",
       "      <td>7</td>\n",
       "      <td>4.0</td>\n",
       "      <td>Med</td>\n",
       "    </tr>\n",
       "    <tr>\n",
       "      <th>2</th>\n",
       "      <td>2</td>\n",
       "      <td>3.0</td>\n",
       "      <td>6</td>\n",
       "      <td>9</td>\n",
       "      <td>9.0</td>\n",
       "      <td>High</td>\n",
       "    </tr>\n",
       "  </tbody>\n",
       "</table>\n",
       "</div>"
      ],
      "text/plain": [
       "   Unnamed: 0    A  B  C  A_squared B_label\n",
       "0           0  1.0  4  5        1.0     Low\n",
       "1           1  2.0  5  7        4.0     Med\n",
       "2           2  3.0  6  9        9.0    High"
      ]
     },
     "execution_count": 41,
     "metadata": {},
     "output_type": "execute_result"
    }
   ],
   "source": [
    "df['A_squared'] = df['A'].apply(lambda x: x**2) # Apply to column\n",
    "df['B_label'] = df['B'].map({4: 'Low', 5: 'Med', 6: 'High'}) # Map values\n",
    "df.sample(3)"
   ]
  },
  {
   "cell_type": "markdown",
   "id": "e350a372",
   "metadata": {},
   "source": [
    "### Task:"
   ]
  },
  {
   "cell_type": "markdown",
   "id": "b9383e56",
   "metadata": {},
   "source": [
    "- Generated a Synthetic Dataset with columns of `age`, `salary`, `department`, `years_experience`, and `is_manager`."
   ]
  },
  {
   "cell_type": "code",
   "execution_count": 17,
   "id": "e5f21c72",
   "metadata": {},
   "outputs": [
    {
     "name": "stdout",
     "output_type": "stream",
     "text": [
      "   age  salary department  years_experience  is_manager\n",
      "0   56   38392         IT              -0.8           0\n",
      "1   46   60535  Marketing               3.4           1\n",
      "2   32  108603         HR               5.0           1\n",
      "3   25   82256         HR               4.2           1\n",
      "4   38  119135         HR               4.1           1\n"
     ]
    }
   ],
   "source": [
    "import numpy as np\n",
    "import pandas as pd\n",
    "np.random.seed(42) # For reproducibility\n",
    "n_samples = 100 # Number of samples\n",
    "\n",
    "data = {\n",
    "    'age': np.random.randint(18, 60, size=n_samples),\n",
    "    'salary': np.random.randint(30000, 120000, size=n_samples),\n",
    "    'department': np.random.choice(['IT', 'HR', 'Finance', 'Marketing'], size=n_samples),\n",
    "    'years_experience': np.round(np.random.normal(5, 2, size=n_samples), 1),\n",
    "    'is_manager': np.random.choice([0, 1], size=n_samples)\n",
    "}\n",
    "df = pd.DataFrame(data)\n",
    "print(df.head())"
   ]
  },
  {
   "cell_type": "markdown",
   "id": "72aeed2a",
   "metadata": {},
   "source": [
    "Q1. View data structure"
   ]
  },
  {
   "cell_type": "code",
   "execution_count": 3,
   "id": "88704bcf",
   "metadata": {},
   "outputs": [
    {
     "name": "stdout",
     "output_type": "stream",
     "text": [
      "First 5 rows of the DataFrame: \n",
      "   age  salary department  years_experience  is_manager\n",
      "0   56   38392         IT              -0.8           0\n",
      "1   46   60535  Marketing               3.4           1\n",
      "2   32  108603         HR               5.0           1\n",
      "3   25   82256         HR               4.2           1\n",
      "4   38  119135         HR               4.1           1\n"
     ]
    }
   ],
   "source": [
    "print(\"First 5 rows of the DataFrame: \")\n",
    "print(df.head())"
   ]
  },
  {
   "cell_type": "code",
   "execution_count": 4,
   "id": "a73c6494",
   "metadata": {},
   "outputs": [
    {
     "name": "stdout",
     "output_type": "stream",
     "text": [
      "Column names: \n",
      "['age', 'salary', 'department', 'years_experience', 'is_manager']\n"
     ]
    }
   ],
   "source": [
    "print(\"Column names: \")\n",
    "print(df.columns.tolist())"
   ]
  },
  {
   "cell_type": "code",
   "execution_count": 5,
   "id": "2dba3cc0",
   "metadata": {},
   "outputs": [
    {
     "name": "stdout",
     "output_type": "stream",
     "text": [
      "Shape of DataFrame: \n",
      "(100, 5)\n"
     ]
    }
   ],
   "source": [
    "print(\"Shape of DataFrame: \")\n",
    "print(df.shape)"
   ]
  },
  {
   "cell_type": "code",
   "execution_count": 6,
   "id": "d08f730b",
   "metadata": {},
   "outputs": [
    {
     "name": "stdout",
     "output_type": "stream",
     "text": [
      "Data types: \n",
      "age                   int32\n",
      "salary                int32\n",
      "department           object\n",
      "years_experience    float64\n",
      "is_manager            int64\n",
      "dtype: object\n"
     ]
    }
   ],
   "source": [
    "print(\"Data types: \")\n",
    "print(df.dtypes)"
   ]
  },
  {
   "cell_type": "markdown",
   "id": "776e67b9",
   "metadata": {},
   "source": [
    "Q2. Get DataFrame Info and Summary Stats"
   ]
  },
  {
   "cell_type": "code",
   "execution_count": 7,
   "id": "17666094",
   "metadata": {},
   "outputs": [
    {
     "name": "stdout",
     "output_type": "stream",
     "text": [
      "DataFrame Info:\n",
      "<class 'pandas.core.frame.DataFrame'>\n",
      "RangeIndex: 100 entries, 0 to 99\n",
      "Data columns (total 5 columns):\n",
      " #   Column            Non-Null Count  Dtype  \n",
      "---  ------            --------------  -----  \n",
      " 0   age               100 non-null    int32  \n",
      " 1   salary            100 non-null    int32  \n",
      " 2   department        100 non-null    object \n",
      " 3   years_experience  100 non-null    float64\n",
      " 4   is_manager        100 non-null    int64  \n",
      "dtypes: float64(1), int32(2), int64(1), object(1)\n",
      "memory usage: 3.3+ KB\n",
      "None\n"
     ]
    }
   ],
   "source": [
    "print(\"DataFrame Info:\")\n",
    "print(df.info())"
   ]
  },
  {
   "cell_type": "code",
   "execution_count": 8,
   "id": "85713317",
   "metadata": {},
   "outputs": [
    {
     "name": "stdout",
     "output_type": "stream",
     "text": [
      "Summary Statistics for Numerical Columns:\n",
      "              age         salary  years_experience  is_manager\n",
      "count  100.000000     100.000000        100.000000  100.000000\n",
      "mean    37.910000   77809.160000          4.823000    0.470000\n",
      "std     12.219454   26058.643576          2.237822    0.501614\n",
      "min     18.000000   30206.000000         -0.800000    0.000000\n",
      "25%     26.750000   55141.000000          3.475000    0.000000\n",
      "50%     38.000000   80932.000000          4.700000    0.000000\n",
      "75%     46.250000   98107.250000          6.000000    1.000000\n",
      "max     59.000000  119474.000000         11.400000    1.000000\n"
     ]
    }
   ],
   "source": [
    "print(\"Summary Statistics for Numerical Columns:\")\n",
    "print(df.describe())"
   ]
  },
  {
   "cell_type": "code",
   "execution_count": 9,
   "id": "5206aab1",
   "metadata": {},
   "outputs": [
    {
     "name": "stdout",
     "output_type": "stream",
     "text": [
      "Summary Statistics for Categorical Columns:\n",
      "count           100\n",
      "unique            4\n",
      "top       Marketing\n",
      "freq             36\n",
      "Name: department, dtype: object\n"
     ]
    }
   ],
   "source": [
    "print(\"Summary Statistics for Categorical Columns:\")\n",
    "print(df['department'].describe())"
   ]
  },
  {
   "cell_type": "markdown",
   "id": "4aeb350a",
   "metadata": {},
   "source": [
    "Q3. Do Simple Numpy Operations"
   ]
  },
  {
   "cell_type": "code",
   "execution_count": 10,
   "id": "e12ace25",
   "metadata": {},
   "outputs": [
    {
     "name": "stdout",
     "output_type": "stream",
     "text": [
      "NumPy Operations:\n",
      "Mean age: 37.91\n",
      "Median salary: 80932.0\n",
      "Standard deviation of years_experience: 2.226605263624426\n",
      "Max salary: 119474\n",
      "Min age: 18\n"
     ]
    }
   ],
   "source": [
    "age_array = df['age'].to_numpy()\n",
    "salary_array = df['salary'].to_numpy()\n",
    "experience_array = df['years_experience'].to_numpy()\n",
    "\n",
    "print(\"NumPy Operations:\")\n",
    "print(\"Mean age:\", np.mean(age_array))\n",
    "print(\"Median salary:\", np.median(salary_array))\n",
    "print(\"Standard deviation of years_experience:\", np.std(experience_array))\n",
    "print(\"Max salary:\", np.max(salary_array))\n",
    "print(\"Min age:\", np.min(age_array))"
   ]
  },
  {
   "cell_type": "markdown",
   "id": "fac51bba",
   "metadata": {},
   "source": [
    "Q4. Filtering and Indexing Rows"
   ]
  },
  {
   "cell_type": "code",
   "execution_count": 11,
   "id": "de6f3d49",
   "metadata": {},
   "outputs": [
    {
     "name": "stdout",
     "output_type": "stream",
     "text": [
      "Employees over 40 in IT department:\n",
      "    age  salary department  years_experience  is_manager\n",
      "0    56   38392         IT              -0.8           0\n",
      "10   41   40965         IT               9.5           1\n",
      "56   59   96842         IT               1.9           1\n",
      "58   46   36776         IT               2.6           1\n",
      "63   53   35530         IT               1.2           1\n"
     ]
    }
   ],
   "source": [
    "filtered_df = df[(df['age'] > 40) & (df['department'] == 'IT')]\n",
    "print(\"Employees over 40 in IT department:\")\n",
    "print(filtered_df.head())"
   ]
  },
  {
   "cell_type": "code",
   "execution_count": 12,
   "id": "3114195b",
   "metadata": {},
   "outputs": [
    {
     "name": "stdout",
     "output_type": "stream",
     "text": [
      "Employees with above-average salary:\n",
      "   age  salary department  years_experience  is_manager\n",
      "2   32  108603         HR               5.0           1\n",
      "3   25   82256         HR               4.2           1\n",
      "4   38  119135         HR               4.1           1\n",
      "6   36  107373    Finance               6.7           1\n",
      "7   40  109575  Marketing               6.9           0\n"
     ]
    }
   ],
   "source": [
    "mean_salary = df['salary'].mean()\n",
    "high_salary_df = df[df['salary'] > mean_salary]\n",
    "print(\"Employees with above-average salary:\")\n",
    "print(high_salary_df.head())"
   ]
  },
  {
   "cell_type": "code",
   "execution_count": 13,
   "id": "20405741",
   "metadata": {},
   "outputs": [
    {
     "name": "stdout",
     "output_type": "stream",
     "text": [
      "Rows 10 to 15:\n",
      "    age  salary department  years_experience  is_manager\n",
      "10   41   40965         IT               9.5           1\n",
      "11   53   54538  Marketing               5.3           0\n",
      "12   57  100592    Finance               6.1           1\n",
      "13   41   38110         HR               2.0           1\n",
      "14   20  109309  Marketing               5.0           1\n",
      "15   39   57266         IT               5.8           1\n"
     ]
    }
   ],
   "source": [
    "print(\"Rows 10 to 15:\")\n",
    "print(df.iloc[10:16])"
   ]
  },
  {
   "cell_type": "markdown",
   "id": "2257f028",
   "metadata": {},
   "source": [
    "Q5. Adding a Column"
   ]
  },
  {
   "cell_type": "code",
   "execution_count": 14,
   "id": "c46ad19f",
   "metadata": {},
   "outputs": [
    {
     "name": "stdout",
     "output_type": "stream",
     "text": [
      "DataFrame with new column (first 5 rows):\n",
      "   salary  years_experience  salary_per_year_experience\n",
      "0   38392              -0.8               -47990.000000\n",
      "1   60535               3.4                17804.411765\n",
      "2  108603               5.0                21720.600000\n",
      "3   82256               4.2                19584.761905\n",
      "4  119135               4.1                29057.317073\n"
     ]
    }
   ],
   "source": [
    "df['salary_per_year_experience'] = df['salary'] / df['years_experience']\n",
    "df['salary_per_year_experience'] = df['salary_per_year_experience'].replace([np.inf, -np.inf], np.nan)\n",
    "print(\"DataFrame with new column (first 5 rows):\")\n",
    "print(df[['salary', 'years_experience', 'salary_per_year_experience']].head())"
   ]
  },
  {
   "cell_type": "markdown",
   "id": "65d7044c",
   "metadata": {},
   "source": [
    "Q6. Grouping and Aggregation"
   ]
  },
  {
   "cell_type": "code",
   "execution_count": 15,
   "id": "a046b7d7",
   "metadata": {},
   "outputs": [
    {
     "name": "stdout",
     "output_type": "stream",
     "text": [
      "Grouped by department (mean salary, median years_experience, total managers):\n",
      "                  salary  years_experience  is_manager\n",
      "department                                            \n",
      "Finance     83124.708333              4.25          10\n",
      "HR          73523.052632              4.20          10\n",
      "IT          75825.476190              4.30          13\n",
      "Marketing   77684.722222              5.30          14\n"
     ]
    }
   ],
   "source": [
    "grouped = df.groupby('department').agg({\n",
    "    'salary': 'mean',\n",
    "    'years_experience': 'median',\n",
    "    'is_manager': 'sum'\n",
    "})\n",
    "\n",
    "print(\"Grouped by department (mean salary, median years_experience, total managers):\")\n",
    "print(grouped)"
   ]
  },
  {
   "cell_type": "code",
   "execution_count": 16,
   "id": "abc7555c",
   "metadata": {},
   "outputs": [
    {
     "name": "stdout",
     "output_type": "stream",
     "text": [
      "Number of employees by manager status:\n",
      "is_manager\n",
      "0    53\n",
      "1    47\n",
      "dtype: int64\n"
     ]
    }
   ],
   "source": [
    "manager_counts = df.groupby('is_manager').size()\n",
    "print(\"Number of employees by manager status:\")\n",
    "print(manager_counts)"
   ]
  }
 ],
 "metadata": {
  "kernelspec": {
   "display_name": "base",
   "language": "python",
   "name": "python3"
  },
  "language_info": {
   "codemirror_mode": {
    "name": "ipython",
    "version": 3
   },
   "file_extension": ".py",
   "mimetype": "text/x-python",
   "name": "python",
   "nbconvert_exporter": "python",
   "pygments_lexer": "ipython3",
   "version": "3.12.7"
  }
 },
 "nbformat": 4,
 "nbformat_minor": 5
}
