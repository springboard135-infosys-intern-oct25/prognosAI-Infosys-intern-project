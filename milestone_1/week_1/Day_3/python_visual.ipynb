{
  "cells": [
    {
      "cell_type": "markdown",
      "id": "5cdb1787",
      "metadata": {
        "id": "5cdb1787"
      },
      "source": [
        "### Matplotlib and Seaborn\n",
        "\n",
        "Visualizing data is crucial in data analysis to uncover patterns, trends, and insights. Matplotlib and Seaborn are two of the most widely used Python libraries for this task.\n",
        "\n",
        "- What is Matplotlib?\n",
        "  - `matplotlib` is a foundational, low-level plotting library for Python, providing fine control over every element of a plot.\n",
        "\n",
        "  - It is open source and integrates closely with `numpy` and `pandas`.\n",
        "\n",
        "  - It is highly customizable and suitable for basic to highly complex visualizations, including 2D and some 3D plots.\n",
        "\n",
        "  - The primary interface is `pyplot`, which mimics MATLAB's style and syntax.​\n",
        "\n",
        "- What is Seaborn?\n",
        "   - `seaborn` is built on top of Matplotlib and offers a high-level interface for drawing attractive and informative statistical graphics.\n",
        "\n",
        "   - It integrates seamlessly with pandas DataFrames and includes built-in themes, color palettes, and statistical plotting functions.\n",
        "\n",
        "   - `seaborn` is ideal for quick, beautiful exploratory data analysis (EDA) and works especially well for grouped or relational data."
      ]
    },
    {
      "cell_type": "markdown",
      "id": "5724f55c",
      "metadata": {
        "id": "5724f55c"
      },
      "source": [
        "#### Key Properties and Characteristics\n",
        "\n",
        "| Feature          | Matplotlib                                 | Seaborn                                      |\n",
        "|------------------|--------------------------------------------|----------------------------------------------|\n",
        "| Level            | Low-level: detailed control, verbose       | High-level: succinct, easy to use             |\n",
        "| Customization    | Extremely flexible; everything can be tweaked | Good default aesthetics; less fine-tuning     |\n",
        "| Style            | Utilitarian by default; manual styling needed | Stylish by default; built-in color palettes   |\n",
        "| Complex Plots    | Requires more code for statistical plots   | Built-in support for complex statistical plots|\n",
        "| Integration      | Supports arrays and pandas                  | Native integration with pandas DataFrames     |\n",
        "| Use Cases       | Publication-quality, custom visualizations | Exploration, statistical visualizations       |\n"
      ]
    },
    {
      "cell_type": "markdown",
      "id": "547b6377",
      "metadata": {
        "id": "547b6377"
      },
      "source": [
        "#### Let's Explore All Kinds of Charts"
      ]
    },
    {
      "cell_type": "markdown",
      "id": "13fbb17b",
      "metadata": {
        "id": "13fbb17b"
      },
      "source": [
        "- Here this code generate a synthetic dataset contains features such as `Age`, `Salary`, `YearsExperience`, `Department`, `EducationLevel`, & `IsManager`. We will use this data to explore all kinds of charts."
      ]
    },
    {
      "cell_type": "code",
      "execution_count": 2,
      "id": "fd5f94a6",
      "metadata": {
        "colab": {
          "base_uri": "https://localhost:8080/",
          "height": 206
        },
        "id": "fd5f94a6",
        "outputId": "7bdf489c-5d89-46b6-a0d6-e443a58c9721"
      },
      "outputs": [
        {
          "data": {
            "text/plain": [
              "   Age  Salary  YearsExperience Department EducationLevel  IsManager\n",
              "0   63   73962               17         IT         Master          1\n",
              "1   20   60695                9         IT         Master          0\n",
              "2   46   80051                6         HR    High School          0\n",
              "3   52   64203                4    Finance       Bachelor          0\n",
              "4   56   82449               10    Finance       Bachelor          1"
            ],
            "text/html": [
              "<div>\n",
              "<style scoped>\n",
              "    .dataframe tbody tr th:only-of-type {\n",
              "        vertical-align: middle;\n",
              "    }\n",
              "\n",
              "    .dataframe tbody tr th {\n",
              "        vertical-align: top;\n",
              "    }\n",
              "\n",
              "    .dataframe thead th {\n",
              "        text-align: right;\n",
              "    }\n",
              "</style>\n",
              "<table border=\"1\" class=\"dataframe\">\n",
              "  <thead>\n",
              "    <tr style=\"text-align: right;\">\n",
              "      <th></th>\n",
              "      <th>Age</th>\n",
              "      <th>Salary</th>\n",
              "      <th>YearsExperience</th>\n",
              "      <th>Department</th>\n",
              "      <th>EducationLevel</th>\n",
              "      <th>IsManager</th>\n",
              "    </tr>\n",
              "  </thead>\n",
              "  <tbody>\n",
              "    <tr>\n",
              "      <th>0</th>\n",
              "      <td>63</td>\n",
              "      <td>73962</td>\n",
              "      <td>17</td>\n",
              "      <td>IT</td>\n",
              "      <td>Master</td>\n",
              "      <td>1</td>\n",
              "    </tr>\n",
              "    <tr>\n",
              "      <th>1</th>\n",
              "      <td>20</td>\n",
              "      <td>60695</td>\n",
              "      <td>9</td>\n",
              "      <td>IT</td>\n",
              "      <td>Master</td>\n",
              "      <td>0</td>\n",
              "    </tr>\n",
              "    <tr>\n",
              "      <th>2</th>\n",
              "      <td>46</td>\n",
              "      <td>80051</td>\n",
              "      <td>6</td>\n",
              "      <td>HR</td>\n",
              "      <td>High School</td>\n",
              "      <td>0</td>\n",
              "    </tr>\n",
              "    <tr>\n",
              "      <th>3</th>\n",
              "      <td>52</td>\n",
              "      <td>64203</td>\n",
              "      <td>4</td>\n",
              "      <td>Finance</td>\n",
              "      <td>Bachelor</td>\n",
              "      <td>0</td>\n",
              "    </tr>\n",
              "    <tr>\n",
              "      <th>4</th>\n",
              "      <td>56</td>\n",
              "      <td>82449</td>\n",
              "      <td>10</td>\n",
              "      <td>Finance</td>\n",
              "      <td>Bachelor</td>\n",
              "      <td>1</td>\n",
              "    </tr>\n",
              "  </tbody>\n",
              "</table>\n",
              "</div>\n",
              "    <div class=\"colab-df-buttons\">\n",
              "\n",
              "  <div class=\"colab-df-container\">\n",
              "    <button class=\"colab-df-convert\" onclick=\"convertToInteractive('df-1e802e78-aa88-4871-a2e2-6d08e14bc78f')\"\n",
              "            title=\"Convert this dataframe to an interactive table.\"\n",
              "            style=\"display:none;\">\n",
              "\n",
              "  <svg xmlns=\"http://www.w3.org/2000/svg\" height=\"24px\" viewBox=\"0 -960 960 960\">\n",
              "    <path d=\"M120-120v-720h720v720H120Zm60-500h600v-160H180v160Zm220 220h160v-160H400v160Zm0 220h160v-160H400v160ZM180-400h160v-160H180v160Zm440 0h160v-160H620v160ZM180-180h160v-160H180v160Zm440 0h160v-160H620v160Z\"/>\n",
              "  </svg>\n",
              "    </button>\n",
              "\n",
              "  <style>\n",
              "    .colab-df-container {\n",
              "      display:flex;\n",
              "      gap: 12px;\n",
              "    }\n",
              "\n",
              "    .colab-df-convert {\n",
              "      background-color: #E8F0FE;\n",
              "      border: none;\n",
              "      border-radius: 50%;\n",
              "      cursor: pointer;\n",
              "      display: none;\n",
              "      fill: #1967D2;\n",
              "      height: 32px;\n",
              "      padding: 0 0 0 0;\n",
              "      width: 32px;\n",
              "    }\n",
              "\n",
              "    .colab-df-convert:hover {\n",
              "      background-color: #E2EBFA;\n",
              "      box-shadow: 0px 1px 2px rgba(60, 64, 67, 0.3), 0px 1px 3px 1px rgba(60, 64, 67, 0.15);\n",
              "      fill: #174EA6;\n",
              "    }\n",
              "\n",
              "    .colab-df-buttons div {\n",
              "      margin-bottom: 4px;\n",
              "    }\n",
              "\n",
              "    [theme=dark] .colab-df-convert {\n",
              "      background-color: #3B4455;\n",
              "      fill: #D2E3FC;\n",
              "    }\n",
              "\n",
              "    [theme=dark] .colab-df-convert:hover {\n",
              "      background-color: #434B5C;\n",
              "      box-shadow: 0px 1px 3px 1px rgba(0, 0, 0, 0.15);\n",
              "      filter: drop-shadow(0px 1px 2px rgba(0, 0, 0, 0.3));\n",
              "      fill: #FFFFFF;\n",
              "    }\n",
              "  </style>\n",
              "\n",
              "    <script>\n",
              "      const buttonEl =\n",
              "        document.querySelector('#df-1e802e78-aa88-4871-a2e2-6d08e14bc78f button.colab-df-convert');\n",
              "      buttonEl.style.display =\n",
              "        google.colab.kernel.accessAllowed ? 'block' : 'none';\n",
              "\n",
              "      async function convertToInteractive(key) {\n",
              "        const element = document.querySelector('#df-1e802e78-aa88-4871-a2e2-6d08e14bc78f');\n",
              "        const dataTable =\n",
              "          await google.colab.kernel.invokeFunction('convertToInteractive',\n",
              "                                                    [key], {});\n",
              "        if (!dataTable) return;\n",
              "\n",
              "        const docLinkHtml = 'Like what you see? Visit the ' +\n",
              "          '<a target=\"_blank\" href=https://colab.research.google.com/notebooks/data_table.ipynb>data table notebook</a>'\n",
              "          + ' to learn more about interactive tables.';\n",
              "        element.innerHTML = '';\n",
              "        dataTable['output_type'] = 'display_data';\n",
              "        await google.colab.output.renderOutput(dataTable, element);\n",
              "        const docLink = document.createElement('div');\n",
              "        docLink.innerHTML = docLinkHtml;\n",
              "        element.appendChild(docLink);\n",
              "      }\n",
              "    </script>\n",
              "  </div>\n",
              "\n",
              "\n",
              "    <div id=\"df-514cc7c0-6433-471d-b2cf-cf032945d305\">\n",
              "      <button class=\"colab-df-quickchart\" onclick=\"quickchart('df-514cc7c0-6433-471d-b2cf-cf032945d305')\"\n",
              "                title=\"Suggest charts\"\n",
              "                style=\"display:none;\">\n",
              "\n",
              "<svg xmlns=\"http://www.w3.org/2000/svg\" height=\"24px\"viewBox=\"0 0 24 24\"\n",
              "     width=\"24px\">\n",
              "    <g>\n",
              "        <path d=\"M19 3H5c-1.1 0-2 .9-2 2v14c0 1.1.9 2 2 2h14c1.1 0 2-.9 2-2V5c0-1.1-.9-2-2-2zM9 17H7v-7h2v7zm4 0h-2V7h2v10zm4 0h-2v-4h2v4z\"/>\n",
              "    </g>\n",
              "</svg>\n",
              "      </button>\n",
              "\n",
              "<style>\n",
              "  .colab-df-quickchart {\n",
              "      --bg-color: #E8F0FE;\n",
              "      --fill-color: #1967D2;\n",
              "      --hover-bg-color: #E2EBFA;\n",
              "      --hover-fill-color: #174EA6;\n",
              "      --disabled-fill-color: #AAA;\n",
              "      --disabled-bg-color: #DDD;\n",
              "  }\n",
              "\n",
              "  [theme=dark] .colab-df-quickchart {\n",
              "      --bg-color: #3B4455;\n",
              "      --fill-color: #D2E3FC;\n",
              "      --hover-bg-color: #434B5C;\n",
              "      --hover-fill-color: #FFFFFF;\n",
              "      --disabled-bg-color: #3B4455;\n",
              "      --disabled-fill-color: #666;\n",
              "  }\n",
              "\n",
              "  .colab-df-quickchart {\n",
              "    background-color: var(--bg-color);\n",
              "    border: none;\n",
              "    border-radius: 50%;\n",
              "    cursor: pointer;\n",
              "    display: none;\n",
              "    fill: var(--fill-color);\n",
              "    height: 32px;\n",
              "    padding: 0;\n",
              "    width: 32px;\n",
              "  }\n",
              "\n",
              "  .colab-df-quickchart:hover {\n",
              "    background-color: var(--hover-bg-color);\n",
              "    box-shadow: 0 1px 2px rgba(60, 64, 67, 0.3), 0 1px 3px 1px rgba(60, 64, 67, 0.15);\n",
              "    fill: var(--button-hover-fill-color);\n",
              "  }\n",
              "\n",
              "  .colab-df-quickchart-complete:disabled,\n",
              "  .colab-df-quickchart-complete:disabled:hover {\n",
              "    background-color: var(--disabled-bg-color);\n",
              "    fill: var(--disabled-fill-color);\n",
              "    box-shadow: none;\n",
              "  }\n",
              "\n",
              "  .colab-df-spinner {\n",
              "    border: 2px solid var(--fill-color);\n",
              "    border-color: transparent;\n",
              "    border-bottom-color: var(--fill-color);\n",
              "    animation:\n",
              "      spin 1s steps(1) infinite;\n",
              "  }\n",
              "\n",
              "  @keyframes spin {\n",
              "    0% {\n",
              "      border-color: transparent;\n",
              "      border-bottom-color: var(--fill-color);\n",
              "      border-left-color: var(--fill-color);\n",
              "    }\n",
              "    20% {\n",
              "      border-color: transparent;\n",
              "      border-left-color: var(--fill-color);\n",
              "      border-top-color: var(--fill-color);\n",
              "    }\n",
              "    30% {\n",
              "      border-color: transparent;\n",
              "      border-left-color: var(--fill-color);\n",
              "      border-top-color: var(--fill-color);\n",
              "      border-right-color: var(--fill-color);\n",
              "    }\n",
              "    40% {\n",
              "      border-color: transparent;\n",
              "      border-right-color: var(--fill-color);\n",
              "      border-top-color: var(--fill-color);\n",
              "    }\n",
              "    60% {\n",
              "      border-color: transparent;\n",
              "      border-right-color: var(--fill-color);\n",
              "    }\n",
              "    80% {\n",
              "      border-color: transparent;\n",
              "      border-right-color: var(--fill-color);\n",
              "      border-bottom-color: var(--fill-color);\n",
              "    }\n",
              "    90% {\n",
              "      border-color: transparent;\n",
              "      border-bottom-color: var(--fill-color);\n",
              "    }\n",
              "  }\n",
              "</style>\n",
              "\n",
              "      <script>\n",
              "        async function quickchart(key) {\n",
              "          const quickchartButtonEl =\n",
              "            document.querySelector('#' + key + ' button');\n",
              "          quickchartButtonEl.disabled = true;  // To prevent multiple clicks.\n",
              "          quickchartButtonEl.classList.add('colab-df-spinner');\n",
              "          try {\n",
              "            const charts = await google.colab.kernel.invokeFunction(\n",
              "                'suggestCharts', [key], {});\n",
              "          } catch (error) {\n",
              "            console.error('Error during call to suggestCharts:', error);\n",
              "          }\n",
              "          quickchartButtonEl.classList.remove('colab-df-spinner');\n",
              "          quickchartButtonEl.classList.add('colab-df-quickchart-complete');\n",
              "        }\n",
              "        (() => {\n",
              "          let quickchartButtonEl =\n",
              "            document.querySelector('#df-514cc7c0-6433-471d-b2cf-cf032945d305 button');\n",
              "          quickchartButtonEl.style.display =\n",
              "            google.colab.kernel.accessAllowed ? 'block' : 'none';\n",
              "        })();\n",
              "      </script>\n",
              "    </div>\n",
              "\n",
              "    </div>\n",
              "  </div>\n"
            ],
            "application/vnd.google.colaboratory.intrinsic+json": {
              "type": "dataframe",
              "variable_name": "df",
              "summary": "{\n  \"name\": \"df\",\n  \"rows\": 200,\n  \"fields\": [\n    {\n      \"column\": \"Age\",\n      \"properties\": {\n        \"dtype\": \"number\",\n        \"std\": 15,\n        \"min\": 18,\n        \"max\": 69,\n        \"num_unique_values\": 51,\n        \"samples\": [\n          44,\n          62,\n          68\n        ],\n        \"semantic_type\": \"\",\n        \"description\": \"\"\n      }\n    },\n    {\n      \"column\": \"Salary\",\n      \"properties\": {\n        \"dtype\": \"number\",\n        \"std\": 13918,\n        \"min\": 20140,\n        \"max\": 95152,\n        \"num_unique_values\": 200,\n        \"samples\": [\n          56340,\n          56989,\n          65067\n        ],\n        \"semantic_type\": \"\",\n        \"description\": \"\"\n      }\n    },\n    {\n      \"column\": \"YearsExperience\",\n      \"properties\": {\n        \"dtype\": \"number\",\n        \"std\": 4,\n        \"min\": 0,\n        \"max\": 22,\n        \"num_unique_values\": 23,\n        \"samples\": [\n          16,\n          12,\n          17\n        ],\n        \"semantic_type\": \"\",\n        \"description\": \"\"\n      }\n    },\n    {\n      \"column\": \"Department\",\n      \"properties\": {\n        \"dtype\": \"category\",\n        \"num_unique_values\": 5,\n        \"samples\": [\n          \"HR\",\n          \"Sales\",\n          \"Finance\"\n        ],\n        \"semantic_type\": \"\",\n        \"description\": \"\"\n      }\n    },\n    {\n      \"column\": \"EducationLevel\",\n      \"properties\": {\n        \"dtype\": \"category\",\n        \"num_unique_values\": 4,\n        \"samples\": [\n          \"High School\",\n          \"PhD\",\n          \"Master\"\n        ],\n        \"semantic_type\": \"\",\n        \"description\": \"\"\n      }\n    },\n    {\n      \"column\": \"IsManager\",\n      \"properties\": {\n        \"dtype\": \"number\",\n        \"std\": 0,\n        \"min\": 0,\n        \"max\": 1,\n        \"num_unique_values\": 2,\n        \"samples\": [\n          0,\n          1\n        ],\n        \"semantic_type\": \"\",\n        \"description\": \"\"\n      }\n    }\n  ]\n}"
            }
          },
          "metadata": {},
          "output_type": "execute_result"
        }
      ],
      "source": [
        "import numpy as np\n",
        "import pandas as pd\n",
        "\n",
        "def generate_dataset(num_samples=200, seed=123):\n",
        "    np.random.seed(seed)\n",
        "\n",
        "    # Numeric continuous features\n",
        "    age = np.random.randint(18, 70, size=num_samples)  # Age in years\n",
        "    salary = np.random.normal(loc=60000, scale=15000, size=num_samples).astype(int)  # Annual salary in USD\n",
        "    years_experience = np.clip(np.random.normal(loc=10, scale=5, size=num_samples), 0, None).astype(int)  # Years of experience\n",
        "\n",
        "    # Categorical features\n",
        "    departments = ['HR', 'IT', 'Finance', 'Marketing', 'Sales']\n",
        "    department = np.random.choice(departments, size=num_samples)\n",
        "\n",
        "    education_levels = ['High School', 'Bachelor', 'Master', 'PhD']\n",
        "    education = np.random.choice(education_levels, size=num_samples, p=[0.2, 0.5, 0.25, 0.05])\n",
        "\n",
        "    # Target / label - e.g., whether employee is a manager (binary)\n",
        "    is_manager = (years_experience > 8) & (salary > 65000)\n",
        "    is_manager = is_manager.astype(int)\n",
        "\n",
        "    # Build DataFrame\n",
        "    df = pd.DataFrame({\n",
        "        'Age': age,\n",
        "        'Salary': salary,\n",
        "        'YearsExperience': years_experience,\n",
        "        'Department': department,\n",
        "        'EducationLevel': education,\n",
        "        'IsManager': is_manager\n",
        "    })\n",
        "\n",
        "    return df\n",
        "\n",
        "# Example usage\n",
        "df = generate_dataset()\n",
        "df.head()"
      ]
    },
    {
      "cell_type": "code",
      "execution_count": 2,
      "id": "e35c77a5",
      "metadata": {
        "id": "e35c77a5"
      },
      "outputs": [],
      "source": [
        "# Importing necessary libraries for visualization\n",
        "import matplotlib.pyplot as plt\n",
        "import seaborn as sns\n",
        "\n",
        "# Suppress warnings for cleaner output\n",
        "import warnings\n",
        "warnings.simplefilter(action='ignore', category=FutureWarning)"
      ]
    },
    {
      "cell_type": "markdown",
      "id": "0a575643",
      "metadata": {
        "id": "0a575643"
      },
      "source": [
        "##### 1. Bar Chart (Vertical)\n",
        "\n",
        "- **Definition**: Vertical bars represent values for categorical data."
      ]
    },
    {
      "cell_type": "code",
      "execution_count": 3,
      "id": "f6f21f80",
      "metadata": {
        "colab": {
          "base_uri": "https://localhost:8080/",
          "height": 410
        },
        "id": "f6f21f80",
        "outputId": "f94e4a5c-0326-4632-ace4-9237b4a50811"
      },
      "outputs": [
        {
          "data": {
            "text/plain": [
              "<Figure size 800x400 with 1 Axes>"
            ]
          },
          "metadata": {},
          "output_type": "display_data"
        }
      ],
      "source": [
        "import matplotlib.pyplot as plt\n",
        "data = df['Department'].value_counts()\n",
        "plt.figure(figsize=(8,4))\n",
        "plt.bar(data.index, data.values, color='skyblue')\n",
        "plt.title('Number of Employees per Department (Vertical Bar Chart)')\n",
        "plt.xlabel('Department')\n",
        "plt.ylabel('Count')\n",
        "plt.show()"
      ]
    },
    {
      "cell_type": "markdown",
      "id": "e45f69ff",
      "metadata": {
        "id": "e45f69ff"
      },
      "source": [
        "#### 2. Bar Chart (Horizontal)\n",
        "\n",
        "- **Definition**: Horizontal bars show categorical data values, beneficial for long labels."
      ]
    },
    {
      "cell_type": "code",
      "execution_count": 4,
      "id": "0844a7b0",
      "metadata": {
        "colab": {
          "base_uri": "https://localhost:8080/",
          "height": 410
        },
        "id": "0844a7b0",
        "outputId": "a0ab6bff-e9fd-4a79-80ee-b461864db1b5"
      },
      "outputs": [
        {
          "data": {
            "text/plain": [
              "<Figure size 800x400 with 1 Axes>"
            ]
          },
          "metadata": {},
          "output_type": "display_data"
        }
      ],
      "source": [
        "plt.figure(figsize=(8,4))\n",
        "plt.barh(data.index, data.values, color='teal')\n",
        "plt.title('Number of Employees per Department (Horizontal Bar Chart)')\n",
        "plt.ylabel('Department')\n",
        "plt.xlabel('Count')\n",
        "plt.show()"
      ]
    },
    {
      "cell_type": "markdown",
      "id": "b72ea9e1",
      "metadata": {
        "id": "b72ea9e1"
      },
      "source": [
        "#### 3. Stacked Bar Chart (Vertical)\n",
        "\n",
        "- **Definition**: Bars divided vertically into segments representing sub-categories."
      ]
    },
    {
      "cell_type": "code",
      "execution_count": 5,
      "id": "e4fc3c59",
      "metadata": {
        "colab": {
          "base_uri": "https://localhost:8080/",
          "height": 507
        },
        "id": "e4fc3c59",
        "outputId": "41a576aa-832c-46f1-a2c7-73d3a19fc12a"
      },
      "outputs": [
        {
          "data": {
            "text/plain": [
              "<Figure size 800x500 with 1 Axes>"
            ]
          },
          "metadata": {},
          "output_type": "display_data"
        }
      ],
      "source": [
        "ct = pd.crosstab(df['Department'], df['EducationLevel'])\n",
        "ct.plot(kind='bar', stacked=True, figsize=(8,5), colormap='viridis')\n",
        "plt.title('Stacked Bar Chart: Education Level in Departments')\n",
        "plt.xlabel('Department')\n",
        "plt.ylabel('Count')\n",
        "plt.legend(title='Education Level', bbox_to_anchor=(1.05, 1), loc='upper left')\n",
        "plt.tight_layout()\n",
        "plt.show()"
      ]
    },
    {
      "cell_type": "markdown",
      "id": "fe265c82",
      "metadata": {
        "id": "fe265c82"
      },
      "source": [
        "Q. What is a Stacked Bar Chart?\n",
        "\n",
        "A `stacked` bar chart is an extension of a basic bar chart that shows two categorical variables simultaneously. Each bar represents a category from the first variable (like 'Department'), and is divided into segments stacked on top of each other, where each segment corresponds to a category of the second variable (like 'Education Level').\n",
        "\n",
        "This means instead of separate bars for each education level per department, all levels are stacked in one bar, helping you see both  the total counts per department and the composition of education levels within those totals."
      ]
    },
    {
      "cell_type": "markdown",
      "id": "684b8de6",
      "metadata": {
        "id": "684b8de6"
      },
      "source": [
        "#### 4. Stacked Bar Chart (Horizontal)\n",
        "\n",
        "- **Definition**: Horizontal stacked bars split by sub-categories."
      ]
    },
    {
      "cell_type": "code",
      "execution_count": 6,
      "id": "443906a5",
      "metadata": {
        "colab": {
          "base_uri": "https://localhost:8080/",
          "height": 507
        },
        "id": "443906a5",
        "outputId": "20bb30f6-6c49-4780-f9a4-7fff2a728273"
      },
      "outputs": [
        {
          "data": {
            "text/plain": [
              "<Figure size 800x500 with 1 Axes>"
            ]
          },
          "metadata": {},
          "output_type": "display_data"
        }
      ],
      "source": [
        "ct.plot(kind='barh', stacked=True, figsize=(8,5), colormap='plasma')\n",
        "plt.title('Stacked Horizontal Bar Chart: Education Level in Departments')\n",
        "plt.ylabel('Department')\n",
        "plt.xlabel('Count')\n",
        "plt.legend(title='Education Level', bbox_to_anchor=(1.05, 1), loc='upper left')\n",
        "plt.tight_layout()\n",
        "plt.show()"
      ]
    },
    {
      "cell_type": "markdown",
      "id": "fb07daaa",
      "metadata": {
        "id": "fb07daaa"
      },
      "source": [
        "#### 5. Histogram (Vertical)\n",
        "\n",
        "- **Definition**: Distribution of numeric data shown as frequency bars."
      ]
    },
    {
      "cell_type": "code",
      "execution_count": 7,
      "id": "64218380",
      "metadata": {
        "colab": {
          "base_uri": "https://localhost:8080/",
          "height": 410
        },
        "id": "64218380",
        "outputId": "f8f7a3c1-11c2-4f5a-ccd3-75045159c7bb"
      },
      "outputs": [
        {
          "data": {
            "text/plain": [
              "<Figure size 800x400 with 1 Axes>"
            ]
          },
          "metadata": {},
          "output_type": "display_data"
        }
      ],
      "source": [
        "plt.figure(figsize=(8,4))\n",
        "plt.hist(df['Salary'], bins=20, color='coral', edgecolor='black')\n",
        "plt.title('Distribution of Salaries (Histogram)')\n",
        "plt.xlabel('Salary')\n",
        "plt.ylabel('Frequency')\n",
        "plt.show()"
      ]
    },
    {
      "cell_type": "markdown",
      "id": "5278f59e",
      "metadata": {
        "id": "5278f59e"
      },
      "source": [
        "#### 6. Histogram (Horizontal)\n",
        "\n",
        "- **Definition**: Horizontal version of histogram for numeric data distribution."
      ]
    },
    {
      "cell_type": "code",
      "execution_count": 8,
      "id": "d397315f",
      "metadata": {
        "colab": {
          "base_uri": "https://localhost:8080/",
          "height": 410
        },
        "id": "d397315f",
        "outputId": "a26c7cfb-1a95-404f-c1d6-67ce7e237aac"
      },
      "outputs": [
        {
          "data": {
            "text/plain": [
              "<Figure size 800x400 with 1 Axes>"
            ]
          },
          "metadata": {},
          "output_type": "display_data"
        }
      ],
      "source": [
        "import seaborn as sns\n",
        "plt.figure(figsize=(8,4))\n",
        "sns.histplot(df['YearsExperience'], bins=20, color='skyblue', kde=False, orientation='horizontal')\n",
        "plt.title('Distribution of Years of Experience (Horizontal Histogram)')\n",
        "plt.xlabel('Frequency')\n",
        "plt.ylabel('Years of Experience')\n",
        "plt.show()"
      ]
    },
    {
      "cell_type": "markdown",
      "id": "4b6f9fbc",
      "metadata": {
        "id": "4b6f9fbc"
      },
      "source": [
        "Q. How to understanding the difference between `Histograms` and `Bar` plots?\n",
        "\n",
        "1. `Bar` Chart\n",
        "\n",
        "  - Bar charts display categorical data as separate bars.\n",
        "\n",
        "  - Each bar's height (or length) shows the count or value for that category.\n",
        "\n",
        "  - Bars are separated by gaps because categories are discrete.\n",
        "\n",
        "  - Example: Number of employees in different departments.\n",
        "\n",
        "2. `Histogram`\n",
        "  - Histograms visualize the distribution of numeric continuous data.\n",
        "\n",
        "  - The data range is divided into adjacent intervals called bins, and bars represent frequencies in these bins.\n",
        "\n",
        "  - Unlike bar charts, histogram bars touch each other because the data is continuous.\n",
        "\n",
        "  - Example: Distribution of years of experience among employees."
      ]
    },
    {
      "cell_type": "markdown",
      "id": "8a31d7b7",
      "metadata": {
        "id": "8a31d7b7"
      },
      "source": [
        "#### 7. Scatterplot\n",
        "\n",
        "- **Definition**: Plots points for two numerical variables to explore relationships."
      ]
    },
    {
      "cell_type": "code",
      "execution_count": 9,
      "id": "dcdf310c",
      "metadata": {
        "colab": {
          "base_uri": "https://localhost:8080/",
          "height": 564
        },
        "id": "dcdf310c",
        "outputId": "9f3fe0c0-5ae7-4957-f751-f4d2abb6ffde"
      },
      "outputs": [
        {
          "data": {
            "text/plain": [
              "<Figure size 800x600 with 1 Axes>"
            ]
          },
          "metadata": {},
          "output_type": "display_data"
        }
      ],
      "source": [
        "plt.figure(figsize=(8,6))\n",
        "sns.scatterplot(data=df, x='YearsExperience', y='Salary', hue='Department', palette='deep')\n",
        "plt.title('Scatterplot of Salary vs Years of Experience')\n",
        "plt.xlabel('Years of Experience')\n",
        "plt.ylabel('Salary')\n",
        "plt.show()"
      ]
    },
    {
      "cell_type": "markdown",
      "id": "8485ee3a",
      "metadata": {
        "id": "8485ee3a"
      },
      "source": [
        "#### 8. Pie Chart\n",
        "\n",
        "- **Definition**: Circular chart showing proportions of categories as slices."
      ]
    },
    {
      "cell_type": "code",
      "execution_count": 10,
      "id": "00f1c96a",
      "metadata": {
        "colab": {
          "base_uri": "https://localhost:8080/",
          "height": 521
        },
        "id": "00f1c96a",
        "outputId": "dd94e790-eb09-458f-94f0-c79194d31326"
      },
      "outputs": [
        {
          "data": {
            "text/plain": [
              "<Figure size 600x600 with 1 Axes>"
            ]
          },
          "metadata": {},
          "output_type": "display_data"
        }
      ],
      "source": [
        "plt.figure(figsize=(6,6))\n",
        "dep_counts = df['Department'].value_counts()\n",
        "plt.pie(dep_counts, labels=dep_counts.index, autopct='%1.1f%%', startangle=140, colors=sns.color_palette('pastel'))\n",
        "plt.title('Employee Distribution by Department (Pie Chart)')\n",
        "plt.show()"
      ]
    },
    {
      "cell_type": "markdown",
      "id": "3c7f76d6",
      "metadata": {
        "id": "3c7f76d6"
      },
      "source": [
        "#### 9. Boxplot (Box-and-Whisker Plot)\n",
        "\n",
        "- **Definition**: Visualizes data distribution through medians, quartiles, and outliers."
      ]
    },
    {
      "cell_type": "code",
      "execution_count": 11,
      "id": "496a4ad0",
      "metadata": {
        "colab": {
          "base_uri": "https://localhost:8080/",
          "height": 487
        },
        "id": "496a4ad0",
        "outputId": "a1fb1a35-65ea-4a57-d46c-0466be9a5c2d"
      },
      "outputs": [
        {
          "data": {
            "text/plain": [
              "<Figure size 800x500 with 1 Axes>"
            ]
          },
          "metadata": {},
          "output_type": "display_data"
        }
      ],
      "source": [
        "plt.figure(figsize=(8,5))\n",
        "sns.boxplot(data=df, x='Department', y='Salary', palette='Set2')\n",
        "plt.title('Salary Distribution by Department (Boxplot)')\n",
        "plt.xlabel('Department')\n",
        "plt.ylabel('Salary')\n",
        "plt.show()"
      ]
    },
    {
      "cell_type": "markdown",
      "id": "00e79e99",
      "metadata": {
        "id": "00e79e99"
      },
      "source": [
        "**NOTE**: In the marketing department's boxplot, small circles represent `outliers`—these are individual salary data points that lie significantly outside the typical range of salaries within the department. The box encapsulates the middle 50% of salaries, while the whiskers extend to values within 1.5 times the interquartile range; any points beyond this range are marked as outliers with small circles. These outlier salaries indicate unusually high or low earnings compared to most employees in marketing, highlighting potential exceptional cases or data variability."
      ]
    },
    {
      "cell_type": "markdown",
      "id": "d6625389",
      "metadata": {
        "id": "d6625389"
      },
      "source": [
        "#### 10. Bubble Plot\n",
        "- Definition: Scatterplot with bubble size representing a third numeric variable."
      ]
    },
    {
      "cell_type": "code",
      "execution_count": 12,
      "id": "1560070d",
      "metadata": {
        "colab": {
          "base_uri": "https://localhost:8080/",
          "height": 564
        },
        "id": "1560070d",
        "outputId": "8f667c50-59a1-45cb-ddf6-3cfd0d057a80"
      },
      "outputs": [
        {
          "data": {
            "text/plain": [
              "<Figure size 800x600 with 1 Axes>"
            ]
          },
          "metadata": {},
          "output_type": "display_data"
        }
      ],
      "source": [
        "plt.figure(figsize=(8,6))\n",
        "sns.scatterplot(data=df, x='YearsExperience', y='Salary', size='Age', hue='Department', sizes=(20, 200), alpha=0.7, palette='muted')\n",
        "plt.title('Bubble Plot: Salary vs Experience, Bubble Size=Age')\n",
        "plt.xlabel('Years of Experience')\n",
        "plt.ylabel('Salary')\n",
        "plt.show()"
      ]
    },
    {
      "cell_type": "markdown",
      "id": "d11e6ccc",
      "metadata": {
        "id": "d11e6ccc"
      },
      "source": [
        "#### Task: Department-wise Salary Distribution and Managerial Status\n",
        "\n",
        "- Create a boxplot showing the salary distribution for each department.\n",
        "- Overlay or color the data points by managerial status (IsManager) to observe how salaries differ for managers and non-managers within departments.\n",
        "- Summarize any differences in salary spread and median values among departments and between managerial groups"
      ]
    },
    {
      "cell_type": "code",
      "execution_count": 25,
      "id": "0540d00c",
      "metadata": {
        "colab": {
          "base_uri": "https://localhost:8080/",
          "height": 607
        },
        "id": "0540d00c",
        "outputId": "c560248a-2bca-4fc3-fff2-a164d6d16d53"
      },
      "outputs": [
        {
          "data": {
            "text/plain": [
              "<Figure size 1000x600 with 1 Axes>"
            ],
            "image/png": "[encoded data removed]"
          },
          "metadata": {}
        }
      ],
      "source": [
        "import matplotlib.pyplot as plt\n",
        "import seaborn as sns\n",
        "\n",
        "plt.figure(figsize=(10,6))\n",
        "\n",
        "df['IsManagerLabel'] = df['IsManager'].map({0: 'Non-Manager', 1: 'Manager'})\n",
        "sns.boxplot(data=df, x='Department', y='Salary', hue='IsManager', hue_order=[0, 1], palette={0: 'blue', 1: 'red'})\n",
        "\n",
        "plt.title('Department-wise Salary Distribution by Managerial Status')\n",
        "plt.xlabel('Department')\n",
        "plt.ylabel('Salary')\n",
        "plt.legend(title='Managerial Status', labels=['Non-Manager', 'Manager'], loc='upper right')\n",
        "\n",
        "plt.tight_layout()\n",
        "plt.show()\n",
        "\n",
        "\n",
        "summary = df.groupby(['Department', 'IsManager'])['Salary'].describe()[['mean', '50%', 'std', 'min', 'max']]\n",
        "summary.rename(columns={'50%': 'median'}, inplace=True)\n",
        "\n",
        "print(\"Salary Summary by Department and Managerial Status:\\n\")\n",
        "print(summary)"
      ]
    }
  ],
  "metadata": {
    "colab": {
      "provenance": []
    },
    "kernelspec": {
      "display_name": "Python 3",
      "language": "python",
      "name": "python3"
    },
    "language_info": {
      "codemirror_mode": {
        "name": "ipython",
        "version": 3
      },
      "file_extension": ".py",
      "mimetype": "text/x-python",
      "name": "python",
      "nbconvert_exporter": "python",
      "pygments_lexer": "ipython3",
      "version": "3.11.9"
    },
    "colab": {
      "provenance": []
    }
  },
  "nbformat": 4,
  "nbformat_minor": 5
}
