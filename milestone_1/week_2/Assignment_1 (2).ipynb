{
  "cells": [
    {
      "cell_type": "markdown",
      "id": "3d628278",
      "metadata": {
        "id": "3d628278"
      },
      "source": [
        "### Assignment - 1"
      ]
    },
    {
      "cell_type": "markdown",
      "id": "51b0f193",
      "metadata": {
        "id": "51b0f193"
      },
      "source": [
        "#### 1. Load and Inspect the CMAPSS Dataset\n",
        "Task:\n",
        "- Write Python code to load the raw `train_FD001.txt` dataset for CMAPSS using Pandas, assign appropriate column names, and display the shape, data types, and first 5 rows of the DataFrame.\n",
        "- Expected Output: DataFrame shape, info, and sample rows.\n",
        "\n",
        "Use the link to download the dataset:\n",
        "https://data.nasa.gov/dataset/cmapss-jet-engine-simulated-data"
      ]
    },
    {
      "cell_type": "code",
      "execution_count": 10,
      "id": "8af6f4ae",
      "metadata": {
        "colab": {
          "base_uri": "https://localhost:8080/"
        },
        "id": "8af6f4ae",
        "outputId": "e815fd45-5b08-48b2-e0bb-5bd24af6a430"
      },
      "outputs": [
        {
          "output_type": "stream",
          "name": "stdout",
          "text": [
            "Dataset Shape: (20631, 26)\n",
            "\n",
            "Dataset Info:\n",
            "<class 'pandas.core.frame.DataFrame'>\n",
            "RangeIndex: 20631 entries, 0 to 20630\n",
            "Data columns (total 26 columns):\n",
            " #   Column        Non-Null Count  Dtype  \n",
            "---  ------        --------------  -----  \n",
            " 0   engine_id     20631 non-null  int64  \n",
            " 1   cycle         20631 non-null  int64  \n",
            " 2   op_setting_1  20631 non-null  float64\n",
            " 3   op_setting_2  20631 non-null  float64\n",
            " 4   op_setting_3  20631 non-null  float64\n",
            " 5   sensor_1      20631 non-null  float64\n",
            " 6   sensor_2      20631 non-null  float64\n",
            " 7   sensor_3      20631 non-null  float64\n",
            " 8   sensor_4      20631 non-null  float64\n",
            " 9   sensor_5      20631 non-null  float64\n",
            " 10  sensor_6      20631 non-null  float64\n",
            " 11  sensor_7      20631 non-null  float64\n",
            " 12  sensor_8      20631 non-null  float64\n",
            " 13  sensor_9      20631 non-null  float64\n",
            " 14  sensor_10     20631 non-null  float64\n",
            " 15  sensor_11     20631 non-null  float64\n",
            " 16  sensor_12     20631 non-null  float64\n",
            " 17  sensor_13     20631 non-null  float64\n",
            " 18  sensor_14     20631 non-null  float64\n",
            " 19  sensor_15     20631 non-null  float64\n",
            " 20  sensor_16     20631 non-null  float64\n",
            " 21  sensor_17     20631 non-null  int64  \n",
            " 22  sensor_18     20631 non-null  int64  \n",
            " 23  sensor_19     20631 non-null  float64\n",
            " 24  sensor_20     20631 non-null  float64\n",
            " 25  sensor_21     20631 non-null  float64\n",
            "dtypes: float64(22), int64(4)\n",
            "memory usage: 4.1 MB\n",
            "None\n",
            "\n",
            "Sample Rows:\n",
            "   engine_id  cycle  op_setting_1  op_setting_2  op_setting_3  sensor_1  \\\n",
            "0          1      1       -0.0007       -0.0004         100.0    518.67   \n",
            "1          1      2        0.0019       -0.0003         100.0    518.67   \n",
            "2          1      3       -0.0043        0.0003         100.0    518.67   \n",
            "3          1      4        0.0007        0.0000         100.0    518.67   \n",
            "4          1      5       -0.0019       -0.0002         100.0    518.67   \n",
            "\n",
            "   sensor_2  sensor_3  sensor_4  sensor_5  ...  sensor_12  sensor_13  \\\n",
            "0    641.82   1589.70   1400.60     14.62  ...     521.66    2388.02   \n",
            "1    642.15   1591.82   1403.14     14.62  ...     522.28    2388.07   \n",
            "2    642.35   1587.99   1404.20     14.62  ...     522.42    2388.03   \n",
            "3    642.35   1582.79   1401.87     14.62  ...     522.86    2388.08   \n",
            "4    642.37   1582.85   1406.22     14.62  ...     522.19    2388.04   \n",
            "\n",
            "   sensor_14  sensor_15  sensor_16  sensor_17  sensor_18  sensor_19  \\\n",
            "0    8138.62     8.4195       0.03        392       2388      100.0   \n",
            "1    8131.49     8.4318       0.03        392       2388      100.0   \n",
            "2    8133.23     8.4178       0.03        390       2388      100.0   \n",
            "3    8133.83     8.3682       0.03        392       2388      100.0   \n",
            "4    8133.80     8.4294       0.03        393       2388      100.0   \n",
            "\n",
            "   sensor_20  sensor_21  \n",
            "0      39.06    23.4190  \n",
            "1      39.00    23.4236  \n",
            "2      38.95    23.3442  \n",
            "3      38.88    23.3739  \n",
            "4      38.90    23.4044  \n",
            "\n",
            "[5 rows x 26 columns]\n"
          ]
        }
      ],
      "source": [
        "# 1. Imports\n",
        "import pandas as pd\n",
        "\n",
        "# 2. Define the path to your dataset\n",
        "url = \"https://raw.githubusercontent.com/springboard135-infosys-intern-oct25/prognosAI-Infosys-intern-project/main/data/train_FD001.txt\"\n",
        "\n",
        "# The dataset has 26 columns in total:\n",
        "#1st column → engine_id (engine number)\n",
        "#2nd column → cycle (time or operational cycle)\n",
        "#Next 3 columns → operational settings (op_setting_1, op_setting_2, op_setting_3)\n",
        "#Remaining 21 columns → sensor readings from sensor_1 to sensor_21\n",
        "column_names = [\n",
        "    \"engine_id\", \"cycle\", \"op_setting_1\", \"op_setting_2\", \"op_setting_3\"\n",
        "] + [f\"sensor_{i}\" for i in range(1, 22)]\n",
        "\n",
        "# 4. Load the dataset\n",
        "df = pd.read_csv(url, sep=r\"\\s+\", header=None, names=column_names)\n",
        "\n",
        "# 5. Display dataset shape, info, and first 5 rows\n",
        "print(\"Dataset Shape:\", df.shape)\n",
        "print(\"\\nDataset Info:\")\n",
        "print(df.info())\n",
        "print(\"\\nSample Rows:\")\n",
        "print(df.head())\n"
      ]
    },
    {
      "cell_type": "markdown",
      "id": "5da05262",
      "metadata": {
        "id": "5da05262"
      },
      "source": [
        "#### 2. Visualize Sensor Distributions and Identify Missing Values\n",
        "Task:\n",
        "- Using the loaded dataset (or the cleaned version), visualize the distribution of values for any three sensor columns with histograms, and check for missing values in all columns.\n",
        "- Expected Output: Three histogram plots and a summary/report on missing values per column."
      ]
    },
    {
      "cell_type": "code",
      "execution_count": 11,
      "id": "4d0dc95f",
      "metadata": {
        "colab": {
          "base_uri": "https://localhost:8080/",
          "height": 874
        },
        "id": "4d0dc95f",
        "outputId": "3d9b69ab-1e71-4560-a23e-b5c4b6251dd2"
      },
      "outputs": [
        {
          "output_type": "stream",
          "name": "stdout",
          "text": [
            "Missing Values in Each Column:\n",
            " engine_id                0\n",
            "cycle                    0\n",
            "op_setting_1             0\n",
            "op_setting_2             0\n",
            "op_setting_3             0\n",
            "sensor_1                 0\n",
            "sensor_2                 0\n",
            "sensor_3                 0\n",
            "sensor_4                 0\n",
            "sensor_5                 0\n",
            "sensor_6                 0\n",
            "sensor_7                 0\n",
            "sensor_8                 0\n",
            "sensor_9                 0\n",
            "sensor_10                0\n",
            "sensor_11                0\n",
            "sensor_12                0\n",
            "sensor_13                0\n",
            "sensor_14                0\n",
            "sensor_15                0\n",
            "sensor_16                0\n",
            "sensor_17                0\n",
            "sensor_18                0\n",
            "sensor_19                0\n",
            "sensor_20                0\n",
            "sensor_21                0\n",
            "sensor_2_mean_x          0\n",
            "sensor_2_std_x           0\n",
            "sensor_2_rolling_mean    0\n",
            "sensor_2_mean_y          0\n",
            "sensor_2_std_y           0\n",
            "dtype: int64\n"
          ]
        },
        {
          "output_type": "display_data",
          "data": {
            "text/plain": [
              "<Figure size 1500x400 with 3 Axes>"
            ],
            "image/png": "[encoded data removed]"
          },
          "metadata": {}
        }
      ],
      "source": [
        "import pandas as pd\n",
        "import matplotlib.pyplot as plt\n",
        "import seaborn as sns\n",
        "\n",
        "missing_values = cmapss_df.isnull().sum()\n",
        "print(\"Missing Values in Each Column:\\n\", missing_values)\n",
        "\n",
        "#Visualize Distributions for Three Sensors\n",
        "selected_sensors = ['sensor_1', 'sensor_5', 'sensor_10']\n",
        "\n",
        "plt.figure(figsize=(15, 4))\n",
        "for i, sensor in enumerate(selected_sensors, 1):\n",
        "    plt.subplot(1, 3, i)\n",
        "    sns.histplot(cmapss_df[sensor], kde=True, bins=30, color='orange')\n",
        "    plt.title(f\"Distribution of {sensor}\")\n",
        "    plt.xlabel(sensor)\n",
        "    plt.ylabel(\"Frequency\")\n",
        "\n",
        "plt.tight_layout()\n",
        "plt.show()\n"
      ]
    },
    {
      "cell_type": "markdown",
      "id": "decd2cb6",
      "metadata": {
        "id": "decd2cb6"
      },
      "source": [
        "#### 3. Feature Engineering – Aggregation and Rolling Statistics\n",
        "Task:\n",
        "- For a selected sensor (e.g., `sensor_2`), compute and append to the DataFrame:\n",
        "  - The mean and standard deviation of `sensor_2` by each `engine_id`\n",
        "\n",
        "  - The rolling mean (window size=5) for each engine’s `sensor_2` readings\n",
        "- Expected Output: Show a few sample rows with these new features."
      ]
    },
    {
      "cell_type": "code",
      "execution_count": 12,
      "id": "b6e983b7",
      "metadata": {
        "colab": {
          "base_uri": "https://localhost:8080/"
        },
        "id": "b6e983b7",
        "outputId": "3919ec4e-3eb1-48dc-aad5-5d7aa90aa8ab"
      },
      "outputs": [
        {
          "output_type": "stream",
          "name": "stdout",
          "text": [
            "\n",
            "Sample Rows with New Features:\n",
            "\n",
            "   engine_id  cycle  sensor_2  sensor_2_mean  sensor_2_std  \\\n",
            "0          1      1    641.82     642.621042      0.486795   \n",
            "1          1      2    642.15     642.621042      0.486795   \n",
            "2          1      3    642.35     642.621042      0.486795   \n",
            "3          1      4    642.35     642.621042      0.486795   \n",
            "4          1      5    642.37     642.621042      0.486795   \n",
            "5          1      6    642.10     642.621042      0.486795   \n",
            "6          1      7    642.48     642.621042      0.486795   \n",
            "7          1      8    642.56     642.621042      0.486795   \n",
            "8          1      9    642.12     642.621042      0.486795   \n",
            "9          1     10    641.71     642.621042      0.486795   \n",
            "\n",
            "   sensor_2_rolling_mean  \n",
            "0             641.820000  \n",
            "1             641.985000  \n",
            "2             642.106667  \n",
            "3             642.167500  \n",
            "4             642.208000  \n",
            "5             642.264000  \n",
            "6             642.330000  \n",
            "7             642.372000  \n",
            "8             642.326000  \n",
            "9             642.194000  \n"
          ]
        }
      ],
      "source": [
        "import pandas as pd\n",
        "#Compute Mean and Standard Deviation of sensor_2 per engine\n",
        "engine_stats = cmapss_df.groupby(\"engine_id\")[\"sensor_2\"].agg(['mean', 'std']).reset_index()\n",
        "engine_stats.rename(columns={'mean': 'sensor_2_mean', 'std': 'sensor_2_std'}, inplace=True)\n",
        "\n",
        "# Merge these new stats back into the main DataFrame\n",
        "cmapss_df = cmapss_df.merge(engine_stats, on=\"engine_id\", how=\"left\")\n",
        "\n",
        "#Compute Rolling Mean (window size = 5) for sensor_2\n",
        "cmapss_df[\"sensor_2_rolling_mean\"] = cmapss_df.groupby(\"engine_id\")[\"sensor_2\"].rolling(window=5, min_periods=1).mean().reset_index(0, drop=True)\n",
        "\n",
        "#Display a few sample rows\n",
        "print(\"\\nSample Rows with New Features:\\n\")\n",
        "print(cmapss_df[[\"engine_id\", \"cycle\", \"sensor_2\", \"sensor_2_mean\", \"sensor_2_std\", \"sensor_2_rolling_mean\"]].head(10))\n"
      ]
    },
    {
      "cell_type": "markdown",
      "id": "deb462e4",
      "metadata": {
        "id": "deb462e4"
      },
      "source": [
        "#### 4. Data Normalization\n",
        "Task:\n",
        "- Normalize all sensor columns in the DataFrame using `StandardScaler` from `scikit-learn` (zero mean, unit variance) and create a new DataFrame, maintaining the original `engine_id` and `cycle` columns.\n",
        "- Expected Output: Head of the normalized DataFrame and a check that means are close to zero, std are close to one."
      ]
    },
    {
      "cell_type": "code",
      "execution_count": 14,
      "id": "23c6fe72",
      "metadata": {
        "colab": {
          "base_uri": "https://localhost:8080/"
        },
        "id": "23c6fe72",
        "outputId": "582208ff-d1e9-4c07-e7bd-444022bf449b"
      },
      "outputs": [
        {
          "output_type": "stream",
          "name": "stdout",
          "text": [
            "\n",
            "Head of Normalized DataFrame:\n",
            "\n",
            "   engine_id  cycle  sensor_1  sensor_2  sensor_3  sensor_4      sensor_5  \\\n",
            "0          1      1       0.0 -1.721725 -0.134255 -0.925936 -1.776357e-15   \n",
            "1          1      2       0.0 -1.061780  0.211528 -0.643726 -1.776357e-15   \n",
            "2          1      3       0.0 -0.661813 -0.413166 -0.525953 -1.776357e-15   \n",
            "3          1      4       0.0 -0.661813 -1.261314 -0.784831 -1.776357e-15   \n",
            "4          1      5       0.0 -0.621816 -1.251528 -0.301518 -1.776357e-15   \n",
            "\n",
            "   sensor_6  sensor_7  sensor_8  ...  sensor_12  sensor_13  sensor_14  \\\n",
            "0  0.141683  1.121141 -0.516338  ...   0.334262  -1.058890  -0.269071   \n",
            "1  0.141683  0.431930 -0.798093  ...   1.174899  -0.363646  -0.642845   \n",
            "2  0.141683  1.008155 -0.234584  ...   1.364721  -0.919841  -0.551629   \n",
            "3  0.141683  1.222827  0.188048  ...   1.961302  -0.224597  -0.520176   \n",
            "4  0.141683  0.714393 -0.516338  ...   1.052871  -0.780793  -0.521748   \n",
            "\n",
            "   sensor_15     sensor_16  sensor_17  sensor_18  sensor_19  sensor_20  \\\n",
            "0  -0.603816 -1.387779e-17  -0.781710        0.0        0.0   1.348493   \n",
            "1  -0.275852 -1.387779e-17  -0.781710        0.0        0.0   1.016528   \n",
            "2  -0.649144 -1.387779e-17  -2.073094        0.0        0.0   0.739891   \n",
            "3  -1.971665 -1.387779e-17  -0.781710        0.0        0.0   0.352598   \n",
            "4  -0.339845 -1.387779e-17  -0.136018        0.0        0.0   0.463253   \n",
            "\n",
            "   sensor_21  \n",
            "0   1.194427  \n",
            "1   1.236922  \n",
            "2   0.503423  \n",
            "3   0.777792  \n",
            "4   1.059552  \n",
            "\n",
            "[5 rows x 23 columns]\n",
            "\n",
            "Check Mean and Standard Deviation After Normalization:\n",
            "\n",
            "Mean (should be close to 0):\n",
            "sensor_1     0.0\n",
            "sensor_2     0.0\n",
            "sensor_3    -0.0\n",
            "sensor_4     0.0\n",
            "sensor_5    -0.0\n",
            "sensor_6    -0.0\n",
            "sensor_7    -0.0\n",
            "sensor_8     0.0\n",
            "sensor_9    -0.0\n",
            "sensor_10    0.0\n",
            "sensor_11   -0.0\n",
            "sensor_12   -0.0\n",
            "sensor_13    0.0\n",
            "sensor_14    0.0\n",
            "sensor_15   -0.0\n",
            "sensor_16   -0.0\n",
            "sensor_17    0.0\n",
            "sensor_18    0.0\n",
            "sensor_19    0.0\n",
            "sensor_20    0.0\n",
            "sensor_21    0.0\n",
            "dtype: float64\n",
            "\n",
            "Standard Deviation (should be close to 1):\n",
            "sensor_1     0.0\n",
            "sensor_2     1.0\n",
            "sensor_3     1.0\n",
            "sensor_4     1.0\n",
            "sensor_5     0.0\n",
            "sensor_6     1.0\n",
            "sensor_7     1.0\n",
            "sensor_8     1.0\n",
            "sensor_9     1.0\n",
            "sensor_10    0.0\n",
            "sensor_11    1.0\n",
            "sensor_12    1.0\n",
            "sensor_13    1.0\n",
            "sensor_14    1.0\n",
            "sensor_15    1.0\n",
            "sensor_16    0.0\n",
            "sensor_17    1.0\n",
            "sensor_18    0.0\n",
            "sensor_19    0.0\n",
            "sensor_20    1.0\n",
            "sensor_21    1.0\n",
            "dtype: float64\n"
          ]
        }
      ],
      "source": [
        "import pandas as pd\n",
        "from sklearn.preprocessing import StandardScaler\n",
        "\n",
        "#Select only sensor columns for normalization\n",
        "sensor_columns = [f\"sensor_{i}\" for i in range(1, 22)]\n",
        "sensor_data = cmapss_df[sensor_columns]\n",
        "\n",
        "#Apply StandardScaler (zero mean, unit variance)\n",
        "scaler = StandardScaler()\n",
        "normalized_sensors = scaler.fit_transform(sensor_data)\n",
        "\n",
        "# Convert back to a DataFrame\n",
        "normalized_df = pd.DataFrame(normalized_sensors, columns=sensor_columns)\n",
        "\n",
        "#Add engine_id and cycle columns back\n",
        "normalized_df.insert(0, \"engine_id\", cmapss_df[\"engine_id\"])\n",
        "normalized_df.insert(1, \"cycle\", cmapss_df[\"cycle\"])\n",
        "\n",
        "#Check normalization results\n",
        "print(\"\\nHead of Normalized DataFrame:\\n\")\n",
        "print(normalized_df.head())\n",
        "print(\"\\nCheck Mean and Standard Deviation After Normalization:\\n\")\n",
        "print(\"Mean (should be close to 0):\")\n",
        "print(normalized_df[sensor_columns].mean().round(2))\n",
        "print(\"\\nStandard Deviation (should be close to 1):\")\n",
        "print(normalized_df[sensor_columns].std().round(2))\n"
      ]
    },
    {
      "cell_type": "markdown",
      "id": "4835bfba",
      "metadata": {
        "id": "4835bfba"
      },
      "source": [
        "#### 5. Rolling Window Sequence Generation\n",
        "Task:\n",
        "- Write a function to generate rolling window sequences of length 30 for the sensors of each engine. Save the resulting 3D NumPy array (num_sequences, window_size, num_features), and save the corresponding engine_id and cycle identifier lists as CSV files. Print the shape of the resulting sequence array and contents of the first entry.\n",
        "- Expected Output: Array shape, example content, and confirmation of successful file saves."
      ]
    },
    {
      "cell_type": "code",
      "execution_count": null,
      "id": "ce28ca5f",
      "metadata": {
        "id": "ce28ca5f"
      },
      "outputs": [],
      "source": []
    }
  ],
  "metadata": {
    "kernelspec": {
      "display_name": "Python 3",
      "language": "python",
      "name": "python3"
    },
    "language_info": {
      "name": "python",
      "version": "3.11.9"
    },
    "colab": {
      "provenance": []
    }
  },
  "nbformat": 4,
  "nbformat_minor": 5
}