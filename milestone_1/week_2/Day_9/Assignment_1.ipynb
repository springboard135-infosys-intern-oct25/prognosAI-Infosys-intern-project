{
  "cells": [
    {
      "cell_type": "markdown",
      "id": "3d628278",
      "metadata": {
        "id": "3d628278"
      },
      "source": [
        "### Assignment - 1"
      ]
    },
    {
      "cell_type": "markdown",
      "id": "51b0f193",
      "metadata": {
        "id": "51b0f193"
      },
      "source": [
        "#### 1. Load and Inspect the CMAPSS Dataset\n",
        "Task:\n",
        "- Write Python code to load the raw `train_FD001.txt` dataset for CMAPSS using Pandas, assign appropriate column names, and display the shape, data types, and first 5 rows of the DataFrame.\n",
        "- Expected Output: DataFrame shape, info, and sample rows.\n",
        "\n",
        "Use the link to download the dataset:\n",
        "https://data.nasa.gov/dataset/cmapss-jet-engine-simulated-data"
      ]
    },
    {
      "cell_type": "code",
      "execution_count": 1,
      "id": "8af6f4ae",
      "metadata": {
        "colab": {
          "base_uri": "https://localhost:8080/"
        },
        "id": "8af6f4ae",
        "outputId": "16a945d7-ac04-4420-af65-d2f9fe6311e0"
      },
      "outputs": [
        {
          "output_type": "stream",
          "name": "stdout",
          "text": [
            "Mounted at /content/drive\n"
          ]
        }
      ],
      "source": [
        "from google.colab import drive\n",
        "drive.mount('/content/drive')\n"
      ]
    },
    {
      "cell_type": "code",
      "source": [
        "import os\n",
        "\n",
        "print(os.listdir('/content/drive/MyDrive/CMAPSS_Dataset'))\n"
      ],
      "metadata": {
        "colab": {
          "base_uri": "https://localhost:8080/"
        },
        "id": "FXuhZes3pWH2",
        "outputId": "ea62b49e-6597-4203-d3c6-abc1965b436a"
      },
      "id": "FXuhZes3pWH2",
      "execution_count": 2,
      "outputs": [
        {
          "output_type": "stream",
          "name": "stdout",
          "text": [
            "['train_FD001.txt']\n"
          ]
        }
      ]
    },
    {
      "cell_type": "code",
      "source": [
        "import pandas as pd\n",
        "\n",
        "# Define the path to your file\n",
        "file_path = '/content/drive/MyDrive/CMAPSS_Dataset/train_FD001.txt'\n",
        "\n",
        "# Define column names (based on NASA dataset format)\n",
        "col_names = (\n",
        "    ['unit_number', 'time_cycles',\n",
        "     'setting_1', 'setting_2', 'setting_3'] +\n",
        "    [f'sensor_{i}' for i in range(1, 22)]\n",
        ")\n",
        "\n",
        "# Read the dataset\n",
        "df = pd.read_csv(file_path, sep='\\s+', header=None, names=col_names)\n"
      ],
      "metadata": {
        "colab": {
          "base_uri": "https://localhost:8080/"
        },
        "id": "ArHIH2zapgUn",
        "outputId": "cccf3705-f859-4ecb-b8cd-feeb920a48de"
      },
      "id": "ArHIH2zapgUn",
      "execution_count": 6,
      "outputs": [
        {
          "output_type": "stream",
          "name": "stderr",
          "text": [
            "<>:14: SyntaxWarning: invalid escape sequence '\\s'\n",
            "<>:14: SyntaxWarning: invalid escape sequence '\\s'\n",
            "/tmp/ipython-input-2238943207.py:14: SyntaxWarning: invalid escape sequence '\\s'\n",
            "  df = pd.read_csv(file_path, sep='\\s+', header=None, names=col_names)\n"
          ]
        }
      ]
    },
    {
      "cell_type": "code",
      "source": [
        "# Display basic info\n",
        "print(\"✅ Dataset loaded successfully!\\n\")\n",
        "print(\"Shape:\", df.shape)"
      ],
      "metadata": {
        "colab": {
          "base_uri": "https://localhost:8080/"
        },
        "id": "awq3gdjWp543",
        "outputId": "f29ec4b8-e875-421d-e169-9d70104e86ac"
      },
      "id": "awq3gdjWp543",
      "execution_count": 7,
      "outputs": [
        {
          "output_type": "stream",
          "name": "stdout",
          "text": [
            "✅ Dataset loaded successfully!\n",
            "\n",
            "Shape: (20631, 26)\n"
          ]
        }
      ]
    },
    {
      "cell_type": "code",
      "source": [
        "print(\"\\nData Types:\\n\", df.dtypes)\n",
        "print(\"\\nFirst 5 Rows:\\n\", df.head())"
      ],
      "metadata": {
        "colab": {
          "base_uri": "https://localhost:8080/"
        },
        "id": "Du6Qf19Lpp7V",
        "outputId": "b6547df5-e40a-4219-8cb4-ef1884d60e63"
      },
      "id": "Du6Qf19Lpp7V",
      "execution_count": 5,
      "outputs": [
        {
          "output_type": "stream",
          "name": "stdout",
          "text": [
            "\n",
            "Data Types:\n",
            " unit_number      int64\n",
            "time_cycles      int64\n",
            "setting_1      float64\n",
            "setting_2      float64\n",
            "setting_3      float64\n",
            "sensor_1       float64\n",
            "sensor_2       float64\n",
            "sensor_3       float64\n",
            "sensor_4       float64\n",
            "sensor_5       float64\n",
            "sensor_6       float64\n",
            "sensor_7       float64\n",
            "sensor_8       float64\n",
            "sensor_9       float64\n",
            "sensor_10      float64\n",
            "sensor_11      float64\n",
            "sensor_12      float64\n",
            "sensor_13      float64\n",
            "sensor_14      float64\n",
            "sensor_15      float64\n",
            "sensor_16      float64\n",
            "sensor_17        int64\n",
            "sensor_18        int64\n",
            "sensor_19      float64\n",
            "sensor_20      float64\n",
            "sensor_21      float64\n",
            "dtype: object\n",
            "\n",
            "First 5 Rows:\n",
            "    unit_number  time_cycles  setting_1  setting_2  setting_3  sensor_1  \\\n",
            "0            1            1    -0.0007    -0.0004      100.0    518.67   \n",
            "1            1            2     0.0019    -0.0003      100.0    518.67   \n",
            "2            1            3    -0.0043     0.0003      100.0    518.67   \n",
            "3            1            4     0.0007     0.0000      100.0    518.67   \n",
            "4            1            5    -0.0019    -0.0002      100.0    518.67   \n",
            "\n",
            "   sensor_2  sensor_3  sensor_4  sensor_5  ...  sensor_12  sensor_13  \\\n",
            "0    641.82   1589.70   1400.60     14.62  ...     521.66    2388.02   \n",
            "1    642.15   1591.82   1403.14     14.62  ...     522.28    2388.07   \n",
            "2    642.35   1587.99   1404.20     14.62  ...     522.42    2388.03   \n",
            "3    642.35   1582.79   1401.87     14.62  ...     522.86    2388.08   \n",
            "4    642.37   1582.85   1406.22     14.62  ...     522.19    2388.04   \n",
            "\n",
            "   sensor_14  sensor_15  sensor_16  sensor_17  sensor_18  sensor_19  \\\n",
            "0    8138.62     8.4195       0.03        392       2388      100.0   \n",
            "1    8131.49     8.4318       0.03        392       2388      100.0   \n",
            "2    8133.23     8.4178       0.03        390       2388      100.0   \n",
            "3    8133.83     8.3682       0.03        392       2388      100.0   \n",
            "4    8133.80     8.4294       0.03        393       2388      100.0   \n",
            "\n",
            "   sensor_20  sensor_21  \n",
            "0      39.06    23.4190  \n",
            "1      39.00    23.4236  \n",
            "2      38.95    23.3442  \n",
            "3      38.88    23.3739  \n",
            "4      38.90    23.4044  \n",
            "\n",
            "[5 rows x 26 columns]\n"
          ]
        }
      ]
    },
    {
      "cell_type": "code",
      "source": [
        "import matplotlib.pyplot as plt"
      ],
      "metadata": {
        "id": "kS1I9TxAp8Ia"
      },
      "id": "kS1I9TxAp8Ia",
      "execution_count": 10,
      "outputs": []
    },
    {
      "cell_type": "markdown",
      "id": "5da05262",
      "metadata": {
        "id": "5da05262"
      },
      "source": [
        "#### 2. Visualize Sensor Distributions and Identify Missing Values\n",
        "Task:\n",
        "- Using the loaded dataset (or the cleaned version), visualize the distribution of values for any three sensor columns with histograms, and check for missing values in all columns.\n",
        "- Expected Output: Three histogram plots and a summary/report on missing values per column."
      ]
    },
    {
      "cell_type": "code",
      "execution_count": 9,
      "id": "4d0dc95f",
      "metadata": {
        "colab": {
          "base_uri": "https://localhost:8080/"
        },
        "id": "4d0dc95f",
        "outputId": "3d4ff612-752d-4d5c-cc8e-06ec6a563d06"
      },
      "outputs": [
        {
          "output_type": "stream",
          "name": "stdout",
          "text": [
            "Missing Values per Column:\n",
            "\n",
            "No missing values found\n"
          ]
        }
      ],
      "source": [
        "# Check missing values\n",
        "missing_values = df.isnull().sum()\n",
        "\n",
        "print(\"Missing Values per Column:\\n\")\n",
        "print(missing_values[missing_values > 0] if missing_values.sum() > 0 else \"No missing values found\")\n"
      ]
    },
    {
      "cell_type": "code",
      "source": [
        "# Select three sensor columns\n",
        "sensor_cols = ['sensor_2', 'sensor_7', 'sensor_15']\n",
        "\n",
        "# Plot histograms\n",
        "plt.figure(figsize=(15, 4))\n",
        "\n",
        "for i, col in enumerate(sensor_cols, 1):\n",
        "    plt.subplot(1, 3, i)\n",
        "    plt.hist(df[col], bins=40, edgecolor='black')\n",
        "    plt.title(f'Distribution of {col}')\n",
        "    plt.xlabel('Value')\n",
        "    plt.ylabel('Frequency')\n",
        "\n",
        "plt.tight_layout()\n",
        "plt.show()\n"
      ],
      "metadata": {
        "colab": {
          "base_uri": "https://localhost:8080/",
          "height": 407
        },
        "id": "evyle83dqJOE",
        "outputId": "7de8703d-831b-4230-e08a-708bd62cd163"
      },
      "id": "evyle83dqJOE",
      "execution_count": 11,
      "outputs": [
        {
          "output_type": "display_data",
          "data": {
            "text/plain": [
              "<Figure size 1500x400 with 3 Axes>"
            ],
            "image/png": "[encoded data removed]"
          },
          "metadata": {}
        }
      ]
    },
    {
      "cell_type": "markdown",
      "id": "decd2cb6",
      "metadata": {
        "id": "decd2cb6"
      },
      "source": [
        "#### 3. Feature Engineering – Aggregation and Rolling Statistics\n",
        "Task:\n",
        "- For a selected sensor (e.g., `sensor_2`), compute and append to the DataFrame:\n",
        "  - The mean and standard deviation of `sensor_2` by each `engine_id`\n",
        "\n",
        "  - The rolling mean (window size=5) for each engine’s `sensor_2` readings\n",
        "- Expected Output: Show a few sample rows with these new features."
      ]
    },
    {
      "cell_type": "code",
      "execution_count": 12,
      "id": "b6e983b7",
      "metadata": {
        "id": "b6e983b7"
      },
      "outputs": [],
      "source": [
        "# Compute mean and std for sensor_2 by each engine\n",
        "sensor_stats = df.groupby('unit_number')['sensor_2'].agg(['mean', 'std']).reset_index()\n",
        "sensor_stats.rename(columns={'mean': 'sensor_2_mean', 'std': 'sensor_2_std'}, inplace=True)\n",
        "\n",
        "# Merge back to main DataFrame\n",
        "df = df.merge(sensor_stats, on='unit_number', how='left')\n"
      ]
    },
    {
      "cell_type": "code",
      "source": [
        "# Sort by engine and time before applying rolling window\n",
        "df = df.sort_values(by=['unit_number', 'time_cycles'])\n",
        "\n",
        "# Apply rolling mean per engine\n",
        "df['sensor_2_roll_mean_5'] = (\n",
        "    df.groupby('unit_number')['sensor_2']\n",
        "      .rolling(window=5, min_periods=1)\n",
        "      .mean()\n",
        "      .reset_index(level=0, drop=True)\n",
        ")\n"
      ],
      "metadata": {
        "id": "dPsBORGqqdQl"
      },
      "id": "dPsBORGqqdQl",
      "execution_count": 13,
      "outputs": []
    },
    {
      "cell_type": "code",
      "source": [
        "# Display key columns for inspection\n",
        "sample_cols = ['unit_number', 'time_cycles', 'sensor_2',\n",
        "               'sensor_2_mean', 'sensor_2_std', 'sensor_2_roll_mean_5']\n",
        "\n",
        "print(df[sample_cols].head(10))"
      ],
      "metadata": {
        "colab": {
          "base_uri": "https://localhost:8080/"
        },
        "id": "2juV1m-lqg27",
        "outputId": "0a74687a-c7f0-4ce1-e3b9-7bd6f1ed4993"
      },
      "id": "2juV1m-lqg27",
      "execution_count": 14,
      "outputs": [
        {
          "output_type": "stream",
          "name": "stdout",
          "text": [
            "   unit_number  time_cycles  sensor_2  sensor_2_mean  sensor_2_std  \\\n",
            "0            1            1    641.82     642.621042      0.486795   \n",
            "1            1            2    642.15     642.621042      0.486795   \n",
            "2            1            3    642.35     642.621042      0.486795   \n",
            "3            1            4    642.35     642.621042      0.486795   \n",
            "4            1            5    642.37     642.621042      0.486795   \n",
            "5            1            6    642.10     642.621042      0.486795   \n",
            "6            1            7    642.48     642.621042      0.486795   \n",
            "7            1            8    642.56     642.621042      0.486795   \n",
            "8            1            9    642.12     642.621042      0.486795   \n",
            "9            1           10    641.71     642.621042      0.486795   \n",
            "\n",
            "   sensor_2_roll_mean_5  \n",
            "0            641.820000  \n",
            "1            641.985000  \n",
            "2            642.106667  \n",
            "3            642.167500  \n",
            "4            642.208000  \n",
            "5            642.264000  \n",
            "6            642.330000  \n",
            "7            642.372000  \n",
            "8            642.326000  \n",
            "9            642.194000  \n"
          ]
        }
      ]
    },
    {
      "cell_type": "markdown",
      "id": "deb462e4",
      "metadata": {
        "id": "deb462e4"
      },
      "source": [
        "#### 4. Data Normalization\n",
        "Task:\n",
        "- Normalize all sensor columns in the DataFrame using `StandardScaler` from `scikit-learn` (zero mean, unit variance) and create a new DataFrame, maintaining the original `engine_id` and `cycle` columns.\n",
        "- Expected Output: Head of the normalized DataFrame and a check that means are close to zero, std are close to one."
      ]
    },
    {
      "cell_type": "code",
      "execution_count": 15,
      "id": "23c6fe72",
      "metadata": {
        "id": "23c6fe72"
      },
      "outputs": [],
      "source": [
        "from sklearn.preprocessing import StandardScaler"
      ]
    },
    {
      "cell_type": "code",
      "source": [
        "# Identify sensor columns\n",
        "sensor_cols = [f'sensor_{i}' for i in range(1, 22)]\n",
        "\n",
        "# Initialize StandardScaler\n",
        "scaler = StandardScaler()\n",
        "\n",
        "# Fit and transform sensor columns\n",
        "scaled_data = scaler.fit_transform(df[sensor_cols])\n",
        "\n",
        "# Create a new DataFrame with normalized sensor values\n",
        "normalized_df = pd.DataFrame(scaled_data, columns=sensor_cols)\n",
        "\n",
        "# Add back engine_id and time_cycles columns\n",
        "normalized_df.insert(0, 'time_cycles', df['time_cycles'])\n",
        "normalized_df.insert(0, 'unit_number', df['unit_number'])\n"
      ],
      "metadata": {
        "id": "K5GrX-Byq3h4"
      },
      "id": "K5GrX-Byq3h4",
      "execution_count": 16,
      "outputs": []
    },
    {
      "cell_type": "code",
      "source": [
        "print(\"Normalization Completed!\\n\")\n",
        "print(\"Head of Normalized DataFrame:\")\n",
        "print(normalized_df.head())\n"
      ],
      "metadata": {
        "colab": {
          "base_uri": "https://localhost:8080/"
        },
        "id": "FGLvRdBgq83Q",
        "outputId": "1770624a-dd75-498a-cbda-e5beb55d97a2"
      },
      "id": "FGLvRdBgq83Q",
      "execution_count": 17,
      "outputs": [
        {
          "output_type": "stream",
          "name": "stdout",
          "text": [
            "Normalization Completed!\n",
            "\n",
            "Head of Normalized DataFrame:\n",
            "   unit_number  time_cycles  sensor_1  sensor_2  sensor_3  sensor_4  \\\n",
            "0            1            1       0.0 -1.721725 -0.134255 -0.925936   \n",
            "1            1            2       0.0 -1.061780  0.211528 -0.643726   \n",
            "2            1            3       0.0 -0.661813 -0.413166 -0.525953   \n",
            "3            1            4       0.0 -0.661813 -1.261314 -0.784831   \n",
            "4            1            5       0.0 -0.621816 -1.251528 -0.301518   \n",
            "\n",
            "       sensor_5  sensor_6  sensor_7  sensor_8  ...  sensor_12  sensor_13  \\\n",
            "0 -1.776357e-15  0.141683  1.121141 -0.516338  ...   0.334262  -1.058890   \n",
            "1 -1.776357e-15  0.141683  0.431930 -0.798093  ...   1.174899  -0.363646   \n",
            "2 -1.776357e-15  0.141683  1.008155 -0.234584  ...   1.364721  -0.919841   \n",
            "3 -1.776357e-15  0.141683  1.222827  0.188048  ...   1.961302  -0.224597   \n",
            "4 -1.776357e-15  0.141683  0.714393 -0.516338  ...   1.052871  -0.780793   \n",
            "\n",
            "   sensor_14  sensor_15     sensor_16  sensor_17  sensor_18  sensor_19  \\\n",
            "0  -0.269071  -0.603816 -1.387779e-17  -0.781710        0.0        0.0   \n",
            "1  -0.642845  -0.275852 -1.387779e-17  -0.781710        0.0        0.0   \n",
            "2  -0.551629  -0.649144 -1.387779e-17  -2.073094        0.0        0.0   \n",
            "3  -0.520176  -1.971665 -1.387779e-17  -0.781710        0.0        0.0   \n",
            "4  -0.521748  -0.339845 -1.387779e-17  -0.136018        0.0        0.0   \n",
            "\n",
            "   sensor_20  sensor_21  \n",
            "0   1.348493   1.194427  \n",
            "1   1.016528   1.236922  \n",
            "2   0.739891   0.503423  \n",
            "3   0.352598   0.777792  \n",
            "4   0.463253   1.059552  \n",
            "\n",
            "[5 rows x 23 columns]\n"
          ]
        }
      ]
    },
    {
      "cell_type": "code",
      "source": [
        "means = normalized_df[sensor_cols].mean().round(4)\n",
        "stds = normalized_df[sensor_cols].std().round(4)\n",
        "\n",
        "print(\"\\n Mean of each sensor column (should be ~0):\\n\", means)\n",
        "print(\"\\n Std of each sensor column (should be ~1):\\n\", stds)\n"
      ],
      "metadata": {
        "colab": {
          "base_uri": "https://localhost:8080/"
        },
        "id": "plGA5rbnrCiU",
        "outputId": "429b97da-799b-4942-ed07-d9695570d369"
      },
      "id": "plGA5rbnrCiU",
      "execution_count": 18,
      "outputs": [
        {
          "output_type": "stream",
          "name": "stdout",
          "text": [
            "\n",
            " Mean of each sensor column (should be ~0):\n",
            " sensor_1     0.0\n",
            "sensor_2     0.0\n",
            "sensor_3    -0.0\n",
            "sensor_4     0.0\n",
            "sensor_5    -0.0\n",
            "sensor_6    -0.0\n",
            "sensor_7    -0.0\n",
            "sensor_8     0.0\n",
            "sensor_9    -0.0\n",
            "sensor_10    0.0\n",
            "sensor_11   -0.0\n",
            "sensor_12   -0.0\n",
            "sensor_13    0.0\n",
            "sensor_14    0.0\n",
            "sensor_15   -0.0\n",
            "sensor_16   -0.0\n",
            "sensor_17    0.0\n",
            "sensor_18    0.0\n",
            "sensor_19    0.0\n",
            "sensor_20    0.0\n",
            "sensor_21    0.0\n",
            "dtype: float64\n",
            "\n",
            " Std of each sensor column (should be ~1):\n",
            " sensor_1     0.0\n",
            "sensor_2     1.0\n",
            "sensor_3     1.0\n",
            "sensor_4     1.0\n",
            "sensor_5     0.0\n",
            "sensor_6     1.0\n",
            "sensor_7     1.0\n",
            "sensor_8     1.0\n",
            "sensor_9     1.0\n",
            "sensor_10    0.0\n",
            "sensor_11    1.0\n",
            "sensor_12    1.0\n",
            "sensor_13    1.0\n",
            "sensor_14    1.0\n",
            "sensor_15    1.0\n",
            "sensor_16    0.0\n",
            "sensor_17    1.0\n",
            "sensor_18    0.0\n",
            "sensor_19    0.0\n",
            "sensor_20    1.0\n",
            "sensor_21    1.0\n",
            "dtype: float64\n"
          ]
        }
      ]
    },
    {
      "cell_type": "markdown",
      "id": "4835bfba",
      "metadata": {
        "id": "4835bfba"
      },
      "source": [
        "#### 5. Rolling Window Sequence Generation\n",
        "Task:\n",
        "- Write a function to generate rolling window sequences of length 30 for the sensors of each engine. Save the resulting 3D NumPy array (num_sequences, window_size, num_features), and save the corresponding engine_id and cycle identifier lists as CSV files. Print the shape of the resulting sequence array and contents of the first entry.\n",
        "- Expected Output: Array shape, example content, and confirmation of successful file saves."
      ]
    },
    {
      "cell_type": "code",
      "execution_count": 19,
      "id": "ce28ca5f",
      "metadata": {
        "id": "ce28ca5f"
      },
      "outputs": [],
      "source": [
        "import numpy as np\n",
        "import pandas as pd\n"
      ]
    },
    {
      "cell_type": "code",
      "source": [
        "def generate_sequences(df, sensor_cols, window_size=30):\n",
        "    \"\"\"\n",
        "    Generates rolling window sequences for each engine.\n",
        "\n",
        "    Parameters:\n",
        "        df: DataFrame with columns ['unit_number', 'time_cycles', sensor_1 ... sensor_n]\n",
        "        sensor_cols: list of sensor columns to include\n",
        "        window_size: length of rolling window\n",
        "\n",
        "    Returns:\n",
        "        sequences: 3D NumPy array (num_sequences, window_size, num_features)\n",
        "        engine_ids: list of engine IDs corresponding to each sequence\n",
        "        cycle_ids: list of cycle numbers corresponding to the last time step of each sequence\n",
        "    \"\"\"\n",
        "    sequences = []\n",
        "    engine_ids = []\n",
        "    cycle_ids = []\n",
        "\n",
        "    for engine_id, group in df.groupby('unit_number'):\n",
        "        group = group.sort_values('time_cycles')\n",
        "        data = group[sensor_cols].values\n",
        "        num_cycles = data.shape[0]\n",
        "\n",
        "        for i in range(num_cycles - window_size + 1):\n",
        "            seq = data[i:i+window_size]\n",
        "            sequences.append(seq)\n",
        "            engine_ids.append(engine_id)\n",
        "            cycle_ids.append(group['time_cycles'].values[i + window_size - 1])\n",
        "\n",
        "    sequences = np.array(sequences)\n",
        "    return sequences, engine_ids, cycle_ids\n"
      ],
      "metadata": {
        "id": "7nKkm88Kr3T0"
      },
      "id": "7nKkm88Kr3T0",
      "execution_count": 20,
      "outputs": []
    },
    {
      "cell_type": "code",
      "source": [
        "# Use the normalized DataFrame from Step 4\n",
        "window_size = 30\n",
        "sequences, engine_ids, cycle_ids = generate_sequences(normalized_df, sensor_cols, window_size)\n",
        "\n",
        "print(\"✅ Sequences Generated Successfully!\")\n",
        "print(\"Shape of sequences array:\", sequences.shape)\n",
        "print(\"\\nExample first sequence:\\n\", sequences[0])\n",
        "print(\"\\nCorresponding Engine ID:\", engine_ids[0], \"Cycle:\", cycle_ids[0])\n"
      ],
      "metadata": {
        "colab": {
          "base_uri": "https://localhost:8080/"
        },
        "id": "J4RIjV01r7DR",
        "outputId": "27387f92-d5f9-419f-d53b-5497ed3f537f"
      },
      "id": "J4RIjV01r7DR",
      "execution_count": 21,
      "outputs": [
        {
          "output_type": "stream",
          "name": "stdout",
          "text": [
            "✅ Sequences Generated Successfully!\n",
            "Shape of sequences array: (17731, 30, 21)\n",
            "\n",
            "Example first sequence:\n",
            " [[ 0.00000000e+00 -1.72172539e+00 -1.34255176e-01 -9.25935964e-01\n",
            "  -1.77635684e-15  1.41683329e-01  1.12114057e+00 -5.16338406e-01\n",
            "  -8.62813315e-01  0.00000000e+00 -2.66466596e-01  3.34261840e-01\n",
            "  -1.05889024e+00 -2.69071040e-01 -6.03815700e-01 -1.38777878e-17\n",
            "  -7.81709786e-01  0.00000000e+00  0.00000000e+00  1.34849274e+00\n",
            "   1.19442705e+00]\n",
            " [ 0.00000000e+00 -1.06177971e+00  2.11528494e-01 -6.43725866e-01\n",
            "  -1.77635684e-15  1.41683329e-01  4.31930175e-01 -7.98092999e-01\n",
            "  -9.58817615e-01  0.00000000e+00 -1.91582925e-01  1.17489932e+00\n",
            "  -3.63645998e-01 -6.42844737e-01 -2.75851811e-01 -1.38777878e-17\n",
            "  -7.81709786e-01  0.00000000e+00  0.00000000e+00  1.01652793e+00\n",
            "   1.23692196e+00]\n",
            " [ 0.00000000e+00 -6.61812625e-01 -4.13165589e-01 -5.25953148e-01\n",
            "  -1.77635684e-15  1.41683329e-01  1.00815526e+00 -2.34583813e-01\n",
            "  -5.57139248e-01  0.00000000e+00 -1.01530330e+00  1.36472069e+00\n",
            "  -9.19841389e-01 -5.51629276e-01 -6.49144042e-01 -1.38777878e-17\n",
            "  -2.07309423e+00  0.00000000e+00  0.00000000e+00  7.39890586e-01\n",
            "   5.03422813e-01]\n",
            " [ 0.00000000e+00 -6.61812625e-01 -1.26131421e+00 -7.84830915e-01\n",
            "  -1.77635684e-15  1.41683329e-01  1.22282735e+00  1.88048077e-01\n",
            "  -7.13825511e-01  0.00000000e+00 -1.53948899e+00  1.96130213e+00\n",
            "  -2.24597150e-01 -5.20175669e-01 -1.97166509e+00 -1.38777878e-17\n",
            "  -7.81709786e-01  0.00000000e+00  0.00000000e+00  3.52598304e-01\n",
            "   7.77792142e-01]\n",
            " [ 0.00000000e+00 -6.21815917e-01 -1.25152788e+00 -3.01518345e-01\n",
            "  -1.77635684e-15  1.41683329e-01  7.14393452e-01 -5.16338406e-01\n",
            "  -4.57059294e-01  0.00000000e+00 -9.77861464e-01  1.05287130e+00\n",
            "  -7.80792541e-01 -5.21748350e-01 -3.39844765e-01 -1.38777878e-17\n",
            "  -1.36017565e-01  0.00000000e+00  0.00000000e+00  4.63253242e-01\n",
            "   1.05955189e+00]\n",
            " [ 0.00000000e+00 -1.16177148e+00 -9.87296965e-01 -1.17370310e+00\n",
            "  -1.77635684e-15  1.41683329e-01  1.47139503e+00 -1.07984759e+00\n",
            "  -7.04768501e-01  0.00000000e+00 -1.42716349e+00  3.61379178e-01\n",
            "  -9.19841389e-01 -5.71549894e-01 -8.35790158e-01 -1.38777878e-17\n",
            "  -1.42740201e+00  0.00000000e+00  0.00000000e+00  9.05872993e-01\n",
            "   7.13125970e-01]\n",
            " [ 0.00000000e+00 -4.01834022e-01  2.93081246e-01 -1.24036690e+00\n",
            "  -1.77635684e-15  1.41683329e-01  1.09854351e+00 -1.07984759e+00\n",
            "  -2.76824808e-01  0.00000000e+00 -6.78326783e-01  1.22913400e+00\n",
            "  -9.19841389e-01 -5.99333914e-01 -1.19308415e+00 -1.38777878e-17\n",
            "  -7.81709786e-01  0.00000000e+00  0.00000000e+00  1.56980262e+00\n",
            "   8.10125227e-01]\n",
            " [ 0.00000000e+00 -2.41847189e-01 -1.23358628e+00 -8.84826619e-01\n",
            "  -1.77635684e-15  1.41683329e-01  5.44915486e-01 -1.36160219e+00\n",
            "  -1.10689972e+00  0.00000000e+00 -1.12762881e+00  1.43251403e+00\n",
            "  -9.19841389e-01 -6.64862261e-01 -9.21114096e-01 -1.38777878e-17\n",
            "  -1.42740201e+00  0.00000000e+00  0.00000000e+00  8.50545524e-01\n",
            "   1.93025189e-01]\n",
            " [ 0.00000000e+00 -1.12177477e+00  7.45198700e-02 -1.57035272e+00\n",
            "  -1.77635684e-15  1.41683329e-01  3.64138989e-01 -6.57215703e-01\n",
            "  -8.50586353e-01  0.00000000e+00 -9.40419629e-01  5.10524538e-01\n",
            "  -6.41743693e-01 -9.46896271e-01 -1.84901193e+00 -1.38777878e-17\n",
            "  -7.81709786e-01  0.00000000e+00  0.00000000e+00  1.29316527e+00\n",
            "   1.07987554e+00]\n",
            " [ 0.00000000e+00 -1.94170729e+00  1.16927301e-01 -9.41490852e-01\n",
            "  -1.77635684e-15  1.41683329e-01  2.51153678e-01 -6.57215703e-01\n",
            "  -6.13292706e-01  0.00000000e+00 -1.91390734e+00  5.10524538e-01\n",
            "  -5.02694846e-01 -7.53456588e-01 -3.61175749e-01 -1.38777878e-17\n",
            "  -1.36017565e-01  0.00000000e+00  0.00000000e+00  7.39890586e-01\n",
            "   1.66002348e+00]\n",
            " [ 0.00000000e+00 -8.01801103e-01 -1.43094394e+00 -9.21491711e-01\n",
            "  -1.77635684e-15  1.41683329e-01  1.32451413e+00 -6.57215703e-01\n",
            "  -7.07938455e-01  0.00000000e+00 -1.46460532e+00 -1.82635555e-02\n",
            "  -1.19793908e+00 -1.66322591e-01 -2.17191603e-01 -1.38777878e-17\n",
            "  -7.81709786e-01  0.00000000e+00  0.00000000e+00  6.84563117e-01\n",
            "   1.74593711e+00]\n",
            " [ 0.00000000e+00 -1.24176489e+00 -1.16018880e+00 -9.75933816e-01\n",
            "  -1.77635684e-15  1.41683329e-01  1.30191707e+00 -9.37065165e-02\n",
            "  -7.18806866e-01  0.00000000e+00 -1.35227982e+00  5.24083207e-01\n",
            "  -1.05889024e+00 -4.98158144e-01 -1.28907358e+00 -1.38777878e-17\n",
            "  -1.42740201e+00  0.00000000e+00  0.00000000e+00  1.34849274e+00\n",
            "   7.04811748e-01]\n",
            " [ 0.00000000e+00  7.78068870e-01 -1.35917752e+00 -9.00381507e-01\n",
            "  -1.77635684e-15  1.41683329e-01  8.16757124e-02  3.28925373e-01\n",
            "  -8.34283736e-01  0.00000000e+00 -6.03443112e-01  5.91876552e-01\n",
            "  -2.24597150e-01 -8.20557616e-01 -7.18469742e-01 -1.38777878e-17\n",
            "  -1.36017565e-01  0.00000000e+00  0.00000000e+00  6.29235648e-01\n",
            "  -1.29381867e-01]\n",
            " [ 0.00000000e+00 -6.61812625e-01  3.95837714e-01 -1.08592909e+00\n",
            "  -1.77635684e-15  1.41683329e-01  1.25672294e+00 -9.37065165e-02\n",
            "  -8.09376960e-01  0.00000000e+00 -3.78792101e-01  3.47820509e-01\n",
            "  -1.33698793e+00 -4.88722062e-01 -1.21974788e+00 -1.38777878e-17\n",
            "  -1.36017565e-01  0.00000000e+00  0.00000000e+00  2.01242237e+00\n",
            "   8.58162955e-01]\n",
            " [ 0.00000000e+00 -5.01825792e-01 -1.09331554e+00 -7.55943267e-01\n",
            "  -1.77635684e-15  1.41683329e-01  3.07646334e-01  1.88048077e-01\n",
            "  -5.89744482e-01  0.00000000e+00 -9.02977794e-01  1.47319004e+00\n",
            "  -2.24597150e-01 -8.48865862e-01 -5.93150207e-01 -1.38777878e-17\n",
            "  -1.42740201e+00  0.00000000e+00  0.00000000e+00  9.61200462e-01\n",
            "   5.57003355e-01]\n",
            " [ 0.00000000e+00 -1.10177641e+00 -4.14796644e-01 -4.92621246e-01\n",
            "  -1.77635684e-15  1.41683329e-01  6.46602265e-01 -6.57215703e-01\n",
            "  -7.20165417e-01  0.00000000e+00 -1.12762881e+00  1.03764466e-01\n",
            "  -3.63645998e-01 -4.00651963e-01 -1.29440633e+00 -1.38777878e-17\n",
            "  -7.81709786e-01  0.00000000e+00  0.00000000e+00  8.50545524e-01\n",
            "   1.52699593e+00]\n",
            " [ 0.00000000e+00 -2.01850481e-01 -9.07375268e-01 -9.98155084e-01\n",
            "  -1.77635684e-15  1.41683329e-01  4.88422831e-01 -5.16338406e-01\n",
            "  -4.67474855e-01  0.00000000e+00 -1.57693083e+00  6.46111229e-01\n",
            "  -7.80792541e-01 -3.39841656e-01  3.21415760e-01 -1.38777878e-17\n",
            "  -7.81709786e-01  0.00000000e+00  0.00000000e+00 -3.46939782e-02\n",
            "   3.89795111e-01]\n",
            " [ 0.00000000e+00 -1.21857064e-01  8.43062003e-02 -1.42369236e+00\n",
            "  -1.77635684e-15  1.41683329e-01  9.40364073e-01 -6.57215703e-01\n",
            "  -7.10655557e-01  0.00000000e+00 -1.23995431e+00  4.69848531e-01\n",
            "  -3.63645998e-01 -5.77840615e-01 -1.04910000e+00 -1.38777878e-17\n",
            "  -7.81709786e-01  0.00000000e+00  0.00000000e+00  4.07925773e-01\n",
            "   1.00689515e+00]\n",
            " [ 0.00000000e+00 -1.78172045e+00 -4.83300956e-01 -9.53712549e-01\n",
            "  -1.77635684e-15  1.41683329e-01  9.17767011e-01 -7.98092999e-01\n",
            "  -5.09589949e-01  0.00000000e+00 -5.28559442e-01  6.46111229e-01\n",
            "  -9.19841389e-01 -7.66562257e-01 -2.67852691e-01 -1.38777878e-17\n",
            "  -1.42740201e+00  0.00000000e+00  0.00000000e+00 -9.00214471e-02\n",
            "   5.23746467e-01]\n",
            " [ 0.00000000e+00  7.18073808e-01 -1.53533146e+00 -4.11513620e-01\n",
            "  -1.77635684e-15  1.41683329e-01  1.62957447e+00 -6.57215703e-01\n",
            "  -8.75945979e-01  0.00000000e+00 -1.20251248e+00  8.90167272e-01\n",
            "  -1.05889024e+00 -7.36157104e-01 -5.63820104e-01 -1.38777878e-17\n",
            "  -7.81709786e-01  0.00000000e+00  0.00000000e+00  1.18251034e+00\n",
            "   1.22214112e+00]\n",
            " [ 0.00000000e+00 -6.21815917e-01 -7.26328158e-01 -1.20036862e+00\n",
            "  -1.77635684e-15  1.41683329e-01  8.04781700e-01  1.88048077e-01\n",
            "  -7.74054623e-01  0.00000000e+00 -1.46460532e+00  1.36472069e+00\n",
            "  -2.24597150e-01 -5.10215360e-01 -9.93106170e-01 -1.38777878e-17\n",
            "  -7.81709786e-01  0.00000000e+00  0.00000000e+00  1.51447515e+00\n",
            "   1.88406177e-01]\n",
            " [ 0.00000000e+00  1.78118247e-01  3.92575604e-01 -9.29269155e-01\n",
            "  -1.77635684e-15  1.41683329e-01  2.96347803e-01 -7.98092999e-01\n",
            "  -1.82631910e-01  0.00000000e+00 -1.12762881e+00  7.95256588e-01\n",
            "  -9.19841389e-01 -6.99461229e-01 -1.03310177e+00 -1.38777878e-17\n",
            "  -7.81709786e-01  0.00000000e+00  0.00000000e+00  5.73908179e-01\n",
            "   8.26753672e-01]\n",
            " [ 0.00000000e+00 -1.08177806e+00 -3.80544488e-01 -1.57590804e+00\n",
            "  -1.77635684e-15  1.41683329e-01  6.91796390e-01 -6.57215703e-01\n",
            "  -8.58737661e-01  0.00000000e+00 -1.09018697e+00  1.44440473e-01\n",
            "  -6.41743693e-01 -8.31042152e-01 -4.83828911e-01 -1.38777878e-17\n",
            "  -7.81709786e-01  0.00000000e+00  0.00000000e+00  6.84563117e-01\n",
            "   1.53808156e+00]\n",
            " [ 0.00000000e+00 -6.01817562e-01  5.00540443e-02 -1.12481631e+00\n",
            "  -1.77635684e-15  1.41683329e-01  1.38168368e-01  3.28925373e-01\n",
            "  -9.72855979e-01  0.00000000e+00 -3.78792101e-01  9.71519286e-01\n",
            "  -9.19841389e-01 -5.17554535e-01 -1.41439312e+00 -1.38777878e-17\n",
            "  -7.81709786e-01  0.00000000e+00  0.00000000e+00  1.01652793e+00\n",
            "   7.38068636e-01]\n",
            " [ 0.00000000e+00  1.78118247e-01  5.83409044e-01 -1.06037463e+00\n",
            "  -1.77635684e-15  1.41683329e-01  7.14393452e-01 -1.07984759e+00\n",
            "  -5.01891491e-01  0.00000000e+00 -6.78326783e-01  1.55454206e+00\n",
            "  -1.05889024e+00 -3.74440624e-01 -1.34506742e+00 -1.38777878e-17\n",
            "  -1.36017565e-01  0.00000000e+00  0.00000000e+00  7.39890586e-01\n",
            "   1.28495969e+00]\n",
            " [ 0.00000000e+00 -1.04178135e+00 -2.35380589e-01 -1.42924768e+00\n",
            "  -1.77635684e-15  1.41683329e-01  8.38677293e-01 -3.75461110e-01\n",
            "  -8.21151072e-01  0.00000000e+00 -1.05274513e+00  1.17489932e+00\n",
            "  -5.02694846e-01 -6.60668447e-01 -4.30501449e-01 -1.38777878e-17\n",
            "   5.09674655e-01  0.00000000e+00  0.00000000e+00  2.41943366e-01\n",
            "   1.15655115e+00]\n",
            " [ 0.00000000e+00 -4.81827438e-01 -8.66393735e-03 -7.88164105e-01\n",
            "  -1.77635684e-15  1.41683329e-01  7.93483169e-01 -1.07984759e+00\n",
            "  -7.82658782e-01  0.00000000e+00 -6.40884948e-01  7.95256588e-01\n",
            "   4.70647089e-01 -4.79810207e-01 -1.00110529e+00 -1.38777878e-17\n",
            "  -1.36017565e-01  0.00000000e+00  0.00000000e+00  9.61200462e-01\n",
            "   1.45493934e+00]\n",
            " [ 0.00000000e+00 -6.61812625e-01 -1.25315894e+00 -1.08926228e+00\n",
            "  -1.77635684e-15  1.41683329e-01  1.48269356e+00  3.28925373e-01\n",
            "  -6.97522894e-01  0.00000000e+00 -4.91117607e-01  1.56810073e+00\n",
            "  -2.24597150e-01 -8.62495759e-01 -2.62519945e-01 -1.38777878e-17\n",
            "  -2.07309423e+00  0.00000000e+00  0.00000000e+00  1.07185540e+00\n",
            "  -5.17824612e-02]\n",
            " [ 0.00000000e+00 -1.54174021e+00 -9.28578983e-01 -8.82604493e-01\n",
            "  -1.77635684e-15  1.41683329e-01  9.96856728e-01 -6.57215703e-01\n",
            "  -6.68993314e-01  0.00000000e+00 -1.12762881e+00  1.35116202e+00\n",
            "  -5.02694846e-01 -5.60541132e-01 -6.19813938e-01 -1.38777878e-17\n",
            "  -1.36017565e-01  0.00000000e+00  0.00000000e+00  6.29235648e-01\n",
            "   6.46612193e-01]\n",
            " [ 0.00000000e+00 -9.61787936e-01  4.88807852e-01 -1.42813661e+00\n",
            "  -1.77635684e-15  1.41683329e-01  1.13243910e+00 -3.75461110e-01\n",
            "  -8.88625792e-01  0.00000000e+00 -5.28559442e-01  1.05287130e+00\n",
            "  -1.33698793e+00 -3.08912276e-01 -9.50444200e-01 -1.38777878e-17\n",
            "  -2.07309423e+00  0.00000000e+00  0.00000000e+00  1.29316527e+00\n",
            "   1.12052285e+00]]\n",
            "\n",
            "Corresponding Engine ID: 1 Cycle: 30\n"
          ]
        }
      ]
    },
    {
      "cell_type": "code",
      "source": [
        "# Convert lists to DataFrame\n",
        "ids_df = pd.DataFrame({'unit_number': engine_ids, 'time_cycles': cycle_ids})\n",
        "\n",
        "# Save to CSV files\n",
        "ids_df.to_csv('/content/drive/MyDrive/CMAPSS_Dataset/sequence_ids.csv', index=False)\n",
        "np.save('/content/drive/MyDrive/CMAPSS_Dataset/sequences.npy', sequences)\n",
        "\n",
        "print(\"\\n Sequence array saved as 'sequences.npy'\")\n",
        "print(\" Engine ID and cycle CSV saved as 'sequence_ids.csv'\")\n"
      ],
      "metadata": {
        "colab": {
          "base_uri": "https://localhost:8080/"
        },
        "id": "gPrZYF91r_52",
        "outputId": "a17ef74f-ea02-42ce-e3a5-a0224610da7d"
      },
      "id": "gPrZYF91r_52",
      "execution_count": 22,
      "outputs": [
        {
          "output_type": "stream",
          "name": "stdout",
          "text": [
            "\n",
            " Sequence array saved as 'sequences.npy'\n",
            " Engine ID and cycle CSV saved as 'sequence_ids.csv'\n"
          ]
        }
      ]
    }
  ],
  "metadata": {
    "kernelspec": {
      "display_name": "Python 3",
      "language": "python",
      "name": "python3"
    },
    "language_info": {
      "name": "python",
      "version": "3.11.9"
    },
    "colab": {
      "provenance": []
    }
  },
  "nbformat": 4,
  "nbformat_minor": 5
}