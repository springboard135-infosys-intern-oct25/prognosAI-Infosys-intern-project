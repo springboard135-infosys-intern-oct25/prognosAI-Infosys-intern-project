{
 "cells": [
  {
   "cell_type": "markdown",
   "id": "3d628278",
   "metadata": {},
   "source": [
    "### Assignment - 1"
   ]
  },
  {
   "cell_type": "markdown",
   "id": "51b0f193",
   "metadata": {},
   "source": [
    "#### 1. Load and Inspect the CMAPSS Dataset\n",
    "Task:\n",
    "- Write Python code to load the raw `train_FD001.txt` dataset for CMAPSS using Pandas, assign appropriate column names, and display the shape, data types, and first 5 rows of the DataFrame.\n",
    "- Expected Output: DataFrame shape, info, and sample rows.\n",
    "\n",
    "Use the link to download the dataset:\n",
    "https://data.nasa.gov/dataset/cmapss-jet-engine-simulated-data"
   ]
  },
  {
   "cell_type": "code",
   "execution_count": null,
   "id": "8af6f4ae",
   "metadata": {},
   "outputs": [],
   "source": []
  },
  {
   "cell_type": "markdown",
   "id": "5da05262",
   "metadata": {},
   "source": [
    "#### 2. Visualize Sensor Distributions and Identify Missing Values\n",
    "Task:\n",
    "- Using the loaded dataset (or the cleaned version), visualize the distribution of values for any three sensor columns with histograms, and check for missing values in all columns.\n",
    "- Expected Output: Three histogram plots and a summary/report on missing values per column."
   ]
  },
  {
   "cell_type": "code",
   "execution_count": null,
   "id": "4d0dc95f",
   "metadata": {},
   "outputs": [],
   "source": []
  },
  {
   "cell_type": "markdown",
   "id": "decd2cb6",
   "metadata": {},
   "source": [
    "#### 3. Feature Engineering – Aggregation and Rolling Statistics\n",
    "Task:\n",
    "- For a selected sensor (e.g., `sensor_2`), compute and append to the DataFrame:\n",
    "  - The mean and standard deviation of `sensor_2` by each `engine_id`\n",
    "\n",
    "  - The rolling mean (window size=5) for each engine’s `sensor_2` readings\n",
    "- Expected Output: Show a few sample rows with these new features."
   ]
  },
  {
   "cell_type": "code",
   "execution_count": null,
   "id": "b6e983b7",
   "metadata": {},
   "outputs": [],
   "source": []
  },
  {
   "cell_type": "markdown",
   "id": "deb462e4",
   "metadata": {},
   "source": [
    "#### 4. Data Normalization\n",
    "Task:\n",
    "- Normalize all sensor columns in the DataFrame using `StandardScaler` from `scikit-learn` (zero mean, unit variance) and create a new DataFrame, maintaining the original `engine_id` and `cycle` columns.\n",
    "- Expected Output: Head of the normalized DataFrame and a check that means are close to zero, std are close to one."
   ]
  },
  {
   "cell_type": "code",
   "execution_count": null,
   "id": "23c6fe72",
   "metadata": {},
   "outputs": [],
   "source": []
  },
  {
   "cell_type": "markdown",
   "id": "4835bfba",
   "metadata": {},
   "source": [
    "#### 5. Rolling Window Sequence Generation\n",
    "Task:\n",
    "- Write a function to generate rolling window sequences of length 30 for the sensors of each engine. Save the resulting 3D NumPy array (num_sequences, window_size, num_features), and save the corresponding engine_id and cycle identifier lists as CSV files. Print the shape of the resulting sequence array and contents of the first entry.\n",
    "- Expected Output: Array shape, example content, and confirmation of successful file saves."
   ]
  },
  {
   "cell_type": "code",
   "execution_count": null,
   "id": "ce28ca5f",
   "metadata": {},
   "outputs": [],
   "source": []
  }
 ],
 "metadata": {
  "kernelspec": {
   "display_name": "Python 3",
   "language": "python",
   "name": "python3"
  },
  "language_info": {
   "name": "python",
   "version": "3.11.9"
  }
 },
 "nbformat": 4,
 "nbformat_minor": 5
}
