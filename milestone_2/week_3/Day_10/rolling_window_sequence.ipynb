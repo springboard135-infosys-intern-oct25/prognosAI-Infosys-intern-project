{
 "cells": [
  {
   "cell_type": "markdown",
   "id": "dadc58b8",
   "metadata": {},
   "source": [
    "### Rolling Window Sequence\n",
    "A `rolling window sequence` in time series is a method where a fixed-size \"window\" or subset of consecutive time steps moves (\"rolls\") sequentially over the data. At each position, the window captures a segment of the data (for example, the last 30 cycles of sensor readings), which can then be used as input for models or calculations. The window shifts forward by one or more time steps, always covering the same number of points, allowing for dynamic analysis that reflects recent context while preserving temporal ordering.\n",
    "\n",
    "- Why do we generate rolling window sequences?\n",
    "\n",
    "  - This step is essential for time-series modeling techniques (like LSTMs or GRUs) that require input data shaped as sequences of fixed length rather than individual time points.\n",
    "\n",
    "  - Rolling windows create these context-rich, fixed-size sequences from the continuous stream of data for each engine, capturing temporal dependencies and trends.\n",
    "\n",
    "  - It allows models to learn from patterns that span multiple cycles, rather than isolated measurements.\n",
    "\n",
    "  - Even after earlier steps that compute rolling statistics or aggregates, rolling window sequence generation formats the data structurally for model training."
   ]
  },
  {
   "cell_type": "code",
   "execution_count": null,
   "id": "59cf68b8",
   "metadata": {},
   "outputs": [],
   "source": [
    "# 1. Imports and Data Loading\n",
    "import pandas as pd\n",
    "import numpy as np\n",
    "\n",
    "# Load the feature-engineered dataset from previous step (adjust path as needed)\n",
    "# df = pd.read_csv('C:/Users/win10/Desktop/Project_Oct25/prognosAI-Infosys-intern-project/data/processed/processed_feature_matrix.csv')  # Assume feature engineered file\n",
    "df = pd.read_csv('C:/Users/win10/Desktop/Project_Oct25/prognosAI-Infosys-intern-project/data/processed/cmapss_preprocessed.csv')  # Updated path\n",
    "\n",
    "# Basic info\n",
    "print(\"Dataset shape:\", df.shape)\n",
    "df.head()\n"
   ]
  },
  {
   "cell_type": "code",
   "execution_count": null,
   "id": "b70436be",
   "metadata": {},
   "outputs": [],
   "source": [
    "exclude_cols = ['engine_id', 'cycle', 'dataset_id']  # ADD 'dataset_id' to exclusions\n",
    "feature_cols = [col for col in df.columns if col not in exclude_cols]\n",
    "\n",
    "print(f\"Feature columns ({len(feature_cols)}): {feature_cols}\")\n",
    "\n",
    "# Verify all feature columns are numeric\n",
    "numeric_check = df[feature_cols].dtypes.apply(lambda x: np.issubdtype(x, np.number)).all()\n",
    "assert numeric_check, \"Non-numeric columns found in feature_cols!\"\n",
    "\n",
    "# Sort data by engine_id and cycle to ensure correct temporal order\n",
    "df = df.sort_values(['engine_id', 'cycle']).reset_index(drop=True)\n"
   ]
  },
  {
   "cell_type": "code",
   "execution_count": null,
   "id": "70ffdf36",
   "metadata": {},
   "outputs": [],
   "source": [
    "def generate_rolling_windows(data, engine_col, features, window_size=30):\n",
    "    sequences = []\n",
    "    engine_ids = []\n",
    "    cycle_ids = []\n",
    "    \n",
    "    for engine in data[engine_col].unique():\n",
    "        engine_data = data[data[engine_col] == engine]\n",
    "        engine_features = engine_data[features].values\n",
    "        \n",
    "        # Generate sequences with rolling window\n",
    "        for i in range(window_size - 1, len(engine_data)):\n",
    "            seq = engine_features[i - window_size + 1 : i + 1]\n",
    "            sequences.append(seq)\n",
    "            engine_ids.append(engine)\n",
    "            cycle_ids.append(engine_data.iloc[i]['cycle'])\n",
    "            \n",
    "    # Convert to array for modeling\n",
    "    sequences = np.array(sequences)\n",
    "    return sequences, engine_ids, cycle_ids\n",
    "\n"
   ]
  },
  {
   "cell_type": "code",
   "execution_count": null,
   "id": "c63e0ddb",
   "metadata": {},
   "outputs": [],
   "source": [
    "window_size = 30  # Typical rolling window length; adjust as needed\n",
    "sequences, engine_ids, cycle_ids = generate_rolling_windows(df, 'engine_id', feature_cols, window_size)\n",
    "\n",
    "print(\"Shape of rolling window sequences:\", sequences.shape)  # (num_sequences, window_size, num_features)\n",
    "print(\"Example sequence shape:\", sequences[0].shape)\n"
   ]
  },
  {
   "cell_type": "code",
   "execution_count": null,
   "id": "960f4d88",
   "metadata": {},
   "outputs": [],
   "source": [
    "# Print the first sequence info\n",
    "print(f\"Engine ID: {engine_ids[0]}, Cycle: {cycle_ids[0]}\")\n",
    "print(\"Sequence data for first time window (shape {}):\".format(sequences[0].shape))\n",
    "print(sequences[0])\n"
   ]
  },
  {
   "cell_type": "code",
   "execution_count": null,
   "id": "576ce24f",
   "metadata": {},
   "outputs": [],
   "source": [
    "assert sequences.shape[1] == window_size, \"Sequence window length mismatch\"\n",
    "\n",
    "# Check sequences integrity: cycles should increase within each engine\n",
    "# When engine changes, cycle resets (decreases), which is expected\n",
    "for i in range(1, len(cycle_ids)):\n",
    "    if engine_ids[i] == engine_ids[i-1]:\n",
    "        # Same engine: cycle should increase\n",
    "        assert cycle_ids[i] >= cycle_ids[i-1], f\"Cycle order violation within engine {engine_ids[i]}\"\n",
    "    # Different engine: cycle can reset (no assertion needed)\n",
    "\n",
    "print(\"✓ Cycle order validation passed\")\n",
    "print(f\"  Total sequences: {len(sequences)}\")\n",
    "print(f\"  Unique engines: {len(set(engine_ids))}\")"
   ]
  },
  {
   "cell_type": "code",
   "execution_count": null,
   "id": "ca130c3c",
   "metadata": {},
   "outputs": [],
   "source": [
    "# Save sequences and metadata for modeling\n",
    "np.save('rolling_window_sequences.npy', sequences)\n",
    "pd.DataFrame({'engine_id': engine_ids, 'cycle': cycle_ids}).to_csv('sequence_metadata.csv', index=False)"
   ]
  },
  {
   "cell_type": "markdown",
   "id": "bb6d770c",
   "metadata": {},
   "source": [
    "### Observations:"
   ]
  },
  {
   "cell_type": "markdown",
   "id": "4d760f5b",
   "metadata": {},
   "source": []
  }
 ],
 "metadata": {
  "kernelspec": {
   "display_name": "Python 3",
   "language": "python",
   "name": "python3"
  },
  "language_info": {
   "codemirror_mode": {
    "name": "ipython",
    "version": 3
   },
   "file_extension": ".py",
   "mimetype": "text/x-python",
   "name": "python",
   "nbconvert_exporter": "python",
   "pygments_lexer": "ipython3",
   "version": "3.11.9"
  }
 },
 "nbformat": 4,
 "nbformat_minor": 5
}
