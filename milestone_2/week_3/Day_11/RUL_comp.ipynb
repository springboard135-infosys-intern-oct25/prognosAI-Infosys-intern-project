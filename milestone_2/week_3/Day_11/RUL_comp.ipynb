{
 "cells": [
  {
   "cell_type": "markdown",
   "id": "978d753c",
   "metadata": {
    "id": "978d753c"
   },
   "source": [
    "### RUL Target Computation"
   ]
  },
  {
   "cell_type": "code",
   "execution_count": 14,
   "id": "5870e5e8",
   "metadata": {
    "executionInfo": {
     "elapsed": 17,
     "status": "ok",
     "timestamp": 1761661469406,
     "user": {
      "displayName": "Purva Vaghela",
      "userId": "02230923704945118294"
     },
     "user_tz": -330
    },
    "id": "5870e5e8"
   },
   "outputs": [],
   "source": [
    "import pandas as pd\n",
    "import numpy as np"
   ]
  },
  {
   "cell_type": "code",
   "execution_count": 15,
   "id": "1a40deac",
   "metadata": {
    "colab": {
     "base_uri": "https://localhost:8080/",
     "height": 297
    },
    "executionInfo": {
     "elapsed": 42,
     "status": "error",
     "timestamp": 1761661469485,
     "user": {
      "displayName": "Purva Vaghela",
      "userId": "02230923704945118294"
     },
     "user_tz": -330
    },
    "id": "1a40deac",
    "outputId": "11b9a59d-4c38-4c12-e739-750ff2b48656"
   },
   "outputs": [
    {
     "name": "stdout",
     "output_type": "stream",
     "text": [
      "Loaded rolling window sequences with shape: (152559, 30, 66)\n"
     ]
    }
   ],
   "source": [
    "# 1. Load rolling windows sequence (NumPy array)\n",
    "sequences = np.load('rolling_window_sequences.npy')\n",
    "print(f\"Loaded rolling window sequences with shape: {sequences.shape}\")"
   ]
  },
  {
   "cell_type": "code",
   "execution_count": 16,
   "id": "269d5045",
   "metadata": {
    "colab": {
     "base_uri": "https://localhost:8080/",
     "height": 339
    },
    "executionInfo": {
     "elapsed": 77,
     "status": "error",
     "timestamp": 1761661469531,
     "user": {
      "displayName": "Purva Vaghela",
      "userId": "02230923704945118294"
     },
     "user_tz": -330
    },
    "id": "269d5045",
    "outputId": "9930b26f-4159-4fe4-96ea-322be05e63de"
   },
   "outputs": [
    {
     "name": "stdout",
     "output_type": "stream",
     "text": [
      "Loaded sequence metadata with shape: (152559, 2)\n"
     ]
    },
    {
     "data": {
      "text/html": [
       "<div>\n",
       "<style scoped>\n",
       "    .dataframe tbody tr th:only-of-type {\n",
       "        vertical-align: middle;\n",
       "    }\n",
       "\n",
       "    .dataframe tbody tr th {\n",
       "        vertical-align: top;\n",
       "    }\n",
       "\n",
       "    .dataframe thead th {\n",
       "        text-align: right;\n",
       "    }\n",
       "</style>\n",
       "<table border=\"1\" class=\"dataframe\">\n",
       "  <thead>\n",
       "    <tr style=\"text-align: right;\">\n",
       "      <th></th>\n",
       "      <th>engine_id</th>\n",
       "      <th>cycle</th>\n",
       "    </tr>\n",
       "  </thead>\n",
       "  <tbody>\n",
       "    <tr>\n",
       "      <th>0</th>\n",
       "      <td>1</td>\n",
       "      <td>8.0</td>\n",
       "    </tr>\n",
       "    <tr>\n",
       "      <th>1</th>\n",
       "      <td>1</td>\n",
       "      <td>8.0</td>\n",
       "    </tr>\n",
       "    <tr>\n",
       "      <th>2</th>\n",
       "      <td>1</td>\n",
       "      <td>9.0</td>\n",
       "    </tr>\n",
       "    <tr>\n",
       "      <th>3</th>\n",
       "      <td>1</td>\n",
       "      <td>9.0</td>\n",
       "    </tr>\n",
       "    <tr>\n",
       "      <th>4</th>\n",
       "      <td>1</td>\n",
       "      <td>9.0</td>\n",
       "    </tr>\n",
       "  </tbody>\n",
       "</table>\n",
       "</div>"
      ],
      "text/plain": [
       "   engine_id  cycle\n",
       "0          1    8.0\n",
       "1          1    8.0\n",
       "2          1    9.0\n",
       "3          1    9.0\n",
       "4          1    9.0"
      ]
     },
     "execution_count": 16,
     "metadata": {},
     "output_type": "execute_result"
    }
   ],
   "source": [
    "# 2. Load sequence metadata (engine_id, cycle)\n",
    "metadata_df = pd.read_csv('sequence_metadata.csv')\n",
    "print(f\"Loaded sequence metadata with shape: {metadata_df.shape}\")\n",
    "metadata_df.head()"
   ]
  },
  {
   "cell_type": "code",
   "execution_count": 17,
   "id": "eb5c943f",
   "metadata": {
    "executionInfo": {
     "elapsed": 462,
     "status": "aborted",
     "timestamp": 1761661469524,
     "user": {
      "displayName": "Purva Vaghela",
      "userId": "02230923704945118294"
     },
     "user_tz": -330
    },
    "id": "eb5c943f"
   },
   "outputs": [
    {
     "data": {
      "text/html": [
       "<div>\n",
       "<style scoped>\n",
       "    .dataframe tbody tr th:only-of-type {\n",
       "        vertical-align: middle;\n",
       "    }\n",
       "\n",
       "    .dataframe tbody tr th {\n",
       "        vertical-align: top;\n",
       "    }\n",
       "\n",
       "    .dataframe thead th {\n",
       "        text-align: right;\n",
       "    }\n",
       "</style>\n",
       "<table border=\"1\" class=\"dataframe\">\n",
       "  <thead>\n",
       "    <tr style=\"text-align: right;\">\n",
       "      <th></th>\n",
       "      <th>engine_id</th>\n",
       "      <th>max_cycle</th>\n",
       "    </tr>\n",
       "  </thead>\n",
       "  <tbody>\n",
       "    <tr>\n",
       "      <th>0</th>\n",
       "      <td>1</td>\n",
       "      <td>321.0</td>\n",
       "    </tr>\n",
       "    <tr>\n",
       "      <th>1</th>\n",
       "      <td>2</td>\n",
       "      <td>299.0</td>\n",
       "    </tr>\n",
       "    <tr>\n",
       "      <th>2</th>\n",
       "      <td>3</td>\n",
       "      <td>307.0</td>\n",
       "    </tr>\n",
       "    <tr>\n",
       "      <th>3</th>\n",
       "      <td>4</td>\n",
       "      <td>274.0</td>\n",
       "    </tr>\n",
       "    <tr>\n",
       "      <th>4</th>\n",
       "      <td>5</td>\n",
       "      <td>269.0</td>\n",
       "    </tr>\n",
       "  </tbody>\n",
       "</table>\n",
       "</div>"
      ],
      "text/plain": [
       "   engine_id  max_cycle\n",
       "0          1      321.0\n",
       "1          2      299.0\n",
       "2          3      307.0\n",
       "3          4      274.0\n",
       "4          5      269.0"
      ]
     },
     "execution_count": 17,
     "metadata": {},
     "output_type": "execute_result"
    }
   ],
   "source": [
    "# 3. Calculate Remaining Useful Life (RUL) per sequence\n",
    "\n",
    "# Find max cycle per engine in metadata\n",
    "max_cycle_per_engine = metadata_df.groupby('engine_id')['cycle'].max().reset_index()\n",
    "max_cycle_per_engine.columns = ['engine_id', 'max_cycle']\n",
    "max_cycle_per_engine.head()"
   ]
  },
  {
   "cell_type": "code",
   "execution_count": 18,
   "id": "6a894608",
   "metadata": {
    "executionInfo": {
     "elapsed": 462,
     "status": "aborted",
     "timestamp": 1761661469526,
     "user": {
      "displayName": "Purva Vaghela",
      "userId": "02230923704945118294"
     },
     "user_tz": -330
    },
    "id": "6a894608"
   },
   "outputs": [
    {
     "data": {
      "text/html": [
       "<div>\n",
       "<style scoped>\n",
       "    .dataframe tbody tr th:only-of-type {\n",
       "        vertical-align: middle;\n",
       "    }\n",
       "\n",
       "    .dataframe tbody tr th {\n",
       "        vertical-align: top;\n",
       "    }\n",
       "\n",
       "    .dataframe thead th {\n",
       "        text-align: right;\n",
       "    }\n",
       "</style>\n",
       "<table border=\"1\" class=\"dataframe\">\n",
       "  <thead>\n",
       "    <tr style=\"text-align: right;\">\n",
       "      <th></th>\n",
       "      <th>engine_id</th>\n",
       "      <th>cycle</th>\n",
       "      <th>max_cycle</th>\n",
       "    </tr>\n",
       "  </thead>\n",
       "  <tbody>\n",
       "    <tr>\n",
       "      <th>0</th>\n",
       "      <td>1</td>\n",
       "      <td>8.0</td>\n",
       "      <td>321.0</td>\n",
       "    </tr>\n",
       "    <tr>\n",
       "      <th>1</th>\n",
       "      <td>1</td>\n",
       "      <td>8.0</td>\n",
       "      <td>321.0</td>\n",
       "    </tr>\n",
       "    <tr>\n",
       "      <th>2</th>\n",
       "      <td>1</td>\n",
       "      <td>9.0</td>\n",
       "      <td>321.0</td>\n",
       "    </tr>\n",
       "    <tr>\n",
       "      <th>3</th>\n",
       "      <td>1</td>\n",
       "      <td>9.0</td>\n",
       "      <td>321.0</td>\n",
       "    </tr>\n",
       "    <tr>\n",
       "      <th>4</th>\n",
       "      <td>1</td>\n",
       "      <td>9.0</td>\n",
       "      <td>321.0</td>\n",
       "    </tr>\n",
       "  </tbody>\n",
       "</table>\n",
       "</div>"
      ],
      "text/plain": [
       "   engine_id  cycle  max_cycle\n",
       "0          1    8.0      321.0\n",
       "1          1    8.0      321.0\n",
       "2          1    9.0      321.0\n",
       "3          1    9.0      321.0\n",
       "4          1    9.0      321.0"
      ]
     },
     "execution_count": 18,
     "metadata": {},
     "output_type": "execute_result"
    }
   ],
   "source": [
    "# Merge max cycle info with metadata\n",
    "metadata_df = metadata_df.merge(max_cycle_per_engine, on='engine_id', how='left')\n",
    "metadata_df.head()\n"
   ]
  },
  {
   "cell_type": "code",
   "execution_count": 19,
   "id": "b64230d2",
   "metadata": {
    "executionInfo": {
     "elapsed": 461,
     "status": "aborted",
     "timestamp": 1761661469527,
     "user": {
      "displayName": "Purva Vaghela",
      "userId": "02230923704945118294"
     },
     "user_tz": -330
    },
    "id": "b64230d2"
   },
   "outputs": [],
   "source": [
    "# Compute RUL\n",
    "metadata_df['RUL'] = metadata_df['max_cycle'] - metadata_df['cycle']"
   ]
  },
  {
   "cell_type": "code",
   "execution_count": 20,
   "id": "654d351d",
   "metadata": {
    "executionInfo": {
     "elapsed": 460,
     "status": "aborted",
     "timestamp": 1761661469528,
     "user": {
      "displayName": "Purva Vaghela",
      "userId": "02230923704945118294"
     },
     "user_tz": -330
    },
    "id": "654d351d"
   },
   "outputs": [
    {
     "data": {
      "text/html": [
       "<div>\n",
       "<style scoped>\n",
       "    .dataframe tbody tr th:only-of-type {\n",
       "        vertical-align: middle;\n",
       "    }\n",
       "\n",
       "    .dataframe tbody tr th {\n",
       "        vertical-align: top;\n",
       "    }\n",
       "\n",
       "    .dataframe thead th {\n",
       "        text-align: right;\n",
       "    }\n",
       "</style>\n",
       "<table border=\"1\" class=\"dataframe\">\n",
       "  <thead>\n",
       "    <tr style=\"text-align: right;\">\n",
       "      <th></th>\n",
       "      <th>engine_id</th>\n",
       "      <th>cycle</th>\n",
       "      <th>max_cycle</th>\n",
       "      <th>RUL</th>\n",
       "    </tr>\n",
       "  </thead>\n",
       "  <tbody>\n",
       "    <tr>\n",
       "      <th>0</th>\n",
       "      <td>1</td>\n",
       "      <td>8.0</td>\n",
       "      <td>321.0</td>\n",
       "      <td>313.0</td>\n",
       "    </tr>\n",
       "    <tr>\n",
       "      <th>1</th>\n",
       "      <td>1</td>\n",
       "      <td>8.0</td>\n",
       "      <td>321.0</td>\n",
       "      <td>313.0</td>\n",
       "    </tr>\n",
       "    <tr>\n",
       "      <th>2</th>\n",
       "      <td>1</td>\n",
       "      <td>9.0</td>\n",
       "      <td>321.0</td>\n",
       "      <td>312.0</td>\n",
       "    </tr>\n",
       "    <tr>\n",
       "      <th>3</th>\n",
       "      <td>1</td>\n",
       "      <td>9.0</td>\n",
       "      <td>321.0</td>\n",
       "      <td>312.0</td>\n",
       "    </tr>\n",
       "    <tr>\n",
       "      <th>4</th>\n",
       "      <td>1</td>\n",
       "      <td>9.0</td>\n",
       "      <td>321.0</td>\n",
       "      <td>312.0</td>\n",
       "    </tr>\n",
       "  </tbody>\n",
       "</table>\n",
       "</div>"
      ],
      "text/plain": [
       "   engine_id  cycle  max_cycle    RUL\n",
       "0          1    8.0      321.0  313.0\n",
       "1          1    8.0      321.0  313.0\n",
       "2          1    9.0      321.0  312.0\n",
       "3          1    9.0      321.0  312.0\n",
       "4          1    9.0      321.0  312.0"
      ]
     },
     "execution_count": 20,
     "metadata": {},
     "output_type": "execute_result"
    }
   ],
   "source": [
    "metadata_df.head()"
   ]
  },
  {
   "cell_type": "code",
   "execution_count": 21,
   "id": "cefb6ce5",
   "metadata": {
    "executionInfo": {
     "elapsed": 459,
     "status": "aborted",
     "timestamp": 1761661469529,
     "user": {
      "displayName": "Purva Vaghela",
      "userId": "02230923704945118294"
     },
     "user_tz": -330
    },
    "id": "cefb6ce5"
   },
   "outputs": [
    {
     "data": {
      "text/html": [
       "<div>\n",
       "<style scoped>\n",
       "    .dataframe tbody tr th:only-of-type {\n",
       "        vertical-align: middle;\n",
       "    }\n",
       "\n",
       "    .dataframe tbody tr th {\n",
       "        vertical-align: top;\n",
       "    }\n",
       "\n",
       "    .dataframe thead th {\n",
       "        text-align: right;\n",
       "    }\n",
       "</style>\n",
       "<table border=\"1\" class=\"dataframe\">\n",
       "  <thead>\n",
       "    <tr style=\"text-align: right;\">\n",
       "      <th></th>\n",
       "      <th>engine_id</th>\n",
       "      <th>cycle</th>\n",
       "      <th>RUL</th>\n",
       "    </tr>\n",
       "  </thead>\n",
       "  <tbody>\n",
       "    <tr>\n",
       "      <th>0</th>\n",
       "      <td>1</td>\n",
       "      <td>8.0</td>\n",
       "      <td>313.0</td>\n",
       "    </tr>\n",
       "    <tr>\n",
       "      <th>1</th>\n",
       "      <td>1</td>\n",
       "      <td>8.0</td>\n",
       "      <td>313.0</td>\n",
       "    </tr>\n",
       "    <tr>\n",
       "      <th>2</th>\n",
       "      <td>1</td>\n",
       "      <td>9.0</td>\n",
       "      <td>312.0</td>\n",
       "    </tr>\n",
       "    <tr>\n",
       "      <th>3</th>\n",
       "      <td>1</td>\n",
       "      <td>9.0</td>\n",
       "      <td>312.0</td>\n",
       "    </tr>\n",
       "    <tr>\n",
       "      <th>4</th>\n",
       "      <td>1</td>\n",
       "      <td>9.0</td>\n",
       "      <td>312.0</td>\n",
       "    </tr>\n",
       "  </tbody>\n",
       "</table>\n",
       "</div>"
      ],
      "text/plain": [
       "   engine_id  cycle    RUL\n",
       "0          1    8.0  313.0\n",
       "1          1    8.0  313.0\n",
       "2          1    9.0  312.0\n",
       "3          1    9.0  312.0\n",
       "4          1    9.0  312.0"
      ]
     },
     "execution_count": 21,
     "metadata": {},
     "output_type": "execute_result"
    }
   ],
   "source": [
    "# Optional: Cap RUL values\n",
    "# rul_cap = 130\n",
    "# metadata_df['RUL'] = metadata_df['RUL'].clip(upper=rul_cap)\n",
    "\n",
    "# Drop max_cycle column if not needed further\n",
    "metadata_df.drop(columns=['max_cycle'], inplace=True)\n",
    "\n",
    "metadata_df.head()"
   ]
  },
  {
   "cell_type": "code",
   "execution_count": 22,
   "id": "d5eed6d6",
   "metadata": {
    "executionInfo": {
     "elapsed": 459,
     "status": "aborted",
     "timestamp": 1761661469530,
     "user": {
      "displayName": "Purva Vaghela",
      "userId": "02230923704945118294"
     },
     "user_tz": -330
    },
    "id": "d5eed6d6"
   },
   "outputs": [
    {
     "name": "stdout",
     "output_type": "stream",
     "text": [
      "\n",
      "Engine 1 - Cycles and RULs:\n",
      "   cycle    RUL\n",
      "0    8.0  313.0\n",
      "1    8.0  313.0\n",
      "2    9.0  312.0\n",
      "3    9.0  312.0\n",
      "4    9.0  312.0\n",
      "5    9.0  312.0\n",
      "6   10.0  311.0\n",
      "7   10.0  311.0\n",
      "8   10.0  311.0\n",
      "9   10.0  311.0\n",
      "     cycle  RUL\n",
      "881  312.0  9.0\n",
      "882  313.0  8.0\n",
      "883  314.0  7.0\n",
      "884  315.0  6.0\n",
      "885  316.0  5.0\n",
      "886  317.0  4.0\n",
      "887  318.0  3.0\n",
      "888  319.0  2.0\n",
      "889  320.0  1.0\n",
      "890  321.0  0.0\n",
      "\n",
      "Engine 2 - Cycles and RULs:\n",
      "     cycle    RUL\n",
      "891    8.0  291.0\n",
      "892    8.0  291.0\n",
      "893    9.0  290.0\n",
      "894    9.0  290.0\n",
      "895    9.0  290.0\n",
      "896    9.0  290.0\n",
      "897   10.0  289.0\n",
      "898   10.0  289.0\n",
      "899   10.0  289.0\n",
      "900   10.0  289.0\n",
      "      cycle  RUL\n",
      "1959  290.0  9.0\n",
      "1960  291.0  8.0\n",
      "1961  292.0  7.0\n",
      "1962  293.0  6.0\n",
      "1963  294.0  5.0\n",
      "1964  295.0  4.0\n",
      "1965  296.0  3.0\n",
      "1966  297.0  2.0\n",
      "1967  298.0  1.0\n",
      "1968  299.0  0.0\n",
      "\n",
      "Engine 3 - Cycles and RULs:\n",
      "      cycle    RUL\n",
      "1969    8.0  299.0\n",
      "1970    8.0  299.0\n",
      "1971    9.0  298.0\n",
      "1972    9.0  298.0\n",
      "1973    9.0  298.0\n",
      "1974    9.0  298.0\n",
      "1975   10.0  297.0\n",
      "1976   10.0  297.0\n",
      "1977   10.0  297.0\n",
      "1978   10.0  297.0\n",
      "      cycle  RUL\n",
      "2843  298.0  9.0\n",
      "2844  299.0  8.0\n",
      "2845  300.0  7.0\n",
      "2846  301.0  6.0\n",
      "2847  302.0  5.0\n",
      "2848  303.0  4.0\n",
      "2849  304.0  3.0\n",
      "2850  305.0  2.0\n",
      "2851  306.0  1.0\n",
      "2852  307.0  0.0\n"
     ]
    }
   ],
   "source": [
    "# 4. Validate by inspecting example engine(s)\n",
    "engines_to_check = metadata_df['engine_id'].unique()[:3]  # first 3 engines\n",
    "for engine in engines_to_check:\n",
    "    sample = metadata_df[metadata_df['engine_id'] == engine][['cycle', 'RUL']]\n",
    "    print(f\"\\nEngine {engine} - Cycles and RULs:\")\n",
    "    print(sample.head(10))\n",
    "    print(sample.tail(10))"
   ]
  },
  {
   "cell_type": "code",
   "execution_count": 23,
   "id": "395e6178",
   "metadata": {
    "executionInfo": {
     "elapsed": 472,
     "status": "aborted",
     "timestamp": 1761661469545,
     "user": {
      "displayName": "Purva Vaghela",
      "userId": "02230923704945118294"
     },
     "user_tz": -330
    },
    "id": "395e6178"
   },
   "outputs": [
    {
     "name": "stdout",
     "output_type": "stream",
     "text": [
      "Saved updated metadata with RUL as 'sequence_metadata_with_RUL.csv'\n"
     ]
    }
   ],
   "source": [
    "# 5. Save updated metadata with RUL target\n",
    "metadata_df.to_csv('sequence_metadata_with_RUL.csv', index=False)\n",
    "print(\"Saved updated metadata with RUL as 'sequence_metadata_with_RUL.csv'\")"
   ]
  },
  {
   "cell_type": "markdown",
   "id": "7fde4975",
   "metadata": {
    "id": "7fde4975"
   },
   "source": [
    "**Process Steps:**  \n",
    "- Loaded rolling window feature sequences from 'rolling_windows_feature.npy'.  \n",
    "- Loaded sequence metadata from 'sequence_metadata.csv' including engine and cycle identifiers.  \n",
    "- Computed Remaining Useful Life (RUL) for each sequence as the difference between\n",
    "  maximum cycle for the engine and the current cycle.  \n",
    "- Applied RUL capping at 130 to stabilize regression targets.  \n",
    "- Saved updated metadata including RUL targets for downstream model training.\n",
    "\n",
    "**Outputs:**  \n",
    "- Rolling window sequences (NumPy array) ready for modeling.  \n",
    "- Updated sequence metadata with assigned RUL targets.  \n",
    "\n",
    "**Next Steps:**  \n",
    "- Use these datasets for training and evaluating LSTM/GRU predictive models for RUL.  \n",
    "\n",
    "---"
   ]
  }
 ],
 "metadata": {
  "colab": {
   "provenance": []
  },
  "kernelspec": {
   "display_name": "Python 3",
   "language": "python",
   "name": "python3"
  },
  "language_info": {
   "codemirror_mode": {
    "name": "ipython",
    "version": 3
   },
   "file_extension": ".py",
   "mimetype": "text/x-python",
   "name": "python",
   "nbconvert_exporter": "python",
   "pygments_lexer": "ipython3",
   "version": "3.11.9"
  }
 },
 "nbformat": 4,
 "nbformat_minor": 5
}
