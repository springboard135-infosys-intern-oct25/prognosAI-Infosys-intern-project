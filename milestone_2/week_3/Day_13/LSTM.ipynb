{
 "cells": [
  {
   "cell_type": "markdown",
   "id": "35dab08a",
   "metadata": {},
   "source": [
    "## LSTM\n",
    "Long Short-Term Memory (LSTM) is a specialized type of Recurrent Neural Network (RNN) capable of learning long-term dependencies in sequence data.  \n",
    "Key challenges standard RNNs face are vanishing and exploding gradients during backpropagation, which limits learning long sequences.  \n",
    "LSTMs address this by using a memory cell and gating mechanisms (input, forget, output gates) to control information flow, enabling the network to maintain relevant information across time steps.\n",
    "\n",
    "LSTM units:  \n",
    "- **Cell state (memory)** that carries long-term information.  \n",
    "- **Forget gate** to decide what information to discard.  \n",
    "- **Input gate** to decide what new information to store.  \n",
    "- **Output gate** to decide what to output.  \n",
    "\n",
    "LSTMs are widely used in time series forecasting, language modeling, speech recognition, and many other sequential tasks.\n"
   ]
  },
  {
   "cell_type": "code",
   "execution_count": null,
   "id": "ca350a61",
   "metadata": {},
   "outputs": [],
   "source": [
    "## Import necessary libraries\n",
    "import numpy as np\n",
    "import tensorflow as tf\n",
    "from tensorflow.keras.models import Sequential\n",
    "from tensorflow.keras.layers import LSTM, Dense\n",
    "from tensorflow.keras.optimizers import Adam\n",
    "import matplotlib.pyplot as plt"
   ]
  },
  {
   "cell_type": "code",
   "execution_count": null,
   "id": "75bc9413",
   "metadata": {},
   "outputs": [],
   "source": [
    "# Generate synthetic sine wave data for sequence regression\n",
    "def create_sine_data(seq_length=50, total_samples=1000):\n",
    "    X = []\n",
    "    y = []\n",
    "    x_vals = np.linspace(0, 100, total_samples + seq_length)\n",
    "    sine_wave = np.sin(x_vals)\n",
    "    \n",
    "    for i in range(total_samples):\n",
    "        X.append(sine_wave[i:i+seq_length])\n",
    "        y.append(sine_wave[i+seq_length])\n",
    "    \n",
    "    X = np.array(X)\n",
    "    y = np.array(y)\n",
    "    # Reshape X for LSTM [samples, time_steps, features]\n",
    "    X = X.reshape((X.shape[0], X.shape[1], 1))\n",
    "    return X, y\n",
    "\n",
    "# Prepare data\n",
    "seq_length = 50\n",
    "X, y = create_sine_data(seq_length)\n",
    "\n",
    "print(\"Input shape:\", X.shape)\n",
    "print(\"Output shape:\", y.shape)\n"
   ]
  },
  {
   "cell_type": "code",
   "execution_count": null,
   "id": "a3218e3c",
   "metadata": {},
   "outputs": [],
   "source": [
    "# Build LSTM model\n",
    "model = Sequential([\n",
    "    LSTM(50, activation='tanh', input_shape=(seq_length,1)),\n",
    "    Dense(1)\n",
    "])\n",
    "model.compile(optimizer=Adam(learning_rate=0.001), loss='mse')\n",
    "\n",
    "model.summary()"
   ]
  },
  {
   "cell_type": "code",
   "execution_count": null,
   "id": "6e694bf9",
   "metadata": {},
   "outputs": [],
   "source": [
    "# Train the model\n",
    "history = model.fit(X, y, epochs=20, batch_size=32, validation_split=0.2)"
   ]
  },
  {
   "cell_type": "code",
   "execution_count": null,
   "id": "6401961d",
   "metadata": {},
   "outputs": [],
   "source": [
    "# Plot training & validation loss values\n",
    "plt.plot(history.history['loss'], label='Train Loss')\n",
    "plt.plot(history.history['val_loss'], label='Validation Loss')\n",
    "plt.xlabel('Epoch')\n",
    "plt.ylabel('MSE Loss')\n",
    "plt.title('Training and Validation Loss')\n",
    "plt.legend()\n",
    "plt.show()"
   ]
  },
  {
   "cell_type": "code",
   "execution_count": null,
   "id": "e1927f24",
   "metadata": {},
   "outputs": [],
   "source": [
    "# Make predictions\n",
    "predictions = model.predict(X[:100])\n",
    "plt.plot(y[:100], label='Actual')\n",
    "plt.plot(predictions.flatten(), label='Predicted', linestyle='--')\n",
    "plt.title('LSTM Sine Wave Prediction')\n",
    "plt.xlabel('Sample')\n",
    "plt.ylabel('Value')\n",
    "plt.legend()\n",
    "plt.show()"
   ]
  },
  {
   "cell_type": "markdown",
   "id": "7c92abb4",
   "metadata": {},
   "source": [
    "- #### Observations:"
   ]
  },
  {
   "cell_type": "markdown",
   "id": "10a99204",
   "metadata": {},
   "source": []
  }
 ],
 "metadata": {
  "kernelspec": {
   "display_name": "Python 3",
   "language": "python",
   "name": "python3"
  },
  "language_info": {
   "codemirror_mode": {
    "name": "ipython",
    "version": 3
   },
   "file_extension": ".py",
   "mimetype": "text/x-python",
   "name": "python",
   "nbconvert_exporter": "python",
   "pygments_lexer": "ipython3",
   "version": "3.11.9"
  }
 },
 "nbformat": 4,
 "nbformat_minor": 5
}
