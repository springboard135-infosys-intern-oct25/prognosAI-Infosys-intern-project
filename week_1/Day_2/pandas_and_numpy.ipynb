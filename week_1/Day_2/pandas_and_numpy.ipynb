{
 "cells": [
  {
   "cell_type": "markdown",
   "id": "a5bdadda",
   "metadata": {},
   "source": [
    "### Essential NumPy and Pandas Functions for Data Analysis\n",
    "\n",
    "Let's look at practical code snippets that demonstrate the most useful NumPy and pandas methods for data analysis in Python. You can use these in a Jupyter notebook for experimentation and workflow mastery."
   ]
  },
  {
   "cell_type": "markdown",
   "id": "d756a7ff",
   "metadata": {},
   "source": [
    "#### NumPy Basics for Data Analysis\n",
    "Import NumPy:"
   ]
  },
  {
   "cell_type": "code",
   "execution_count": 23,
   "id": "11776fab",
   "metadata": {},
   "outputs": [],
   "source": [
    "import numpy as np"
   ]
  },
  {
   "cell_type": "markdown",
   "id": "697cc53d",
   "metadata": {},
   "source": [
    "1. Creating Arrays"
   ]
  },
  {
   "cell_type": "code",
   "execution_count": 24,
   "id": "5346f74e",
   "metadata": {},
   "outputs": [],
   "source": [
    "arr = np.array([1, 2, 3, 4])            # 1D array\n",
    "matrix = np.array([[1, 2], [3, 4]])     # 2D array\n",
    "zeros = np.zeros((2, 3))                # 2x3 array of zeros\n",
    "ones = np.ones((2, 3))                  # 2x3 array of ones\n",
    "rnd = np.random.rand(2, 3)              # 2x3 array of random floats"
   ]
  },
  {
   "cell_type": "markdown",
   "id": "a3c9fc2c",
   "metadata": {},
   "source": [
    "2. Array Shape, Reshape, Flatten"
   ]
  },
  {
   "cell_type": "code",
   "execution_count": 25,
   "id": "58dc11da",
   "metadata": {},
   "outputs": [
    {
     "name": "stdout",
     "output_type": "stream",
     "text": [
      "(4,)\n"
     ]
    }
   ],
   "source": [
    "print(arr.shape)                # (4,)\n",
    "reshaped = matrix.reshape((4, 1))   # Reshape to 4 rows, 1 column\n",
    "flat = matrix.ravel()               # Flatten to 1D array"
   ]
  },
  {
   "cell_type": "markdown",
   "id": "8feb28e2",
   "metadata": {},
   "source": [
    "3. Indexing and Slicing"
   ]
  },
  {
   "cell_type": "code",
   "execution_count": 26,
   "id": "e2dd3ec3",
   "metadata": {},
   "outputs": [
    {
     "name": "stdout",
     "output_type": "stream",
     "text": [
      "2\n",
      "[2 3]\n"
     ]
    }
   ],
   "source": [
    "print(matrix[0, 1])    # element at first row, second column\n",
    "print(arr[1:3])        # slice elements 1 to 2"
   ]
  },
  {
   "cell_type": "markdown",
   "id": "196ce80c",
   "metadata": {},
   "source": [
    "4. Basic Math Operations"
   ]
  },
  {
   "cell_type": "code",
   "execution_count": 27,
   "id": "cc490150",
   "metadata": {},
   "outputs": [
    {
     "name": "stdout",
     "output_type": "stream",
     "text": [
      "[11 22 33]\n",
      "[ 9 18 27]\n",
      "[10 40 90]\n",
      "[10. 10. 10.]\n"
     ]
    }
   ],
   "source": [
    "a = np.array([10, 20, 30])\n",
    "b = np.array([1, 2, 3])\n",
    "print(a + b)           # [11 22 33]\n",
    "print(a - b)           # [ 9 18 27]\n",
    "print(a * b)           # [10 40 90]\n",
    "print(a / b)           # [10. 10. 10.]\n"
   ]
  },
  {
   "cell_type": "markdown",
   "id": "80b1dca7",
   "metadata": {},
   "source": [
    "5. Aggregation and Stats"
   ]
  },
  {
   "cell_type": "code",
   "execution_count": 28,
   "id": "f593fe13",
   "metadata": {},
   "outputs": [
    {
     "data": {
      "text/plain": [
       "(1, 4)"
      ]
     },
     "execution_count": 28,
     "metadata": {},
     "output_type": "execute_result"
    }
   ],
   "source": [
    "np.sum(arr)                 # 10\n",
    "np.mean(arr)                # 2.5\n",
    "np.std(arr)                 # Standard deviation\n",
    "np.min(arr), np.max(arr)    # Min and max values"
   ]
  },
  {
   "cell_type": "markdown",
   "id": "760c1f33",
   "metadata": {},
   "source": [
    "6. Dot Product, Matrix Ops"
   ]
  },
  {
   "cell_type": "code",
   "execution_count": 29,
   "id": "f97d960e",
   "metadata": {},
   "outputs": [],
   "source": [
    "a = np.array([1, 2, 3])\n",
    "b = np.array([4, 5, 6])\n",
    "dot = np.dot(a, b)          # 1*4 + 2*5 + 3*6 = 32\n",
    "mat = np.array([[1, 2], [3, 4]])\n",
    "mat2 = np.array([[5, 6], [7, 8]])\n",
    "matprod = np.matmul(mat, mat2) # Matrix multiplication"
   ]
  },
  {
   "cell_type": "markdown",
   "id": "fe9a547f",
   "metadata": {},
   "source": [
    "7. Logical and Filtering"
   ]
  },
  {
   "cell_type": "code",
   "execution_count": 30,
   "id": "0a1a8235",
   "metadata": {},
   "outputs": [
    {
     "data": {
      "text/plain": [
       "(array([2, 3], dtype=int64),)"
      ]
     },
     "execution_count": 30,
     "metadata": {},
     "output_type": "execute_result"
    }
   ],
   "source": [
    "arr[arr > 2]                # Returns [3, 4]\n",
    "np.where(arr > 2)           # Indices where condition is true"
   ]
  },
  {
   "cell_type": "markdown",
   "id": "ab927405",
   "metadata": {},
   "source": [
    "8. Random Sampling"
   ]
  },
  {
   "cell_type": "code",
   "execution_count": 31,
   "id": "4453e0d6",
   "metadata": {},
   "outputs": [
    {
     "data": {
      "text/plain": [
       "array([1, 0, 1, 1, 0, 1, 0, 1, 0, 0])"
      ]
     },
     "execution_count": 31,
     "metadata": {},
     "output_type": "execute_result"
    }
   ],
   "source": [
    "np.random.randint(0, 100, size=5) # 5 random ints 0-99\n",
    "np.random.choice([0, 1], size=10) # 10 random 0s or 1s"
   ]
  },
  {
   "cell_type": "markdown",
   "id": "d6acee10",
   "metadata": {},
   "source": [
    "#### Pandas Basics for Data Analysis\n",
    "Import pandas:"
   ]
  },
  {
   "cell_type": "code",
   "execution_count": 32,
   "id": "4c05d070",
   "metadata": {},
   "outputs": [],
   "source": [
    "import pandas as pd"
   ]
  },
  {
   "cell_type": "markdown",
   "id": "2bd15b71",
   "metadata": {},
   "source": [
    "1. Creating DataFrames"
   ]
  },
  {
   "cell_type": "code",
   "execution_count": 33,
   "id": "0f6029eb",
   "metadata": {},
   "outputs": [],
   "source": [
    "data = {'A': [1, 2, 3], 'B': [4, 5, 6]}\n",
    "df = pd.DataFrame(data) # Create DataFrame"
   ]
  },
  {
   "cell_type": "markdown",
   "id": "54d5cbde",
   "metadata": {},
   "source": [
    "2. Inspecting Data"
   ]
  },
  {
   "cell_type": "code",
   "execution_count": 34,
   "id": "d8d19d15",
   "metadata": {},
   "outputs": [
    {
     "name": "stdout",
     "output_type": "stream",
     "text": [
      "<class 'pandas.core.frame.DataFrame'>\n",
      "RangeIndex: 3 entries, 0 to 2\n",
      "Data columns (total 2 columns):\n",
      " #   Column  Non-Null Count  Dtype\n",
      "---  ------  --------------  -----\n",
      " 0   A       3 non-null      int64\n",
      " 1   B       3 non-null      int64\n",
      "dtypes: int64(2)\n",
      "memory usage: 180.0 bytes\n"
     ]
    },
    {
     "data": {
      "text/html": [
       "<div>\n",
       "<style scoped>\n",
       "    .dataframe tbody tr th:only-of-type {\n",
       "        vertical-align: middle;\n",
       "    }\n",
       "\n",
       "    .dataframe tbody tr th {\n",
       "        vertical-align: top;\n",
       "    }\n",
       "\n",
       "    .dataframe thead th {\n",
       "        text-align: right;\n",
       "    }\n",
       "</style>\n",
       "<table border=\"1\" class=\"dataframe\">\n",
       "  <thead>\n",
       "    <tr style=\"text-align: right;\">\n",
       "      <th></th>\n",
       "      <th>A</th>\n",
       "      <th>B</th>\n",
       "    </tr>\n",
       "  </thead>\n",
       "  <tbody>\n",
       "    <tr>\n",
       "      <th>count</th>\n",
       "      <td>3.0</td>\n",
       "      <td>3.0</td>\n",
       "    </tr>\n",
       "    <tr>\n",
       "      <th>mean</th>\n",
       "      <td>2.0</td>\n",
       "      <td>5.0</td>\n",
       "    </tr>\n",
       "    <tr>\n",
       "      <th>std</th>\n",
       "      <td>1.0</td>\n",
       "      <td>1.0</td>\n",
       "    </tr>\n",
       "    <tr>\n",
       "      <th>min</th>\n",
       "      <td>1.0</td>\n",
       "      <td>4.0</td>\n",
       "    </tr>\n",
       "    <tr>\n",
       "      <th>25%</th>\n",
       "      <td>1.5</td>\n",
       "      <td>4.5</td>\n",
       "    </tr>\n",
       "    <tr>\n",
       "      <th>50%</th>\n",
       "      <td>2.0</td>\n",
       "      <td>5.0</td>\n",
       "    </tr>\n",
       "    <tr>\n",
       "      <th>75%</th>\n",
       "      <td>2.5</td>\n",
       "      <td>5.5</td>\n",
       "    </tr>\n",
       "    <tr>\n",
       "      <th>max</th>\n",
       "      <td>3.0</td>\n",
       "      <td>6.0</td>\n",
       "    </tr>\n",
       "  </tbody>\n",
       "</table>\n",
       "</div>"
      ],
      "text/plain": [
       "         A    B\n",
       "count  3.0  3.0\n",
       "mean   2.0  5.0\n",
       "std    1.0  1.0\n",
       "min    1.0  4.0\n",
       "25%    1.5  4.5\n",
       "50%    2.0  5.0\n",
       "75%    2.5  5.5\n",
       "max    3.0  6.0"
      ]
     },
     "execution_count": 34,
     "metadata": {},
     "output_type": "execute_result"
    }
   ],
   "source": [
    "df.head()                # First 5 rows\n",
    "df.tail(3)                # Last 3 rows\n",
    "df.info()                 # DataFrame info + datatypes\n",
    "df.describe()             # Summary statistics"
   ]
  },
  {
   "cell_type": "markdown",
   "id": "29a19040",
   "metadata": {},
   "source": [
    "3. Selecting Data"
   ]
  },
  {
   "cell_type": "code",
   "execution_count": 35,
   "id": "84eac235",
   "metadata": {},
   "outputs": [
    {
     "data": {
      "text/html": [
       "<div>\n",
       "<style scoped>\n",
       "    .dataframe tbody tr th:only-of-type {\n",
       "        vertical-align: middle;\n",
       "    }\n",
       "\n",
       "    .dataframe tbody tr th {\n",
       "        vertical-align: top;\n",
       "    }\n",
       "\n",
       "    .dataframe thead th {\n",
       "        text-align: right;\n",
       "    }\n",
       "</style>\n",
       "<table border=\"1\" class=\"dataframe\">\n",
       "  <thead>\n",
       "    <tr style=\"text-align: right;\">\n",
       "      <th></th>\n",
       "      <th>A</th>\n",
       "      <th>B</th>\n",
       "    </tr>\n",
       "  </thead>\n",
       "  <tbody>\n",
       "    <tr>\n",
       "      <th>1</th>\n",
       "      <td>2</td>\n",
       "      <td>5</td>\n",
       "    </tr>\n",
       "    <tr>\n",
       "      <th>2</th>\n",
       "      <td>3</td>\n",
       "      <td>6</td>\n",
       "    </tr>\n",
       "  </tbody>\n",
       "</table>\n",
       "</div>"
      ],
      "text/plain": [
       "   A  B\n",
       "1  2  5\n",
       "2  3  6"
      ]
     },
     "execution_count": 35,
     "metadata": {},
     "output_type": "execute_result"
    }
   ],
   "source": [
    "df['A']                   # Get column A\n",
    "df.loc[0]                 # Row by label (index 0)\n",
    "df.iloc[1:3]              # Rows 1-2 by position\n",
    "df[df['A'] > 1]           # Filter rows where A > 1"
   ]
  },
  {
   "cell_type": "markdown",
   "id": "a837a835",
   "metadata": {},
   "source": [
    "4. Adding/Dropping Columns"
   ]
  },
  {
   "cell_type": "code",
   "execution_count": 36,
   "id": "168301f3",
   "metadata": {},
   "outputs": [],
   "source": [
    "df['C'] = df['A'] + df['B']     # Add new column\n",
    "new_df = df.drop('B', axis=1)   # Drop column B"
   ]
  },
  {
   "cell_type": "markdown",
   "id": "f4877748",
   "metadata": {},
   "source": [
    "5. Missing Values & Types"
   ]
  },
  {
   "cell_type": "code",
   "execution_count": 37,
   "id": "aef9b727",
   "metadata": {},
   "outputs": [],
   "source": [
    "df.isnull().sum()               # Missing values per column\n",
    "df.fillna(0)                    # Replace NaNs with 0\n",
    "df['A'] = df['A'].astype(float) # Change column type"
   ]
  },
  {
   "cell_type": "markdown",
   "id": "22042fab",
   "metadata": {},
   "source": [
    "6. Grouping and Aggregation"
   ]
  },
  {
   "cell_type": "code",
   "execution_count": 38,
   "id": "5390b4ea",
   "metadata": {},
   "outputs": [
    {
     "data": {
      "text/plain": [
       "A\n",
       "1.0    1\n",
       "2.0    1\n",
       "3.0    1\n",
       "Name: count, dtype: int64"
      ]
     },
     "execution_count": 38,
     "metadata": {},
     "output_type": "execute_result"
    }
   ],
   "source": [
    "grouped = df.groupby('A').sum()   # Sum columns, grouped by values in A\n",
    "df['A'].value_counts()            # Count unique values in A"
   ]
  },
  {
   "cell_type": "markdown",
   "id": "cd371dc6",
   "metadata": {},
   "source": [
    "7. Sorting"
   ]
  },
  {
   "cell_type": "code",
   "execution_count": 39,
   "id": "15817940",
   "metadata": {},
   "outputs": [
    {
     "data": {
      "text/html": [
       "<div>\n",
       "<style scoped>\n",
       "    .dataframe tbody tr th:only-of-type {\n",
       "        vertical-align: middle;\n",
       "    }\n",
       "\n",
       "    .dataframe tbody tr th {\n",
       "        vertical-align: top;\n",
       "    }\n",
       "\n",
       "    .dataframe thead th {\n",
       "        text-align: right;\n",
       "    }\n",
       "</style>\n",
       "<table border=\"1\" class=\"dataframe\">\n",
       "  <thead>\n",
       "    <tr style=\"text-align: right;\">\n",
       "      <th></th>\n",
       "      <th>A</th>\n",
       "      <th>B</th>\n",
       "      <th>C</th>\n",
       "    </tr>\n",
       "  </thead>\n",
       "  <tbody>\n",
       "    <tr>\n",
       "      <th>2</th>\n",
       "      <td>3.0</td>\n",
       "      <td>6</td>\n",
       "      <td>9</td>\n",
       "    </tr>\n",
       "    <tr>\n",
       "      <th>1</th>\n",
       "      <td>2.0</td>\n",
       "      <td>5</td>\n",
       "      <td>7</td>\n",
       "    </tr>\n",
       "    <tr>\n",
       "      <th>0</th>\n",
       "      <td>1.0</td>\n",
       "      <td>4</td>\n",
       "      <td>5</td>\n",
       "    </tr>\n",
       "  </tbody>\n",
       "</table>\n",
       "</div>"
      ],
      "text/plain": [
       "     A  B  C\n",
       "2  3.0  6  9\n",
       "1  2.0  5  7\n",
       "0  1.0  4  5"
      ]
     },
     "execution_count": 39,
     "metadata": {},
     "output_type": "execute_result"
    }
   ],
   "source": [
    "df.sort_values('B', ascending=False)  # Sort by column B"
   ]
  },
  {
   "cell_type": "markdown",
   "id": "d83aeed5",
   "metadata": {},
   "source": [
    "8. Reading/Writing Files"
   ]
  },
  {
   "cell_type": "code",
   "execution_count": 40,
   "id": "2c3671c0",
   "metadata": {},
   "outputs": [
    {
     "data": {
      "text/html": [
       "<div>\n",
       "<style scoped>\n",
       "    .dataframe tbody tr th:only-of-type {\n",
       "        vertical-align: middle;\n",
       "    }\n",
       "\n",
       "    .dataframe tbody tr th {\n",
       "        vertical-align: top;\n",
       "    }\n",
       "\n",
       "    .dataframe thead th {\n",
       "        text-align: right;\n",
       "    }\n",
       "</style>\n",
       "<table border=\"1\" class=\"dataframe\">\n",
       "  <thead>\n",
       "    <tr style=\"text-align: right;\">\n",
       "      <th></th>\n",
       "      <th>Unnamed: 0</th>\n",
       "      <th>A</th>\n",
       "      <th>B</th>\n",
       "      <th>C</th>\n",
       "    </tr>\n",
       "  </thead>\n",
       "  <tbody>\n",
       "    <tr>\n",
       "      <th>0</th>\n",
       "      <td>0</td>\n",
       "      <td>1.0</td>\n",
       "      <td>4</td>\n",
       "      <td>5</td>\n",
       "    </tr>\n",
       "    <tr>\n",
       "      <th>1</th>\n",
       "      <td>1</td>\n",
       "      <td>2.0</td>\n",
       "      <td>5</td>\n",
       "      <td>7</td>\n",
       "    </tr>\n",
       "    <tr>\n",
       "      <th>2</th>\n",
       "      <td>2</td>\n",
       "      <td>3.0</td>\n",
       "      <td>6</td>\n",
       "      <td>9</td>\n",
       "    </tr>\n",
       "  </tbody>\n",
       "</table>\n",
       "</div>"
      ],
      "text/plain": [
       "   Unnamed: 0    A  B  C\n",
       "0           0  1.0  4  5\n",
       "1           1  2.0  5  7\n",
       "2           2  3.0  6  9"
      ]
     },
     "execution_count": 40,
     "metadata": {},
     "output_type": "execute_result"
    }
   ],
   "source": [
    "df.to_csv('mydata.csv') # Save to CSV\n",
    "df = pd.read_csv('mydata.csv') # Load from CSV\n",
    "df.head()"
   ]
  },
  {
   "cell_type": "markdown",
   "id": "817386c4",
   "metadata": {},
   "source": [
    "9. Apply/Map Functions"
   ]
  },
  {
   "cell_type": "code",
   "execution_count": 41,
   "id": "9ffbb228",
   "metadata": {},
   "outputs": [
    {
     "data": {
      "text/html": [
       "<div>\n",
       "<style scoped>\n",
       "    .dataframe tbody tr th:only-of-type {\n",
       "        vertical-align: middle;\n",
       "    }\n",
       "\n",
       "    .dataframe tbody tr th {\n",
       "        vertical-align: top;\n",
       "    }\n",
       "\n",
       "    .dataframe thead th {\n",
       "        text-align: right;\n",
       "    }\n",
       "</style>\n",
       "<table border=\"1\" class=\"dataframe\">\n",
       "  <thead>\n",
       "    <tr style=\"text-align: right;\">\n",
       "      <th></th>\n",
       "      <th>Unnamed: 0</th>\n",
       "      <th>A</th>\n",
       "      <th>B</th>\n",
       "      <th>C</th>\n",
       "      <th>A_squared</th>\n",
       "      <th>B_label</th>\n",
       "    </tr>\n",
       "  </thead>\n",
       "  <tbody>\n",
       "    <tr>\n",
       "      <th>0</th>\n",
       "      <td>0</td>\n",
       "      <td>1.0</td>\n",
       "      <td>4</td>\n",
       "      <td>5</td>\n",
       "      <td>1.0</td>\n",
       "      <td>Low</td>\n",
       "    </tr>\n",
       "    <tr>\n",
       "      <th>1</th>\n",
       "      <td>1</td>\n",
       "      <td>2.0</td>\n",
       "      <td>5</td>\n",
       "      <td>7</td>\n",
       "      <td>4.0</td>\n",
       "      <td>Med</td>\n",
       "    </tr>\n",
       "    <tr>\n",
       "      <th>2</th>\n",
       "      <td>2</td>\n",
       "      <td>3.0</td>\n",
       "      <td>6</td>\n",
       "      <td>9</td>\n",
       "      <td>9.0</td>\n",
       "      <td>High</td>\n",
       "    </tr>\n",
       "  </tbody>\n",
       "</table>\n",
       "</div>"
      ],
      "text/plain": [
       "   Unnamed: 0    A  B  C  A_squared B_label\n",
       "0           0  1.0  4  5        1.0     Low\n",
       "1           1  2.0  5  7        4.0     Med\n",
       "2           2  3.0  6  9        9.0    High"
      ]
     },
     "execution_count": 41,
     "metadata": {},
     "output_type": "execute_result"
    }
   ],
   "source": [
    "df['A_squared'] = df['A'].apply(lambda x: x**2) # Apply to column\n",
    "df['B_label'] = df['B'].map({4: 'Low', 5: 'Med', 6: 'High'}) # Map values\n",
    "df.sample(3)"
   ]
  },
  {
   "cell_type": "markdown",
   "id": "e350a372",
   "metadata": {},
   "source": [
    "### Task:"
   ]
  },
  {
   "cell_type": "markdown",
   "id": "b9383e56",
   "metadata": {},
   "source": [
    "- Generated a Synthetic Dataset with columns of `age`, `salary`, `department`, `years_experience`, and `is_manager`."
   ]
  },
  {
   "cell_type": "code",
   "execution_count": 42,
   "id": "e5f21c72",
   "metadata": {},
   "outputs": [],
   "source": [
    "np.random.seed(42) # For reproducibility\n",
    "n_samples = 100 # Number of samples\n",
    "\n",
    "data = {\n",
    "    'age': np.random.randint(18, 60, size=n_samples),\n",
    "    'salary': np.random.randint(30000, 120000, size=n_samples),\n",
    "    'department': np.random.choice(['IT', 'HR', 'Finance', 'Marketing'], size=n_samples),\n",
    "    'years_experience': np.round(np.random.normal(5, 2, size=n_samples), 1),\n",
    "    'is_manager': np.random.choice([0, 1], size=n_samples)\n",
    "}\n",
    "df = pd.DataFrame(data)"
   ]
  },
  {
   "cell_type": "markdown",
   "id": "72aeed2a",
   "metadata": {},
   "source": [
    "Q1. View data structure"
   ]
  },
  {
   "cell_type": "code",
   "execution_count": null,
   "id": "88704bcf",
   "metadata": {},
   "outputs": [],
   "source": []
  },
  {
   "cell_type": "markdown",
   "id": "776e67b9",
   "metadata": {},
   "source": [
    "Q2. Get DataFrame Info and Summary Stats"
   ]
  },
  {
   "cell_type": "code",
   "execution_count": null,
   "id": "17666094",
   "metadata": {},
   "outputs": [],
   "source": []
  },
  {
   "cell_type": "markdown",
   "id": "4aeb350a",
   "metadata": {},
   "source": [
    "Q3. Do Simple Numpy Operations"
   ]
  },
  {
   "cell_type": "code",
   "execution_count": null,
   "id": "e12ace25",
   "metadata": {},
   "outputs": [],
   "source": []
  },
  {
   "cell_type": "markdown",
   "id": "fac51bba",
   "metadata": {},
   "source": [
    "Q4. Filtering and Indexing Rows"
   ]
  },
  {
   "cell_type": "code",
   "execution_count": null,
   "id": "de6f3d49",
   "metadata": {},
   "outputs": [],
   "source": []
  },
  {
   "cell_type": "markdown",
   "id": "2257f028",
   "metadata": {},
   "source": [
    "Q5. Adding a Column"
   ]
  },
  {
   "cell_type": "code",
   "execution_count": null,
   "id": "c46ad19f",
   "metadata": {},
   "outputs": [],
   "source": []
  },
  {
   "cell_type": "markdown",
   "id": "65d7044c",
   "metadata": {},
   "source": [
    "Q6. Grouping and Aggregation"
   ]
  },
  {
   "cell_type": "code",
   "execution_count": null,
   "id": "a046b7d7",
   "metadata": {},
   "outputs": [],
   "source": []
  }
 ],
 "metadata": {
  "kernelspec": {
   "display_name": "Python 3",
   "language": "python",
   "name": "python3"
  },
  "language_info": {
   "codemirror_mode": {
    "name": "ipython",
    "version": 3
   },
   "file_extension": ".py",
   "mimetype": "text/x-python",
   "name": "python",
   "nbconvert_exporter": "python",
   "pygments_lexer": "ipython3",
   "version": "3.11.9"
  }
 },
 "nbformat": 4,
 "nbformat_minor": 5
}
